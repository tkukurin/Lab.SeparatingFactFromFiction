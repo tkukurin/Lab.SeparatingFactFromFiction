{
 "cells": [
  {
   "cell_type": "code",
   "execution_count": 3,
   "metadata": {
    "collapsed": true
   },
   "outputs": [],
   "source": [
    "import tensorflow as tf"
   ]
  },
  {
   "cell_type": "code",
   "execution_count": 5,
   "metadata": {},
   "outputs": [
    {
     "name": "stdout",
     "output_type": "stream",
     "text": [
      "binary_tweets.csv      parsed_start_462.json  tweets_parsed_2.json\r\n",
      "first_scrape.json      README.md              tweets_parsed.json\r\n",
      "multiclass_tweets.csv  tweets.json\r\n",
      "parsed_start_0.json    tweets_normalized.txt\r\n"
     ]
    }
   ],
   "source": [
    "%ls data"
   ]
  },
  {
   "cell_type": "code",
   "execution_count": 21,
   "metadata": {},
   "outputs": [],
   "source": [
    "import pandas as pd\n",
    "df = pd.read_json('data/parsed_start_0.json')"
   ]
  },
  {
   "cell_type": "code",
   "execution_count": 57,
   "metadata": {},
   "outputs": [
    {
     "data": {
      "text/plain": [
       "116882"
      ]
     },
     "execution_count": 57,
     "metadata": {},
     "output_type": "execute_result"
    }
   ],
   "source": [
    "len(df.dropna(subset=['output']))"
   ]
  },
  {
   "cell_type": "code",
   "execution_count": 63,
   "metadata": {},
   "outputs": [
    {
     "name": "stdout",
     "output_type": "stream",
     "text": [
      "True\n"
     ]
    }
   ],
   "source": [
    "print(len(df[df['output'].isnull()]) == len(df[df['output'].isnull() & df['input'].isnull()]))\n",
    "df = df.dropna()"
   ]
  },
  {
   "cell_type": "code",
   "execution_count": 89,
   "metadata": {},
   "outputs": [],
   "source": [
    "def dict_get(key):\n",
    "  if isinstance(key, str):\n",
    "    return lambda i: i[key]\n",
    "  return lambda i: [v for k, v in i.items() if k in key]\n",
    "\n",
    "as_list = lambda v: v if isinstance(v, list) else [v]\n",
    "def dict_filter(key):\n",
    "  key = as_list(key)\n",
    "  return lambda i: dict(filter(lambda kv: kv[0] in key, i.items()))\n",
    "\n",
    "df_text = dict_get('input')\n",
    "df_parse = dict_get('output')\n",
    "\n",
    "out_word = dict_get('word')\n",
    "out_pos = dict_get('pos_tag')"
   ]
  },
  {
   "cell_type": "code",
   "execution_count": 90,
   "metadata": {},
   "outputs": [
    {
     "data": {
      "text/plain": [
       "{'category': '', 'dep': 'advmod'}"
      ]
     },
     "execution_count": 90,
     "metadata": {},
     "output_type": "execute_result"
    }
   ],
   "source": [
    "dict_filter(['category', 'dep'])(df_parse(df.iloc[0])[0])"
   ]
  }
 ],
 "metadata": {
  "kernelspec": {
   "display_name": "Python 3",
   "language": "python",
   "name": "python3"
  },
  "language_info": {
   "codemirror_mode": {
    "name": "ipython",
    "version": 3
   },
   "file_extension": ".py",
   "mimetype": "text/x-python",
   "name": "python",
   "nbconvert_exporter": "python",
   "pygments_lexer": "ipython3",
   "version": "3.6.4"
  }
 },
 "nbformat": 4,
 "nbformat_minor": 2
}
