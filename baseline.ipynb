{
 "cells": [
  {
   "cell_type": "markdown",
   "metadata": {},
   "source": [
    "# Gensim/Tfidf\n",
    "Gensim: 200-dim vectors, 15 epochs\n",
    "\n",
    "## Usage\n",
    "* [Doc2Vec tutorial](https://github.com/RaRe-Technologies/gensim/blob/develop/docs/notebooks/doc2vec-lee.ipynb)"
   ]
  },
  {
   "cell_type": "code",
   "execution_count": 6,
   "metadata": {
    "collapsed": true
   },
   "outputs": [],
   "source": [
    "%load_ext autoreload\n",
    "%autoreload 2"
   ]
  },
  {
   "cell_type": "code",
   "execution_count": 20,
   "metadata": {
    "collapsed": true
   },
   "outputs": [],
   "source": [
    "from util import const, reader\n",
    "import gensim\n",
    "import sklearn.feature_extraction as sk_fe\n",
    "import nltk"
   ]
  },
  {
   "cell_type": "code",
   "execution_count": 8,
   "metadata": {
    "collapsed": true
   },
   "outputs": [],
   "source": [
    "fm_baseline = const.FileManager(prefix='baseline-')"
   ]
  },
  {
   "cell_type": "code",
   "execution_count": 9,
   "metadata": {
    "collapsed": true
   },
   "outputs": [],
   "source": [
    "model_loc = str(fm_baseline.model('gensim_200.model'))\n",
    "load_model = True \n",
    "\n",
    "\n",
    "def read_corpus(fname):\n",
    "  with open(fname) as f:\n",
    "    for i, line in enumerate(f):\n",
    "      yield gensim.models.doc2vec.TaggedDocument(\n",
    "        gensim.utils.simple_preprocess(line), [i])\n",
    "\n",
    "      \n",
    "def construct_doc2vec_model(data_loc, model_loc):\n",
    "  corpus = read_corpus(data_loc)\n",
    "  model = gensim.models.Doc2Vec(\n",
    "    corpus, size=200, workers=4, seed=const.SEED, iter=15)\n",
    "  model.save(model_loc)\n",
    "  return model\n",
    "\n",
    "\n",
    "#d2v_model = gensim.models.Doc2Vec.load(model_loc) if load_model\\\n",
    "#  else construct_doc2vec_model(const.Path.TWEETS_RAW_TEXT, model_loc)"
   ]
  },
  {
   "cell_type": "code",
   "execution_count": 222,
   "metadata": {
    "collapsed": true
   },
   "outputs": [],
   "source": [
    "%%capture\n",
    "tfidf_vectorizer = sk_fe.text.TfidfVectorizer(\n",
    "  stop_words=sk_fe.stop_words.ENGLISH_STOP_WORDS)\n",
    "# content_tfidf = tfidf_vectorizer.fit_transform(df.input)\n",
    "#  reader.stream_lines(const.FileManager.TWEETS_RAW_TEXT))"
   ]
  },
  {
   "cell_type": "code",
   "execution_count": 10,
   "metadata": {},
   "outputs": [
    {
     "name": "stdout",
     "output_type": "stream",
     "text": [
      "CPU times: user 54.2 s, sys: 1.91 s, total: 56.1 s\n",
      "Wall time: 57.1 s\n"
     ]
    }
   ],
   "source": [
    "%time df = reader.load_df()"
   ]
  },
  {
   "cell_type": "code",
   "execution_count": 11,
   "metadata": {},
   "outputs": [
    {
     "name": "stdout",
     "output_type": "stream",
     "text": [
      "['index',\n",
      " 'input',\n",
      " 'output',\n",
      " 'children',\n",
      " 'created_at',\n",
      " 'favorite_count',\n",
      " 'id',\n",
      " 'label',\n",
      " 'media',\n",
      " 'parents',\n",
      " 'reply_count',\n",
      " 'retweet_count',\n",
      " 'user_handle',\n",
      " 'user_id',\n",
      " 'user_is_verified',\n",
      " 'user_name',\n",
      " 'body_atreplies',\n",
      " 'body_content',\n",
      " 'body_hashtags',\n",
      " 'body_links']\n"
     ]
    }
   ],
   "source": [
    "from pprint import pprint\n",
    "pprint(list(df.keys()))"
   ]
  },
  {
   "cell_type": "code",
   "execution_count": 16,
   "metadata": {
    "collapsed": true
   },
   "outputs": [],
   "source": [
    "%%capture\n",
    "\n",
    "import sklearn as sk\n",
    "import sklearn.model_selection\n",
    "import numpy as np\n",
    "import logging\n",
    "import sklearn as s\n",
    "import sklearn.pipeline\n",
    "import logging\n",
    "from collections import namedtuple\n",
    "from util import logutil, evaluate\n",
    "logutil.ignore_warnings()\n",
    "\n",
    "kfolder = sk.model_selection.KFold(\n",
    "  n_splits=5, shuffle=True, random_state=const.SEED)\n",
    "\n",
    "log = logging.getLogger(__name__)\n",
    "log.setLevel(logging.DEBUG)\n",
    "\n",
    "X = np.array(df.input)\n",
    "y = np.array(df.label)\n",
    "\n",
    "lr_tfidf = sk.linear_model.LogisticRegression()\n",
    "tfidf_vectorizer = sk_fe.text.TfidfVectorizer(\n",
    "  stop_words=sk_fe.stop_words.ENGLISH_STOP_WORDS)\n",
    "\n",
    "tfidf_pipeline = sk.pipeline.make_pipeline(tfidf_vectorizer, lr_tfidf)"
   ]
  },
  {
   "cell_type": "code",
   "execution_count": 21,
   "metadata": {},
   "outputs": [
    {
     "name": "stderr",
     "output_type": "stream",
     "text": [
      "DEBUG:__main__:[0.82284228 0.81663329 0.82408242 0.82354895 0.82273016]\n",
      "DEBUG:__main__:[0.74690431 0.73783742 0.74452101 0.74544041 0.74621762]\n",
      "DEBUG:__main__:[0.8481869  0.83602701 0.84671611 0.84578432 0.84645574]\n"
     ]
    },
    {
     "data": {
      "text/plain": [
       "[('roc_auc',\n",
       "  array([0.82284228, 0.81663329, 0.82408242, 0.82354895, 0.82273016])),\n",
       " ('accuracy',\n",
       "  array([0.74690431, 0.73783742, 0.74452101, 0.74544041, 0.74621762])),\n",
       " ('average_precision',\n",
       "  array([0.8481869 , 0.83602701, 0.84671611, 0.84578432, 0.84645574]))]"
      ]
     },
     "execution_count": 21,
     "metadata": {},
     "output_type": "execute_result"
    }
   ],
   "source": [
    "def pipeline_cross_eval(pipeline, scorings):\n",
    "  for scoring in scorings:\n",
    "    eval_ = sk.model_selection.cross_val_score(\n",
    "      pipeline, X, y, cv=kfolder.split(X), scoring=scoring)\n",
    "    log.debug(eval_)\n",
    "    yield (scoring, eval_)\n",
    "\n",
    "list(pipeline_cross_eval(tfidf_pipeline, const.binary_metrics))"
   ]
  },
  {
   "cell_type": "code",
   "execution_count": 24,
   "metadata": {
    "collapsed": true
   },
   "outputs": [],
   "source": [
    "class Doc2Vec(sklearn.pipeline.TransformerMixin):\n",
    "  def __init__(self):\n",
    "    self.model = None\n",
    "  \n",
    "  def corpus(self, X):\n",
    "    for i, line in enumerate(X):\n",
    "      yield gensim.models.doc2vec.TaggedDocument(\n",
    "        gensim.utils.simple_preprocess(line), [i])\n",
    "      \n",
    "  def fit(self, X, y):\n",
    "    self.model = gensim.models.Doc2Vec(\n",
    "      list(self.corpus(X)), size=200, workers=4, seed=const.SEED, iter=15)\n",
    "    return self\n",
    "  \n",
    "  def transform(self, X):\n",
    "    return np.array([self.model.infer_vector(v) for v in X])\n",
    "\n",
    "lr_doc2vec = sk.linear_model.LogisticRegression()\n",
    "doc2vec = Doc2Vec()\n",
    "doc2vec_pipeline = sk.pipeline.make_pipeline(doc2vec, lr_doc2vec)"
   ]
  },
  {
   "cell_type": "code",
   "execution_count": 25,
   "metadata": {},
   "outputs": [
    {
     "name": "stderr",
     "output_type": "stream",
     "text": [
      "DEBUG:__main__:[0.49700495 0.49595984 0.49878844 0.4970073  0.49308227]\n",
      "DEBUG:__main__:[0.55478991 0.54111186 0.54401326 0.54751295 0.55150259]\n",
      "DEBUG:__main__:[0.55058566 0.53957753 0.54379852 0.54195819 0.54683085]\n"
     ]
    },
    {
     "data": {
      "text/plain": [
       "[('roc_auc',\n",
       "  array([0.49700495, 0.49595984, 0.49878844, 0.4970073 , 0.49308227])),\n",
       " ('accuracy',\n",
       "  array([0.55478991, 0.54111186, 0.54401326, 0.54751295, 0.55150259])),\n",
       " ('average_precision',\n",
       "  array([0.55058566, 0.53957753, 0.54379852, 0.54195819, 0.54683085]))]"
      ]
     },
     "execution_count": 25,
     "metadata": {},
     "output_type": "execute_result"
    }
   ],
   "source": [
    "gensim.logger.setLevel(logging.ERROR)\n",
    "\n",
    "list(pipeline_cross_eval(doc2vec_pipeline, const.binary_metrics))"
   ]
  }
 ],
 "metadata": {
  "kernelspec": {
   "display_name": "Python 3",
   "language": "python",
   "name": "python3"
  },
  "language_info": {
   "codemirror_mode": {
    "name": "ipython",
    "version": 3
   },
   "file_extension": ".py",
   "mimetype": "text/x-python",
   "name": "python",
   "nbconvert_exporter": "python",
   "pygments_lexer": "ipython3",
   "version": "3.6.5"
  }
 },
 "nbformat": 4,
 "nbformat_minor": 2
}
