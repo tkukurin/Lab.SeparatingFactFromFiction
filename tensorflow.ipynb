{
 "cells": [
  {
   "cell_type": "code",
   "execution_count": 2,
   "metadata": {},
   "outputs": [
    {
     "name": "stderr",
     "output_type": "stream",
     "text": [
      "Using TensorFlow backend.\n"
     ]
    }
   ],
   "source": [
    "import tensorflow as tf\n",
    "import keras"
   ]
  },
  {
   "cell_type": "markdown",
   "metadata": {},
   "source": [
    "# Training process\n",
    "We train our models for 10 epochs using the ADAM optimization algorithm, and evaluate them using 10 fold crossvalidation.\n",
    "\n",
    "# Model\n",
    "### Extract\n",
    "* hedges\n",
    "* assertive verbs\n",
    "* factive verbs\n",
    "* implicative verbs\n",
    "* report verbs\n",
    "\n",
    "### Subjectivity cues\n",
    "* positive / negative opinion lexicons\n",
    "* positive / negative opinion words\n",
    "\n",
    "### Psycholinguistic cues\n",
    "* LIWC features\n",
    "\n",
    "### Moral foundation cues"
   ]
  },
  {
   "cell_type": "code",
   "execution_count": 39,
   "metadata": {},
   "outputs": [],
   "source": [
    "#ys_left = keras.Sequential()\n",
    "#ys_left.add(keras.layers.Dense(100, input_shape=(200,1)))\n",
    "#ys_left.add(keras.layers.Dense(100, ))\n",
    "\n",
    "#ys_right = keras.Sequential()\n",
    "#ys_right.add(keras.layers.Conv1D(2, 20, input_shape=(200, 1)))\n",
    "#ys_right.add(keras.layers.MaxPool1D())\n",
    "#ys_right.add(keras.layers.Dense(100, ))\n",
    "\n",
    "xs_left = keras.Input(shape=(200,))\n",
    "ys_left = keras.layers.Dense(100)(xs_left)\n",
    "ys_left = keras.layers.Dense(100, )(ys_left)\n",
    "\n",
    "xs_right = keras.Input(shape=(200, 2))\n",
    "ys_right = keras.layers.Conv1D(2, 20)(xs_right)\n",
    "ys_right = keras.layers.MaxPool1D()(ys_right)\n",
    "ys_right = keras.layers.Flatten()(ys_right)\n",
    "ys_right = keras.layers.Dense(100, )(ys_right)\n",
    "\n",
    "ys_merged = keras.layers.concatenate([ys_left, ys_right])\n",
    "ys_out = keras.layers.Dense(100)(ys_merged)\n",
    "model = keras.Model(\n",
    "  inputs=[xs_left, xs_right], outputs=ys_merged)"
   ]
  },
  {
   "cell_type": "code",
   "execution_count": 40,
   "metadata": {
    "collapsed": true
   },
   "outputs": [],
   "source": [
    "optimizer = keras.optimizers.Adam(lr=0.001, beta_1=0.9, beta_2=0.999)\n",
    "model.compile(\n",
    "  optimizer, \n",
    "  loss=keras.losses.categorical_crossentropy,\n",
    "  metrics=['accuracy'])"
   ]
  },
  {
   "cell_type": "code",
   "execution_count": null,
   "metadata": {
    "collapsed": true
   },
   "outputs": [],
   "source": [
    "model.fit(x=None, y=None, batch_size=128, epochs=10)"
   ]
  }
 ],
 "metadata": {
  "kernelspec": {
   "display_name": "Python 3",
   "language": "python",
   "name": "python3"
  },
  "language_info": {
   "codemirror_mode": {
    "name": "ipython",
    "version": 3
   },
   "file_extension": ".py",
   "mimetype": "text/x-python",
   "name": "python",
   "nbconvert_exporter": "python",
   "pygments_lexer": "ipython3",
   "version": "3.6.5"
  }
 },
 "nbformat": 4,
 "nbformat_minor": 2
}
