{
 "cells": [
  {
   "cell_type": "markdown",
   "metadata": {},
   "source": [
    "# Gensim\n",
    "They use Gensim as a baseline (200-dim vectors, 15 epochs).\n",
    "## Usage\n",
    "* [Doc2Vec tutorial](https://github.com/RaRe-Technologies/gensim/blob/develop/docs/notebooks/doc2vec-lee.ipynb)"
   ]
  },
  {
   "cell_type": "code",
   "execution_count": 5,
   "metadata": {},
   "outputs": [
    {
     "name": "stdout",
     "output_type": "stream",
     "text": [
      "The autoreload extension is already loaded. To reload it, use:\n",
      "  %reload_ext autoreload\n"
     ]
    }
   ],
   "source": [
    "%load_ext autoreload\n",
    "%autoreload 2"
   ]
  },
  {
   "cell_type": "code",
   "execution_count": 47,
   "metadata": {},
   "outputs": [],
   "source": [
    "from util import const, reader\n",
    "import gensim\n",
    "import sklearn.feature_extraction as sk_fe\n",
    "import nltk"
   ]
  },
  {
   "cell_type": "code",
   "execution_count": 56,
   "metadata": {},
   "outputs": [],
   "source": [
    "model_loc = const.Path.model('gensim_200.model')\n",
    "read_model = True\n",
    "\n",
    "def construct_doc2vec_model(data_loc, model_loc):\n",
    "  def read_corpus(fname):\n",
    "    with open(fname) as f:\n",
    "      for i, line in enumerate(f):\n",
    "        yield gensim.models.doc2vec.TaggedDocument(\n",
    "          gensim.utils.simple_preprocess(line), [i])\n",
    "\n",
    "  corpus = read_corpus(data_loc)\n",
    "  model = gensim.models.Doc2Vec(\n",
    "    corpus, size=200, workers=4, seed=const.SEED, iter=15)\n",
    "  model.save(model_loc)\n",
    "  return model\n",
    "\n",
    "model = gensim.models.Doc2Vec.load(model_loc) if read_model\\\n",
    "  else construct_doc2vec_model(const.Path.TWEETS_RAW_TEXT, model_loc)"
   ]
  },
  {
   "cell_type": "code",
   "execution_count": 54,
   "metadata": {},
   "outputs": [],
   "source": [
    "%%capture\n",
    "tfidf_vectorizer = sk_fe.text.TfidfVectorizer(stop_words=nltk.stop_words)\n",
    "content_transformed = tfidf_vectorizer.fit_transform(\n",
    "  reader.stream_lines(const.Path.TWEETS_RAW_TEXT))"
   ]
  },
  {
   "cell_type": "code",
   "execution_count": 55,
   "metadata": {},
   "outputs": [
    {
     "data": {
      "text/plain": [
       "matrix([[0.05193561, 0.34069949, 0.25497813, 0.2281689 , 0.35103557,\n",
       "         0.11534646, 0.26594234, 0.2824803 , 0.19419119, 0.33055714,\n",
       "         0.48087059, 0.10842513, 0.28861267, 0.06190617]])"
      ]
     },
     "execution_count": 55,
     "metadata": {},
     "output_type": "execute_result"
    }
   ],
   "source": [
    "fst = content_transformed[0]\n",
    "fst[fst.nonzero()]"
   ]
  }
 ],
 "metadata": {
  "kernelspec": {
   "display_name": "Python 3",
   "language": "python",
   "name": "python3"
  },
  "language_info": {
   "codemirror_mode": {
    "name": "ipython",
    "version": 3
   },
   "file_extension": ".py",
   "mimetype": "text/x-python",
   "name": "python",
   "nbconvert_exporter": "python",
   "pygments_lexer": "ipython3",
   "version": "3.6.4"
  }
 },
 "nbformat": 4,
 "nbformat_minor": 2
}
