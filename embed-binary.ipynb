{
 "cells": [
  {
   "cell_type": "code",
   "execution_count": 1,
   "metadata": {},
   "outputs": [],
   "source": [
    "%load_ext autoreload\n",
    "%autoreload 2"
   ]
  },
  {
   "cell_type": "code",
   "execution_count": 2,
   "metadata": {},
   "outputs": [
    {
     "name": "stderr",
     "output_type": "stream",
     "text": [
      "WARNING:root:Expected /Users/toni/Documents/faks/seminar/models, but was not found\n"
     ]
    }
   ],
   "source": [
    "from util import gloveutil, const"
   ]
  },
  {
   "cell_type": "code",
   "execution_count": 3,
   "metadata": {},
   "outputs": [],
   "source": [
    "fm = const.FileManager()\n",
    "glove_200 = gloveutil.load_glove(fm.GLOVE_200)"
   ]
  },
  {
   "cell_type": "code",
   "execution_count": 4,
   "metadata": {},
   "outputs": [],
   "source": [
    "from util import reader\n",
    "df = reader.load_df()"
   ]
  },
  {
   "cell_type": "code",
   "execution_count": 5,
   "metadata": {},
   "outputs": [],
   "source": [
    "maxlen = 30\n",
    "nwords = 10000\n",
    "embedding_dim = 200"
   ]
  },
  {
   "cell_type": "code",
   "execution_count": 6,
   "metadata": {},
   "outputs": [
    {
     "name": "stderr",
     "output_type": "stream",
     "text": [
      "/usr/local/lib/python3.6/site-packages/h5py/__init__.py:36: FutureWarning: Conversion of the second argument of issubdtype from `float` to `np.floating` is deprecated. In future, it will be treated as `np.float64 == np.dtype(float).type`.\n",
      "  from ._conv import register_converters as _register_converters\n",
      "Using TensorFlow backend.\n"
     ]
    }
   ],
   "source": [
    "from sklearn.model_selection import train_test_split\n",
    "import keras.preprocessing.text as Ktext\n",
    "import keras.preprocessing.sequence as Kseq\n",
    "\n",
    "xs = df.body_content\n",
    "tokenizer = Ktext.Tokenizer(num_words=nwords)\n",
    "tokenizer.fit_on_texts(xs)\n",
    "xs_seq = Kseq.pad_sequences(\n",
    "    tokenizer.texts_to_sequences(xs), maxlen=maxlen)"
   ]
  },
  {
   "cell_type": "code",
   "execution_count": 7,
   "metadata": {},
   "outputs": [],
   "source": [
    "import numpy as np\n",
    "model_2_dim = 20\n",
    "\n",
    "x_train = xs_seq\n",
    "x_train_2 = np.zeros((xs_seq.shape[0], model_2_dim))\n",
    "y_train = df.label.values"
   ]
  },
  {
   "cell_type": "code",
   "execution_count": 8,
   "metadata": {},
   "outputs": [],
   "source": [
    "df.body_atreplies = df.body_atreplies.apply(lambda r: r if isinstance(r, list) else [])"
   ]
  },
  {
   "cell_type": "code",
   "execution_count": 9,
   "metadata": {},
   "outputs": [
    {
     "data": {
      "text/html": [
       "<div>\n",
       "<style scoped>\n",
       "    .dataframe tbody tr th:only-of-type {\n",
       "        vertical-align: middle;\n",
       "    }\n",
       "\n",
       "    .dataframe tbody tr th {\n",
       "        vertical-align: top;\n",
       "    }\n",
       "\n",
       "    .dataframe thead th {\n",
       "        text-align: right;\n",
       "    }\n",
       "</style>\n",
       "<table border=\"1\" class=\"dataframe\">\n",
       "  <thead>\n",
       "    <tr style=\"text-align: right;\">\n",
       "      <th></th>\n",
       "      <th>children</th>\n",
       "      <th>created_at</th>\n",
       "      <th>favorite_count</th>\n",
       "      <th>id</th>\n",
       "      <th>label</th>\n",
       "      <th>media</th>\n",
       "      <th>parents</th>\n",
       "      <th>reply_count</th>\n",
       "      <th>retweet_count</th>\n",
       "      <th>user_handle</th>\n",
       "      <th>user_id</th>\n",
       "      <th>user_is_verified</th>\n",
       "      <th>user_name</th>\n",
       "      <th>body_atreplies</th>\n",
       "      <th>body_content</th>\n",
       "      <th>body_hashtags</th>\n",
       "      <th>body_links</th>\n",
       "    </tr>\n",
       "  </thead>\n",
       "  <tbody>\n",
       "  </tbody>\n",
       "</table>\n",
       "</div>"
      ],
      "text/plain": [
       "Empty DataFrame\n",
       "Columns: [children, created_at, favorite_count, id, label, media, parents, reply_count, retweet_count, user_handle, user_id, user_is_verified, user_name, body_atreplies, body_content, body_hashtags, body_links]\n",
       "Index: []"
      ]
     },
     "execution_count": 9,
     "metadata": {},
     "output_type": "execute_result"
    }
   ],
   "source": [
    "df[[type(r) != list for r in df.body_atreplies]]"
   ]
  },
  {
   "cell_type": "code",
   "execution_count": 10,
   "metadata": {},
   "outputs": [
    {
     "data": {
      "text/plain": [
       "26324"
      ]
     },
     "execution_count": 10,
     "metadata": {},
     "output_type": "execute_result"
    }
   ],
   "source": [
    "user_index = dict()\n",
    "i = 0\n",
    "for atreplies in df.body_atreplies:\n",
    "    for atreply in filter(lambda x: x not in user_index, atreplies):\n",
    "        user_index[atreply] = i\n",
    "        i += 1\n",
    "len(user_index)"
   ]
  },
  {
   "cell_type": "code",
   "execution_count": 11,
   "metadata": {},
   "outputs": [],
   "source": [
    "users_matrix = np.zeros((len(df), len(user_index)))\n",
    "for row, v in enumerate(df.body_atreplies.head()):\n",
    "    for user in v:\n",
    "        users_matrix[row, user_index[user]] = 1"
   ]
  },
  {
   "cell_type": "code",
   "execution_count": 16,
   "metadata": {
    "scrolled": true
   },
   "outputs": [
    {
     "name": "stdout",
     "output_type": "stream",
     "text": [
      "@business A Korean-American man detained in North Korea has reportedly confessed to trying... http://goo.gl/fb/0KGMKc \n",
      "[   0    0    0    0    0    0    0    0    0    0    0    0    0   96\n",
      "    9 2532  314  186 3320    6  424  664   68 2197    4  843    2  255\n",
      "  256  178]\n",
      "['business']\n",
      "(101338, 26324)\n"
     ]
    }
   ],
   "source": [
    "print(xs.iloc[0])\n",
    "print(xs_seq[0])\n",
    "print([k for k, v in tokenizer.word_index.items() if v == 96])\n",
    "print(users_matrix.shape)"
   ]
  },
  {
   "cell_type": "code",
   "execution_count": 18,
   "metadata": {},
   "outputs": [],
   "source": [
    "from keras.layers import Input, Embedding, Layer\n",
    "from keras.models import Model\n",
    "\n",
    "embedding_matrix = gloveutil.glove_to_embedding_matrix(\n",
    "    glove_200, tokenizer.word_index)\n",
    "X = Input(shape=(maxlen, ))\n",
    "embed = Embedding(\n",
    "  len(tokenizer.word_index), embedding_dim, weights=[embedding_matrix],\n",
    "  input_length=maxlen, trainable=False)"
   ]
  },
  {
   "cell_type": "code",
   "execution_count": 24,
   "metadata": {},
   "outputs": [],
   "source": [
    "import keras.layers as Klay\n",
    "import keras.regularizers as Kreg\n",
    "from keras import Sequential\n",
    "\n",
    "model_seq = Sequential([\n",
    "    embed,\n",
    "    #Klay.Conv1D(filters=100, kernel_size=5, padding='same'),\n",
    "    #Klay.MaxPool1D(pool_size=2),\n",
    "    #Klay.Conv1D(filters=100, kernel_size=5, padding='same'),\n",
    "    Klay.LSTM(100),\n",
    "    #Klay.Flatten(),\n",
    "    Klay.Dense(100, activation='relu'),\n",
    "])\n",
    "\n",
    "model_seq2 = Sequential([\n",
    "    Klay.Dense(100, input_shape=(users_matrix.shape[1],)),\n",
    "    Klay.Dense(100)\n",
    "])\n",
    "\n",
    "concat = Klay.concatenate([model_seq.output, model_seq2.output])\n",
    "Y = Klay.Dense(4, activation='sigmoid')(concat)\n",
    "model_combined = Model([model_seq.input, model_seq2.input], Y)"
   ]
  },
  {
   "cell_type": "code",
   "execution_count": 25,
   "metadata": {},
   "outputs": [
    {
     "name": "stdout",
     "output_type": "stream",
     "text": [
      "Train on 81070 samples, validate on 20268 samples\n",
      "Epoch 1/10\n",
      "81070/81070 [==============================] - 159s 2ms/step - loss: 0.2290 - acc: 0.9032 - val_loss: 1.1961 - val_acc: 0.4883\n",
      "Epoch 2/10\n",
      "81070/81070 [==============================] - 170s 2ms/step - loss: 0.1488 - acc: 0.9404 - val_loss: 1.1515 - val_acc: 0.6000\n",
      "Epoch 3/10\n",
      "81070/81070 [==============================] - 152s 2ms/step - loss: 0.1287 - acc: 0.9483 - val_loss: 1.2875 - val_acc: 0.5633\n",
      "Epoch 4/10\n",
      "81070/81070 [==============================] - 167s 2ms/step - loss: 0.1137 - acc: 0.9526 - val_loss: 1.4613 - val_acc: 0.5237\n",
      "Epoch 5/10\n",
      "81070/81070 [==============================] - 173s 2ms/step - loss: 0.1008 - acc: 0.9583 - val_loss: 1.5962 - val_acc: 0.6129\n",
      "Epoch 6/10\n",
      "81070/81070 [==============================] - 166s 2ms/step - loss: 0.0893 - acc: 0.9627 - val_loss: 1.9920 - val_acc: 0.5694\n",
      "Epoch 7/10\n",
      "81070/81070 [==============================] - 176s 2ms/step - loss: 0.0775 - acc: 0.9674 - val_loss: 2.2371 - val_acc: 0.5256\n",
      "Epoch 8/10\n",
      "81070/81070 [==============================] - 158s 2ms/step - loss: 0.0655 - acc: 0.9728 - val_loss: 2.4889 - val_acc: 0.6015\n",
      "Epoch 9/10\n",
      "81070/81070 [==============================] - 141s 2ms/step - loss: 0.0554 - acc: 0.9767 - val_loss: 2.4837 - val_acc: 0.6093\n",
      "Epoch 10/10\n",
      "81070/81070 [==============================] - 141s 2ms/step - loss: 0.0443 - acc: 0.9813 - val_loss: 2.8656 - val_acc: 0.6205\n"
     ]
    },
    {
     "data": {
      "text/plain": [
       "<keras.callbacks.History at 0x14121b908>"
      ]
     },
     "execution_count": 25,
     "metadata": {},
     "output_type": "execute_result"
    }
   ],
   "source": [
    "model_combined.compile(\n",
    "    loss='categorical_crossentropy',\n",
    "    optimizer='adam',\n",
    "    metrics=['f1', 'f1_macro'])\n",
    "model_combined.fit(\n",
    "    [x_train, users_matrix], \n",
    "    y_train,\n",
    "    batch_size=128,\n",
    "    epochs=10,\n",
    "    validation_split=0.2)"
   ]
  },
  {
   "cell_type": "code",
   "execution_count": 32,
   "metadata": {},
   "outputs": [],
   "source": [
    "from keras.layers import Dense, Flatten\n",
    "X_embed = embed(X)\n",
    "Y = Flatten()(X_embed)\n",
    "Y = Dense(1)(Y)\n",
    "model = Model(X, Y)\n",
    "\n",
    "print(X_embed)"
   ]
  },
  {
   "cell_type": "code",
   "execution_count": 35,
   "metadata": {},
   "outputs": [
    {
     "name": "stdout",
     "output_type": "stream",
     "text": [
      "Epoch 1/10\n",
      "101338/101338 [==============================] - 3s 26us/step - loss: 0.8911 - acc: 0.6429\n",
      "Epoch 2/10\n",
      "101338/101338 [==============================] - 2s 23us/step - loss: 0.5846 - acc: 0.6867\n",
      "Epoch 3/10\n",
      "101338/101338 [==============================] - 2s 23us/step - loss: 0.5523 - acc: 0.6772\n",
      "Epoch 4/10\n",
      "101338/101338 [==============================] - 2s 24us/step - loss: 0.5529 - acc: 0.6574\n",
      "Epoch 5/10\n",
      "101338/101338 [==============================] - 2s 24us/step - loss: 0.5237 - acc: 0.6567\n",
      "Epoch 6/10\n",
      "101338/101338 [==============================] - 2s 24us/step - loss: 0.5348 - acc: 0.6477\n",
      "Epoch 7/10\n",
      "101338/101338 [==============================] - 3s 29us/step - loss: 0.5120 - acc: 0.6521\n",
      "Epoch 8/10\n",
      "101338/101338 [==============================] - 3s 29us/step - loss: 0.5169 - acc: 0.6413\n",
      "Epoch 9/10\n",
      "101338/101338 [==============================] - 3s 26us/step - loss: 0.5098 - acc: 0.6366\n",
      "Epoch 10/10\n",
      "101338/101338 [==============================] - 3s 27us/step - loss: 0.5155 - acc: 0.6422\n"
     ]
    },
    {
     "data": {
      "text/plain": [
       "<keras.callbacks.History at 0x14129eeb8>"
      ]
     },
     "execution_count": 35,
     "metadata": {},
     "output_type": "execute_result"
    }
   ],
   "source": [
    "\n",
    "model.compile(\n",
    "    loss='binary_crossentropy',\n",
    "    optimizer='rmsprop',\n",
    "    metrics=['acc'])\n",
    "\n",
    "model.fit(\n",
    "    x_train, y_train,\n",
    "    batch_size=128,\n",
    "    epochs=10,\n",
    "    validation_split=0.2)\n"
   ]
  },
  {
   "cell_type": "code",
   "execution_count": 31,
   "metadata": {},
   "outputs": [
    {
     "name": "stdout",
     "output_type": "stream",
     "text": [
      "_________________________________________________________________\n",
      "Layer (type)                 Output Shape              Param #   \n",
      "=================================================================\n",
      "input_2 (InputLayer)         (None, 20)                0         \n",
      "_________________________________________________________________\n",
      "embedding_2 (Embedding)      (None, 20, 200)           39630000  \n",
      "_________________________________________________________________\n",
      "dense_2 (Dense)              (None, 20, 1)             201       \n",
      "=================================================================\n",
      "Total params: 39,630,201\n",
      "Trainable params: 201\n",
      "Non-trainable params: 39,630,000\n",
      "_________________________________________________________________\n"
     ]
    }
   ],
   "source": [
    "model.summary()"
   ]
  }
 ],
 "metadata": {
  "kernelspec": {
   "display_name": "Python 3",
   "language": "python",
   "name": "python3"
  },
  "language_info": {
   "codemirror_mode": {
    "name": "ipython",
    "version": 3
   },
   "file_extension": ".py",
   "mimetype": "text/x-python",
   "name": "python",
   "nbconvert_exporter": "python",
   "pygments_lexer": "ipython3",
   "version": "3.6.4"
  }
 },
 "nbformat": 4,
 "nbformat_minor": 2
}
