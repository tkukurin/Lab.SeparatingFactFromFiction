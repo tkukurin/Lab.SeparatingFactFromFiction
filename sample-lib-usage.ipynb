{
 "cells": [
  {
   "cell_type": "code",
   "execution_count": 1,
   "metadata": {},
   "outputs": [],
   "source": [
    "%load_ext autoreload\n",
    "%autoreload 2"
   ]
  },
  {
   "cell_type": "code",
   "execution_count": 2,
   "metadata": {},
   "outputs": [
    {
     "name": "stderr",
     "output_type": "stream",
     "text": [
      "WARNING:root:Expected /Users/toni/Documents/faks/seminar/models, but was not found\n"
     ]
    }
   ],
   "source": [
    "import spacy\n",
    "import empath\n",
    "from util import const, reader"
   ]
  },
  {
   "cell_type": "code",
   "execution_count": 3,
   "metadata": {},
   "outputs": [
    {
     "name": "stdout",
     "output_type": "stream",
     "text": [
      "CPU times: user 1min 6s, sys: 1.49 s, total: 1min 7s\n",
      "Wall time: 1min 8s\n"
     ]
    }
   ],
   "source": [
    "%%time\n",
    "df = reader.load_df(clean=True)\n",
    "fm = const.FileManager()"
   ]
  },
  {
   "cell_type": "code",
   "execution_count": 4,
   "metadata": {},
   "outputs": [
    {
     "name": "stderr",
     "output_type": "stream",
     "text": [
      "/usr/local/Cellar/python/3.6.4_4/Frameworks/Python.framework/Versions/3.6/lib/python3.6/runpy.py:193: DeprecationWarning: [W003] Positional arguments to Doc.merge are deprecated. Instead, use the keyword arguments, for example tag=, lemma= or ent_type=.\n",
      "  \"__main__\", mod_spec)\n"
     ]
    },
    {
     "data": {
      "text/plain": [
       "{'word': '@pammaysmcdonald',\n",
       " 'lemma': '@pammaysmcdonald',\n",
       " 'NE': 'GPE',\n",
       " 'POS_fine': 'NN',\n",
       " 'POS_coarse': 'NOUN',\n",
       " 'arc': 'ROOT',\n",
       " 'modifiers': [{'word': '@docrocktex26',\n",
       "   'lemma': '@docrocktex26',\n",
       "   'NE': '',\n",
       "   'POS_fine': 'CC',\n",
       "   'POS_coarse': 'CCONJ',\n",
       "   'arc': 'pobj',\n",
       "   'modifiers': [{'word': '@chesterbadger3',\n",
       "     'lemma': '@chesterbadger3',\n",
       "     'NE': '',\n",
       "     'POS_fine': 'NN',\n",
       "     'POS_coarse': 'NOUN',\n",
       "     'arc': 'amod',\n",
       "     'modifiers': []}]},\n",
       "  {'word': '@NPR',\n",
       "   'lemma': '@npr',\n",
       "   'NE': '',\n",
       "   'POS_fine': 'RB',\n",
       "   'POS_coarse': 'ADV',\n",
       "   'arc': 'punct',\n",
       "   'modifiers': []}]}"
      ]
     },
     "execution_count": 4,
     "metadata": {},
     "output_type": "execute_result"
    }
   ],
   "source": [
    "nlp = spacy.load('en')\n",
    "doc = nlp(df.iloc[1].body_content)\n",
    "doc.print_tree()[0]"
   ]
  },
  {
   "cell_type": "markdown",
   "metadata": {},
   "source": [
    "# Empath\n",
    "Lexicon substitute for the commercial LIWC."
   ]
  },
  {
   "cell_type": "code",
   "execution_count": 5,
   "metadata": {},
   "outputs": [
    {
     "data": {
      "text/plain": [
       "[('movement', 0.2),\n",
       " ('violence', 0.2),\n",
       " ('pain', 0.2),\n",
       " ('negative_emotion', 0.2)]"
      ]
     },
     "execution_count": 5,
     "metadata": {},
     "output_type": "execute_result"
    }
   ],
   "source": [
    "lexicon = empath.Empath()\n",
    "s = 'he hit the other person'\n",
    "l = lexicon.analyze(s, normalize=True)\n",
    "[(k,v) for k, v in l.items() if v > 0]"
   ]
  },
  {
   "cell_type": "markdown",
   "metadata": {},
   "source": [
    "# Word collections\n",
    "\n",
    "`;` indicates comments, one empty line between comments and start of words."
   ]
  },
  {
   "cell_type": "code",
   "execution_count": 6,
   "metadata": {},
   "outputs": [
    {
     "name": "stdout",
     "output_type": "stream",
     "text": [
      "negative-words.txt       verbs-factive.txt        verbs-nonimplicative.txt\n",
      "positive-words.txt       verbs-implicative.txt    verbs-reporting.txt\n",
      "subjclues.json           verbs-nonfactive.txt\n",
      "./collections/negative-words.txt: ISO-8859 text\n"
     ]
    }
   ],
   "source": [
    "!ls ./collections/\n",
    "!file ./collections/negative-words.txt"
   ]
  },
  {
   "cell_type": "code",
   "execution_count": 7,
   "metadata": {},
   "outputs": [],
   "source": [
    "def words_from_file(fname, encoding='UTF-8'):\n",
    "    with open(fname, encoding=encoding) as f:\n",
    "        s = set()\n",
    "        include = lambda w: not (len(w.strip()) == 0 or w.startswith(';'))\n",
    "        return set(w.strip().lower() for w in f if include(w))\n",
    "\n",
    "fnames = [\n",
    "    'negative-words.txt', 'verbs-factive.txt', 'verbs-nonimplicative.txt', \n",
    "    'positive-words.txt', 'verbs-implicative.txt', 'verbs-reporting.txt']\n",
    "\n",
    "words = {}\n",
    "for fname in fnames:\n",
    "    key = fname[:fname.index('.')]\n",
    "    path = fm.collection(fname)\n",
    "    \n",
    "    try:\n",
    "        words[key] = words_from_file(path)\n",
    "    except:\n",
    "        words[key] = words_from_file(path, encoding='ISO-8859-1')"
   ]
  },
  {
   "cell_type": "markdown",
   "metadata": {},
   "source": [
    "# Subjclues\n",
    "\n",
    "Used vim to transfer them to JSON; removed 'polarity' and 'mpqpolarity' since only one entry uses these."
   ]
  },
  {
   "cell_type": "code",
   "execution_count": 8,
   "metadata": {},
   "outputs": [],
   "source": [
    "import pandas as pd\n",
    "df_subjclues = pd.read_json(fm.collection('subjclues.json'))"
   ]
  },
  {
   "cell_type": "code",
   "execution_count": 9,
   "metadata": {},
   "outputs": [
    {
     "data": {
      "text/html": [
       "<div>\n",
       "<style scoped>\n",
       "    .dataframe tbody tr th:only-of-type {\n",
       "        vertical-align: middle;\n",
       "    }\n",
       "\n",
       "    .dataframe tbody tr th {\n",
       "        vertical-align: top;\n",
       "    }\n",
       "\n",
       "    .dataframe thead th {\n",
       "        text-align: right;\n",
       "    }\n",
       "</style>\n",
       "<table border=\"1\" class=\"dataframe\">\n",
       "  <thead>\n",
       "    <tr style=\"text-align: right;\">\n",
       "      <th></th>\n",
       "      <th>len</th>\n",
       "      <th>pos1</th>\n",
       "      <th>priorpolarity</th>\n",
       "      <th>stemmed1</th>\n",
       "      <th>type</th>\n",
       "      <th>word1</th>\n",
       "    </tr>\n",
       "  </thead>\n",
       "  <tbody>\n",
       "    <tr>\n",
       "      <th>0</th>\n",
       "      <td>1</td>\n",
       "      <td>adj</td>\n",
       "      <td>negative</td>\n",
       "      <td>n</td>\n",
       "      <td>weaksubj</td>\n",
       "      <td>abandoned</td>\n",
       "    </tr>\n",
       "    <tr>\n",
       "      <th>1</th>\n",
       "      <td>1</td>\n",
       "      <td>noun</td>\n",
       "      <td>negative</td>\n",
       "      <td>n</td>\n",
       "      <td>weaksubj</td>\n",
       "      <td>abandonment</td>\n",
       "    </tr>\n",
       "    <tr>\n",
       "      <th>2</th>\n",
       "      <td>1</td>\n",
       "      <td>verb</td>\n",
       "      <td>negative</td>\n",
       "      <td>y</td>\n",
       "      <td>weaksubj</td>\n",
       "      <td>abandon</td>\n",
       "    </tr>\n",
       "    <tr>\n",
       "      <th>3</th>\n",
       "      <td>1</td>\n",
       "      <td>verb</td>\n",
       "      <td>negative</td>\n",
       "      <td>y</td>\n",
       "      <td>strongsubj</td>\n",
       "      <td>abase</td>\n",
       "    </tr>\n",
       "    <tr>\n",
       "      <th>4</th>\n",
       "      <td>1</td>\n",
       "      <td>anypos</td>\n",
       "      <td>negative</td>\n",
       "      <td>y</td>\n",
       "      <td>strongsubj</td>\n",
       "      <td>abasement</td>\n",
       "    </tr>\n",
       "  </tbody>\n",
       "</table>\n",
       "</div>"
      ],
      "text/plain": [
       "   len    pos1 priorpolarity stemmed1        type        word1\n",
       "0    1     adj      negative        n    weaksubj    abandoned\n",
       "1    1    noun      negative        n    weaksubj  abandonment\n",
       "2    1    verb      negative        y    weaksubj      abandon\n",
       "3    1    verb      negative        y  strongsubj        abase\n",
       "4    1  anypos      negative        y  strongsubj    abasement"
      ]
     },
     "execution_count": 9,
     "metadata": {},
     "output_type": "execute_result"
    }
   ],
   "source": [
    "df_subjclues.head()"
   ]
  },
  {
   "cell_type": "code",
   "execution_count": 10,
   "metadata": {},
   "outputs": [],
   "source": [
    "subjclues_set = set(df_subjclues.word1)"
   ]
  },
  {
   "cell_type": "code",
   "execution_count": 11,
   "metadata": {},
   "outputs": [],
   "source": [
    "import sklearn.feature_extraction as fe\n",
    "\n",
    "sentence = \"this is a test\"\n",
    "dv = fe.DictVectorizer()"
   ]
  },
  {
   "cell_type": "code",
   "execution_count": 12,
   "metadata": {},
   "outputs": [
    {
     "data": {
      "text/plain": [
       "matrix([[  2.,   1.],\n",
       "        [  0., 200.]])"
      ]
     },
     "execution_count": 12,
     "metadata": {},
     "output_type": "execute_result"
    }
   ],
   "source": [
    "dv.fit_transform([{'x': 2, 'y': 1}, {'y': 200}]).todense()"
   ]
  },
  {
   "cell_type": "code",
   "execution_count": 13,
   "metadata": {},
   "outputs": [
    {
     "data": {
      "text/plain": [
       "dict_values([{'ungrateful', 'fetid', 'bad', 'degradation', 'complicit', 'dump', 'deplorable', 'soapy', 'goon', 'disdainfully', 'superficiality', 'hothead', 'irrecoverably', 'blister', 'cripple', 'sneaky', 'undissolved', 'ineloquently', 'tumultuous', 'inconveniently', 'crazy', 'furious', 'vice', 'ambiguity', 'insolence', 'berate', 'cannibalize', 'joker', 'second-class', 'bragger', 'downside', 'forbidden', 'restriction', 'cave', 'untrustworthy', 'wripping', 'bewildering', 'noisier', 'intimidation', 'grumpiest', 'furiously', 'disturbed', 'corrosive', 'ferocity', 'injurious', 'prik', 'conspire', 'subordinate', 'cracks', 'heartbreaking', 'groundless', 'downfall', 'haughty', 'left-leaning', 'sugarcoated', 'defile', 'bemoan', 'incorrectly', 'taunt', 'appal', 'commiserate', 'fanatically', 'bewail', 'conspiracy', 'gauche', 'addicting', 'profanity', 'sadness', 'complex', 'despoil', 'insane', 'mislike', 'inferior', 'gloomy', 'inane', 'insidious', 'mawkishness', 'rage', 'downhearted', 'insincere', 'unipolar', 'contemptuous', 'slogs', 'multi-polarization', 'unaffordable', 'unwieldy', 'tense', 'fudge', 'blurred', 'desiccate', 'back-woods', 'illegal', 'hack', 'inundate', 'untimely', 'dirts', 'oblivious', 'kills', 'glitch', 'weak', 'amputate', 'limit', 'backwardness', 'numb', 'misunderstanding', 'puppet', 'pitifully', 'ambivalence', 'admonition', 'cheesy', 'hassle', 'ominous', 'ruined', 'shockingly', 'hoard', 'proprietary', 'impending', 'nuisance', 'smudged', 'anguish', 'desiccated', 'foully', 'dreadful', 'hurting', 'lewdly', 'woebegone', 'bust', 'wound', 'tarnished', 'lacks', 'upsets', 'fearfully', 'punitive', 'pain', 'discourteous', 'wrongful', 'heartbreaker', 'vehemently', 'egotistically', 'flaw', 'smutty', 'mangled', 'disloyal', 'retard', 'stigmatize', 'aborts', 'demonizes', 'losses', 'false', 'senselessly', 'slooow', 'whine', 'whores', 'crafty', 'harmed', 'worn', 'delude', 'ill-fated', 'illusion', 'stalemate', 'uneasily', 'pry', 'calamities', 'tempest', 'discontented', 'beseech', 'misbehavior', 'allergic', 'overrated', 'snobby', 'stole', 'stutters', 'anger', 'accuse', 'confuses', 'destructive', 'posturing', 'villian', 'contention', 'blame', 'devoid', 'ambush', 'exhaustion', 'caricature', 'droop', 'fearsome', 'flareups', 'agonize', 'pest', 'uncompetitive', 'backbite', 'unuseable', 'conspicuously', 'resentful', 'weariness', 'unimportant', 'uncertain', 'disdain', 'disaster', 'divisive', 'indiscriminating', 'restrictive', 'despise', 'mudslinging', 'degrade', 'envious', 'smoldering', 'unsophisticated', 'bulky', 'unconstitutional', 'whiny', 'irresolute', 'imprecate', 'lag', 'weed', 'carp', 'haste', 'sugar-coated', 'monotonous', 'incessant', 'bland', 'inaccuracy', 'undermining', 'coward', 'agonizingly', 'crush', 'allegations', 'exasperate', 'anomalous', 'impolitic', 'jeers', 'overblown', 'difficult', 'busybody', 'incomparable', 'violent', 'desertion', 'shamelessly', 'sin', 'baffle', 'crash', 'undercut', 'strict', 'failed', 'obtuse', 'arbitrary', 'eccentricity', 'avalanche', 'barbarically', 'disputable', 'dissention', 'underlings', 'unconfirmed', 'egomania', 'unfeeling', 'belabor', 'rascals', 'dejected', 'ramshackle', 'mess', 'ruffian', 'discord', 'longingly', 'shrug', 'fallout', 'sueing', 'unexpected', 'wreaks', 'boredom', 'jarring', 'overwhelm', 'unjust', 'disfavor', 'recession', 'spank', 'unspecified', 'indiscriminately', 'loner', 'inconsequential', 'lier', 'sinking', 'disoriented', 'noisy', 'slow-moving', 'inflammatory', 'difficulties', 'traumatic', 'improbability', 'heedless', 'jaundiced', 'ulterior', 'encroach', 'outburst', 'smudge', 'destroy', 'slogged', 'warped', 'liable', 'harpy', 'inadvisably', 'delaying', 'inconstant', 'inimical', 'paralyzed', 'pigs', 'intransigence', 'leaky', 'rampage', 'sore', 'crummy', 'weary', 'commotions', 'dupe', 'unsteadily', 'oddest', 'unusual', 'irreplacible', 'clash', 'freezes', 'onslaught', 'wreak', 'butcher', 'shocking', 'strangle', 'fallaciously', 'shocked', 'belittling', 'dissemble', 'stagnation', 'tease', 'disappointing', 'disdainful', 'melancholy', 'cynicism', 'lull', 'rusts', 'stress', 'smelled', 'issue', 'bloodshed', 'impossiblity', 'contend', 'heartbreakingly', 'stench', 'sinisterly', 'paranoid', 'twisted', 'dreary', 'ineffectualness', 'needy', 'obscenely', 'opinionated', 'fail', 'tetchily', 'impenitent', 'reluctant', 'spookiest', 'blockage', 'indecent', 'disgustingly', 'messing', 'emphatically', 'nebulous', 'discompose', 'stiffness', 'vexation', 'stranger', 'overheat', 'damned', 'burn', 'scandel', 'unlamentable', 'niggles', 'aloof', 'beggar', 'dismayingly', 'malady', 'atrocity', 'cheating', 'insurrection', 'mindless', 'neurotically', 'poorer', 'fainthearted', 'subservience', 'tyrannical', 'wheedle', 'infection', 'insult', 'prohibitively', 'sub-par', 'stifle', 'inexcusably', 'negativity', 'detriment', 'antithetical', 'astray', 'insincerely', 'spitefulness', 'baffled', 'cheats', 'cloud', 'inaccurate', 'mocks', 'blameworthy', 'riled', 'sleazy', 'disconcerting', 'oppose', 'punch', 'dissonance', 'misgiving', 'acerbically', 'stall', 'undependability', 'perish', 'self-destructive', 'erase', 'troubled', 'resentment', 'desultory', 'handicapped', 'subjugation', 'fib', 'inexplainable', 'tout', 'frail', 'uncivil', 'ill-usage', 'flareup', 'misinterpret', 'overbalance', 'ugly', 'unreasonably', 'mendacity', 'unnaturally', 'wrinkled', 'unhappily', 'concession', 'flaky', 'contravene', 'recourses', 'squeaky', 'irritably', 'rape', 'slashing', 'maniac', 'smug', 'eyesore', 'aggravate', 'dismally', 'misleading', 'offend', 'rude', 'suffer', 'death', 'oversimplification', 'washed-out', 'irritating', 'bent', 'suffering', 'suck', 'dullard', 'forebodingly', 'smallish', 'dishonor', 'subversive', 'ripped', 'stigma', 'demolish', 'unraveled', 'trickery', 'undermines', 'bewildered', 'fright', 'inflexible', 'meanness', 'bruise', 'semi-retarded', 'scapegoat', 'tenuously', 'overbalanced', 'undetermined', 'wane', 'emptiness', 'reprehension', 'contagious', 'disheartening', 'feint', 'flighty', 'uncollectible', 'imperfections', 'mock', 'glum', 'impoverish', 'defamatory', 'spoilages', 'fustigate', 'diatribe', 'unfairly', 'irksome', 'unfounded', 'infamy', 'fastuous', 'shaky', 'dishonesty', 'forsaken', 'stagnate', 'shake', 'busts', 'negligence', 'rumors', 'phobic', 'embarrassing', 'racism', 'ironically', 'cranky', 'dragging', 'froze', 'grieving', 'grumpish', 'infidels', 'interferes', 'misstatement', 'hang', 'inappropriate', 'mordantly', 'misguide', 'disinclined', 'poorest', 'tingled', 'headache', 'unsure', 'venomously', 'evade', 'self-interest', 'hallucination', 'dastard', 'fool', 'moronic', 'unscrupulously', 'impose', 'stalls', 'oversimplified', 'overweight', 'panicked', 'tortuous', 'excuses', 'startling', 'touchy', 'haunt', 'smuttiest', 'jealousy', 'unreliability', 'blemish', 'debts', 'flickering', 'dissembler', 'shark', 'demon', 'blatantly', 'lurch', 'futility', 'meaningless', 'ugliest', 'agonizing', 'hopelessly', 'moody', 'dreadfulness', 'unresolved', 'blasphemous', 'giddy', 'shimmy', 'undid', 'scandal', 'unnerve', 'swipe', 'unsuccessfully', 'hardship', 'impure', 'victimize', 'bane', 'set-up', 'uneconomical', 'rumple', 'fatalistic', 'wariness', 'chaff', 'perturbed', 'deplete', 'unrealistic', 'gaudy', 'gruff', 'back-logged', 'stereotypical', 'smelly', 'hating', 'cringed', 'mischievously', 'derogatory', 'usurp', 'pariah', 'deficiency', 'glut', 'wicked', 'catastrophies', 'confess', 'illness', 'finicky', 'impossible', 'darkened', 'miscalculate', 'rift', 'cussed', 'kaput', 'racy', 'compulsion', 'rejects', 'discourteously', 'indecisively', 'disses', 'enmity', 'jagged', 'accuses', 'lure', 'tortured', 'shock', 'taboo', 'time-consuming', 'sedentary', 'thumbs-down', 'bulkier', 'coupists', 'somber', 'ploy', 'unkind', 'chill', 'emaciated', 'rail', 'destains', 'imperialist', 'frenetic', 'partisans', 'undercutting', 'barbarian', 'blasted', 'intense', 'drained', 'measly', 'overzealous', 'imperil', 'spookily', 'villains', 'anti-israeli', 'mire', 'dubitable', 'despondent', 'coercion', 'miff', 'accusation', 'invalidity', 'steal', 'sicken', 'sob', 'admonishment', 'prickles', 'intermittent', 'brutal', 'restricted', 'outcast', 'stab', 'stampede', 'vestiges', 'unreadable', 'erode', 'laconic', 'persecute', 'treacherously', 'obstinately', 'undercuts', 'peeved', 'recklessly', 'restrict', 'zapped', 'deviously', 'defiant', 'hypocritical', 'pimple', 'scrambled', 'repugnance', 'dropouts', 'impediment', 'overpayed', 'isolation', 'flickers', 'incorrigible', 'trapped', 'pricier', 'hallucinate', 'tiring', 'hideous', 'immodest', 'blindside', 'laughingstock', 'deplorably', 'hatefulness', 'uneasiness', 'jeering', 'leaking', 'fiendish', 'barbarous', 'unwelcome', 'undermine', 'incitement', 'annihilation', 'revulsion', 'panders', 'quandary', 'rollercoaster', 'sagged', 'confused', 'mad', 'interrupt', 'breaks', 'abruptly', 'provocation', 'tenuous', 'haughtily', 'betrayal', 'spoon-fed', 'sufferer', 'shortage', 'polarisation', 'apprehensions', 'dishonorable', 'raping', 'defect', 'concens', 'mockingly', 'negative', 'testy', 'endanger', 'calumniously', 'harangue', 'hefty', 'immoderately', 'scaly', 'scare', 'scathing', 'devastating', 'rant', 'din', 'turbulent', 'infiltrator', 'distasteful', 'invalid', 'gainsayer', 'bristle', 'inhuman', 'painful', 'deject', 'insanity', 'madder', 'oppositions', 'stutter', 'simplistically', 'butchery', 'crippled', 'unsettle', 'misread', 'faze', 'irragularity', 'bloody', 'worthlessly', 'forgetfully', 'manipulation', 'incompatability', 'indeterminate', 'disbelief', 'conspiracies', 'undependable', 'overloaded', 'imposition', 'lethal', 'mysterious', 'unusually', 'uproar', 'outrageous', 'unseemly', 'atrocious', 'blab', 'cataclysmic', 'listless', 'languorously', 'braggart', 'selfishness', 'snobs', 'outbursts', 'cackle', 'fawningly', 'contaminates', 'indoctrination', 'burned', 'capricious', 'protracted', 'worthless', 'chilly', 'cringe', 'snobish', 'implausible', 'invective', 'overkill', 'struggled', 'bereft', 'deadbeat', 'junk', 'burdensomely', 'inoperable', 'worsen', 'spiritless', 'miscalculation', 'gossip', 'hampered', 'obliterated', 'sucky', 'unorthodoxy', 'lawless', 'fissures', 'farcically', 'growl', 'misfit', 'adulterated', 'ridiculously', 'forlorn', 'cruel', 'poor', 'epidemic', 'matte', 'shirk', 'destabilisation', 'expulse', 'mangles', 'paranoia', 'inadequacy', 'disappoints', 'fascist', 'uncomfortably', 'one-sided', 'stubbornness', 'revengeful', 'dissatisfaction', 'unauthentic', 'drunk', 'wearisome', 'slowly', 'pertinacious', 'crooks', 'convoluted', 'foolhardy', 'frost', 'rattles', 'unjustly', 'inexperienced', 'smelt', 'cramped', 'uncouth', 'cruelty', 'tediously', 'flakey', 'ding', 'gawky', 'appalling', 'dismal', 'inconsequently', 'naive', 'oversize', 'zaps', 'dismaying', 'dissuasive', 'bullies', 'superficial', 'infuriatingly', 'disinclination', 'nauseating', 'unlicensed', 'repressive', 'plight', 'ghosting', 'infiltrators', 'hasty', 'suicidal', 'forgetful', 'uproarously', 'zealously', 'venom', 'splitting', 'indolent', 'shemale', 'dripping', 'impurity', 'refuses', 'ax', 'abnormal', 'crashed', 'poorly', 'despairing', 'flake', 'thirst', 'detestable', 'sever', 'stale', 'poverty', 'bumpping', 'douchebags', 'tiringly', 'desperately', 'precipitate', 'demonizing', 'indistinguishable', 'calumnies', 'besiege', 'snappishly', 'imbroglio', 'insociable', 'impotent', 'shortness', 'savagery', 'carelessness', 'insurmountable', 'overwhelmed', 'contentious', 'lags', 'repulsiveness', 'chore', 'corrosion', 'shun', 'frightfully', 'frets', 'inconsistent', 'aimless', 'glitches', 'pompous', 'vileness', 'decay', 'grieve', 'fabrication', 'deprecate', 'erratic', 'inaptitude', 'indiscreetly', 'lambaste', 'calamity', 'delinquency', 'life-threatening', 'havoc', 'slanderous', 'shady', 'smother', 'overawe', 'battered', 'disagreed', 'complaint', 'vindictive', 'ranted', 'apprehension', 'coarse', 'sourly', 'massacres', 'deadly', 'oppressiveness', 'leaks', 'dissatisfactory', 'bashed', 'harboring', 'trap', 'wilt', 'spoils', 'inhumanity', 'unemployed', 'bleak', 'disastrous', 'complicated', 'decrement', 'disadvantaged', 'dumb', 'ineptitude', 'downsides', 'nasty', 'cheaply', 'cancerous', 'deception', 'mar', 'incite', 'outrages', 'disinterested', 'head-aches', 'irks', 'lying', 'scratch', 'immorally', 'belligerence', 'smudging', 'avarice', 'defiler', 'peeve', 'subdued', 'swelling', 'delusion', 'counterproductive', 'losing', 'nervous', 'pernicious', 'perverted', 'devastate', 'overdone', 'exaggerate', 'repugnant', 'intimidatingly', 'unviewable', 'irrationality', 'negate', 'temptation', 'water-down', 'calumniate', 'pitilessly', 'chatterbox', 'terribleness', 'flees', 'needlessly', 'unintelligile', 'fastidiously', 'panic', 'deaf', 'disgraceful', 'murderer', 'wrestle', 'loopholes', 'impudently', 'unacceptablely', 'malevolent', 'shamefully', 'enfeeble', 'wreck', 'tragedy', 'concern', 'glaringly', 'died', 'fraudulent', 'mistrustful', 'stammer', 'grief', 'idle', 'creak', 'lewdness', 'defamation', 'self-serving', 'sloow', 'apathetically', 'inexperience', 'bogus', 'unhappy', 'hum', 'wiles', 'aggressor', 'asinininity', 'aggrieved', 'despicable', 'heckle', 'nervously', 'absent-minded', 'cloudy', 'buzzing', 'drain', 'redundancy', 'useless', 'siege', 'faithless', 'dodgey', 'indignantly', 'lovelorn', 'chaos', 'insecurity', 'repulsively', 'scathingly', 'sharply', 'shoddy', 'befoul', 'fulminate', 'anarchism', 'smugly', 'foul', 'mysteriously', 'clog', 'unforgiving', 'sad', 'disaffect', 'spoilage', 'scarcely', 'turmoil', 'divisiveness', 'deter', 'lagged', 'evasion', 'steep', 'damages', 'disquietude', 'utterly', 'downfallen', 'dizzing', 'weakness', 'retaliate', 'lonely', 'greasy', 'tangle', 'refuting', 'degradingly', 'indignant', 'sinister', 'torturing', 'crisis', 'pretentiously', 'scratched', 'strife', 'disrespectablity', 'scuffs', 'invidiously', 'rejecting', 'abysmal', 'timidness', 'decrepit', 'backwoods', 'obsessiveness', 'infringements', 'obscurity', 'stain', 'fails', 'job-killing', 'pale', 'sardonic', 'obsess', 'grudges', 'wounds', 'excoriate', 'sinful', 'suffocate', 'mangle', 'genocide', 'rattled', 'exile', 'disadvantage', 'dissappointing', 'humming', 'disprove', 'unethical', 'cowardly', 'oblique', 'vengeance', 'unthinkably', 'debaucher', 'sloww', 'disobedience', 'deteriorating', 'cheap', 'pickets', 'tragically', 'fuck', 'perplexed', 'mishap', 'stuffy', 'unorthodox', 'complaints', 'hostage', 'imposers', 'atrophy', 'depraved', 'abrade', 'crueler', 'harms', 'doggedly', 'fleeing', 'startlingly', 'condescending', 'deluge', 'erodes', 'desperation', 'aching', 'drab', 'discriminatory', 'detrimental', 'crook', 'unsound', 'demean', 'horrendous', 'fibber', 'incredulous', 'indiscriminate', 'betray', 'lethargy', 'rigidity', 'heckled', 'scum', 'enflame', 'repel', 'symptoms', 'combust', 'ultimatums', 'ingrate', 'extravagant', 'squabble', 'impatiently', 'vexing', 'lie', 'ruthless', 'refuse', 'drag', 'indiscernible', 'dissatisfies', 'deviation', 'obstruct', 'smudges', 'heartless', 'scramble', 'chastise', 'overwhelms', 'attack', 'abomination', 'terrible', 'nauseates', 'underpowered', 'nastily', 'pugnacity', 'hoax', 'rremediable', 'loose', 'unsafe', 'sue', 'mistified', 'brash', 'denunciation', 'dings', 'unjustifiable', 'unhealthy', 'lamentable', 'woefully', 'horrible', 'misgivings', 'distraught', 'disapproving', 'god-awful', 'over-priced', 'unsuspecting', 'blindingly', 'rankle', 'intrusive', 'obsolete', 'admonisher', 'shrew', 'incivility', 'droops', 'irately', 'discontent', 'less-developed', 'onerously', 'spook', 'sorrow', 'helplessness', 'immorality', 'damnation', 'losers', 'ineptly', 'pretentious', 'ferociously', 'warily', 'bleed', 'derisively', 'thoughtlessness', 'argumentative', 'fabricate', 'lament', 'distraughtly', 'mordant', 'flout', 'cold', 'scorn', 'gutter', 'cheated', 'scornful', 'bereave', 'unwanted', 'creaks', 'addict', 'gimmicks', 'derisiveness', 'frenetically', 'assault', 'adulteration', 'drunkard', 'expire', 'abolish', 'disloyalty', 'ineffectively', 'mawkish', 'nebulously', 'vex', 'paralize', 'louder', 'backwood', 'desperate', 'miserably', 'sagging', 'grudging', 'declines', 'frigid', 'imminence', 'damnably', 'deceive', 'discontinuity', 'insinuation', 'disorganized', 'hysterical', 'lowly', 'mislead', 'pittance', 'critical', 'hated', 'uproariously', 'precipitous', 'soreness', 'disarray', 'plebeian', 'scrambling', 'cripples', 'floundering', 'absentee', 'loathsomely', 'indelicate', 'unproven', 'inequality', 'uninformed', 'puzzlement', 'dislike', 'overstatements', 'drop-outs', 'prevaricate', 'farcical-yet-provocative', 'rancor', 'disturbance', 'prison', 'nag', 'jeeringly', 'cliche', 'demolisher', 'unable', 'dizzingly', 'ultimatum', 'misjudge', 'unappealing', 'invasive', 'imprudent', 'belligerently', 'skittish', 'unworkable', 'grating', 'breakup', 'unimaginably', 'drastically', 'contemptuously', 'incredulously', 'offenses', 'hollow', 'defy', 'bias', 'discouragingly', 'junky', 'dejectedly', 'panicky', 'tauntingly', 'wallow', 'hurted', 'blurring', 'infraction', 'idiotically', 'friction', 'ghetto', 'maddening', 'lacked', 'disappointingly', 'volatility', 'sobering', 'catastrophically', 'danger', 'forbidding', 'fleer', 'delusions', 'strictly', 'unreliable', 'dispirited', 'effigy', 'pretense', 'uncomfy', 'melodramatically', 'emphatic', 'intolerable', 'stunted', 'pinch', 'loud', 'frustratingly', 'belittle', 'sorrowful', 'catastrophes', 'obstructing', 'blurry', 'clouding', 'criticisms', 'acrimony', 'dictatorial', 'unattractive', 'hate', 'monstrosity', 'frantically', 'peculiarly', 'bewilderingly', 'clogged', 'raving', 'scary', 'disrespectfulness', 'skittishly', 'aggression', 'clueless', 'infected', 'strain', 'dissapointed', 'stuck', 'discouraging', 'subpoenas', 'urgent', 'biased', 'mockeries', 'fallen', 'repression', 'unmoved', 'darker', 'broke', 'concerns', 'fiend', 'mediocrity', 'misfortune', 'remorsefully', 'remorseless', 'tangled', 'nemesis', 'burden', 'timidly', 'unease', 'contemptible', 'fractious', 'deterrent', 'perturb', 'regrettable', 'second-tier', 'scandels', 'misbehave', 'self-coup', 'imperfect', 'stooge', 'arrogance', 'tanked', 'prattle', 'distrustful', 'lurid', 'falls', 'entrapment', 'vanity', 'struggling', 'hysterically', 'slave', 'bankrupt', 'disagreeing', 'neglected', 'blah', 'shamelessness', 'struggles', 'occluding', 'cringes', 'die', 'lurk', 'ruinous', 'concede', 'inopportune', 'martyrdom', 'traumatize', 'murder', 'burdensome', 'lapse', 'unconvincingly', 'unwise', 'encroachment', 'grievously', 'entanglement', 'acerbic', 'slaughtered', 'disliked', 'barbarously', 'pestilent', 'scarred', 'blotchy', 'itching', 'spurious', 'detracted', 'repulsing', 'grimace', 'moan', 'failures', 'fried', 'lamentably', 'bafflement', 'wrest', 'smack', 'aggravating', 'longing', 'haywire', 'maladjusted', 'drunken', 'persecution', 'blunt', 'doomed', 'disgust', 'dizzy', 'flares', 'gritty', 'expropriation', 'tramp', 'bruised', 'sabotage', 'vomits', 'sneer', 'sporadic', 'chintzy', 'enviousness', 'disallow', 'entrap', 'queer', 'scold', 'stringently', 'cravenly', 'mishandle', 'treason', 'pauper', 'over-balanced', 'corrupts', 'miss', 'steals', 'disclaim', 'enviously', 'ignorant', 'ironic', 'gruesome', 'dirt', 'reprehensible', 'stooges', 'stormy', 'brazenly', 'superstitious', 'demise', 'disagrees', 'over-awe', 'congested', 'falsify', 'topple', 'upsetting', 'apathy', 'tainted', 'misguidance', 'loneliness', 'risk', 'preposterous', 'abominate', 'dispiritedly', 'inconceivably', 'idiotic', 'insupportable', 'motley', 'thrash', 'underestimate', 'lacking', 'unnervingly', 'dissolution', 'judders', 'fallacious', 'bores', 'overpower', 'cumbersome', 'rantingly', 'protesting', 'disrupt', 'undefined', 'contradict', 'lost', 'ineffective', 'lugubrious', 'creeps', 'whining', 'abusive', 'freeze', 'divergent', 'confuse', 'insincerity', 'perfidity', 'apprehensive', 'gruesomely', 'invidiousness', 'calamitously', 'rife', 'adamantly', 'implacable', 'judder', 'monstrosities', 'overemphasize', 'indifferent', 'lividly', 'snub', 'spite', 'bugging', 'shipwreck', 'plagiarize', 'inadverent', 'anti-occupation', 'capriciously', 'dehumanize', 'buckle', 'irritable', 'immoral', 'misbecoming', 'fragmented', 'perplexing', 'detested', 'denounce', 'disagreement', 'addicted', 'pillory', 'bluring', 'fidgety', 'gibberish', 'goad', 'raked', 'sap', 'unavailable', 'amiss', 'incomparably', 'fleeting', 'destroyer', 'disillusioned', 'obese', 'painfully', 'unexplained', 'diappointed', 'knotted', 'bigotry', 'propagandize', 'tamper', 'fragile', 'bored', 'pander', 'antagonistic', 'infringement', 'inept', 'dimmer', 'incommensurate', 'indecisive', 'spotty', 'anxiousness', 'taxing', 'guilty', 'downturn', 'exacerbate', 'stressfully', 'innuendo', 'screwed-up', 'frazzle', 'biting', 'slime', 'standstill', 'spade', 'immovable', 'cons', 'scorchingly', 'hysteria', 'bumped', 'traumatically', 'hard', 'extremist', 'staid', 'disreputable', 'waste', 'dishearteningly', 'floored', 'devastated', 'indeterminably', 'corruption', 'spendy', 'manipulators', 'gape', 'avariciously', 'loot', 'occlude', 'commonplace', 'perversion', 'sneak', 'cautionary', 'drastic', 'prickle', 'glib', 'trouble', 'barbaric', 'radicalization', 'snappish', 'denunciations', 'deviate', 'annoyingly', 'break-ups', 'volatile', 'dubiously', 'alienated', 'dying', 'dissatisfy', 'doomsday', 'killjoy', 'startle', 'daunting', 'spinster', 'wreaked', 'inelegant', 'dirty', 'belligerent', 'insignificant', 'misery', 'quarrellous', 'bastards', 'repulse', 'freak', 'loser', 'underpaid', 'debilitating', 'pertinacity', 'terrorize', 'monster', 'sorrowfully', 'defiance', 'distress', 'letch', 'loath', 'dissidence', 'haunting', 'impulsively', 'sucks', 'inadequately', 'reject', 'insultingly', 'impede', 'shabby', 'jealous', 'upsettingly', 'beguile', 'famine', 'incomplete', 'trick', 'embroil', 'oversights', 'pessimistically', 'transgress', 'acrimoniously', 'arrogant', 'unnerving', 'vexingly', 'sly', 'disunity', 'suspicions', 'condemns', 'frustrating', 'stubbornly', 'unlamentably', 'hardliner', 'refutation', 'rue', 'obstructs', 'nosey', 'aggravation', 'surrender', 'wretch', 'intolerance', 'overlook', 'spewed', 'syndrome', 'insular', 'trivial', 'fall', 'kook', 'maledict', 'maltreatment', 'indifference', 'inexcusable', 'slowest', 'squeaks', 'idiocy', 'drags', 'hard-liner', 'irrelevance', 'incapably', 'expel', 'inexorable', 'relentless', 'spoilled', 'anarchist', 'checkered', 'scratches', 'shambles', 'dead', 'defective', 'dilemma', 'miserly', 'debacle', 'scratchy', 'screwed', 'fallacy', 'denying', 'debilitate', 'detract', 'overzealously', 'facetiously', 'layoff', 'mourn', 'bewilderment', 'negligent', 'untested', 'runaway', 'setbacks', 'calumniation', 'jerk', 'defamations', 'idiot', 'audiciously', 'refusal', 'repudiate', 'woe', 'corruptted', 'itchy', 'lonesome', 'pervert', 'impolitely', 'overstates', 'forswear', 'smells', 'blind', 'unreasonable', 'nastiness', 'controversial', 'risks', 'brutally', 'dumped', 'faults', 'incorrect', 'mocked', 'uneven', 'retardedness', 'drones', 'ineloquent', 'downhill', 'irritant', 'spitefully', 'debasement', 'stricken', 'weakening', 'broken-hearted', 'fatally', 'fear', 'extermination', 'inconsistencies', 'miser', 'unrest', 'unlikely', 'unreachable', 'reproach', 'misses', 'headaches', 'asperse', 'egotistical', 'exasperating', 'fatuously', 'displace', 'dents', 'pity', 'reactionary', 'revile', 'deign', 'ruffle', 'chunky', 'tacky', 'mercilessly', 'scummy', 'malicious', 'demonic', 'abuse', 'hegemonistic', 'bereavement', 'refute', 'offensively', '2-faces', 'defame', 'capriciousness', 'lesser-known', 'bestial', 'sneering', 'suffered', 'alarmed', 'horrified', 'misunderstand', 'aggrivation', 'audacious', 'derision', 'threat', 'wastefulness', 'virulence', 'overstate', 'dispute', 'broken', 'fatuity', 'racist', 'askance', 'stern', 'collude', 'flakieness', 'irksomenesses', 'hassles', 'insufferable', 'drippy', 'stiff', 'gnawing', 'comical', 'discredit', 'improper', 'hatred', 'stresses', 'beastly', 'interruptions', 'alarm', 'downer', 'hobble', 'cannibal', 'incautious', 'usurper', 'slur', 'shunned', 'shamefulness', 'taunting', 'crowdedness', 'odd', 'misuse', 'substandard', 'sensationalize', 'condemnable', 'destitute', 'regrettably', 'ignominy', 'damaging', 'filthy', 'aggressiveness', 'extort', 'ghastly', 'sloooooooooooooow', 'gravely', 'disgruntled', 'downbeat', 'sued', 'tawdry', 'uneasy', 'overtaxed', 'unruly', 'flaking', 'watered-down', 'chafe', 'drought', 'knock', 'vindictiveness', 'retarded', 'insulting', 'unwisely', 'kill', 'geezer', 'overpriced', 'tortures', 'heinous', 'disapointment', 'indecently', 'congestion', 'degrading', 'superfluous', 'torment', 'aggressive', 'licentiously', 'hindrance', 'abominable', 'evil', 'exasperated', 'upset', 'costlier', 'execrate', 'pricey', 'fickle', 'violation', 'ricer', 'dim', 'tingling', 'ambiguous', 'insensible', 'slump', 'draining', 'gawk', 'illusions', 'refuted', 'strange', 'fraught', 'villify', 'banish', 'douchbag', 'throttle', 'manic', 'illegally', 'outbreak', 'infested', 'opportunistic', 'unfortunately', 'warlike', 'bruises', 'deform', 'blockhead', 'objections', 'blistering', 'back-wood', 'desolate', 'denunciate', 'rough', 'beleaguer', 'deceitfully', 'tentative', 'gullible', 'confusing', 'drawback', 'alienation', 'crack', 'hawkish', 'illogically', 'monotony', 'seethe', 'shatter', 'grievance', 'insignificantly', 'pessimistic', 'odder', 'fanatic', 'lengthy', 'punk', 'restlessness', 'wrangle', 'diss', 'inaccurately', 'unwillingness', 'distressing', 'zealot', 'unqualified', 'unproved', 'strangely', 'disputed', 'mashed', 'flimsy', 'unsuccessful', 'vibrate', 'denigrate', 'ignore', 'corrupted', 'erratically', 'bash', 'rusty', 'lone', 'divisively', 'avaricious', 'disintegrates', 'harmful', 'brittle', 'immobilized', 'uncreative', 'bashing', 'radically', 'radicals', 'worriedly', 'mediocre', 'vengefulness', 'swelled', 'inexorably', 'worrier', 'damning', 'jam', 'grudge', 'mispronounces', 'bewitch', 'self-interested', 'vagueness', 'screw-up', 'irrationally', 'unlawfully', 'disavowal', 'ill-treatment', 'misguided', 'discontentedly', 'irascible', 'demoralizingly', 'feign', 'obsessively', 'selfish', 'franticly', 'abyss', 'oversight', 'scam', 'retract', 'diabolical', 'suspicion', 'tyrant', 'ruthlessness', 'wack', 'prosecute', 'goof', 'funnily', 'harrow', 'brashness', 'disconcertingly', 'ache', 'bombardment', 'cheapen', 'disservice', 'delirium', 'felon', 'haphazard', 'transgression', 'brazenness', 'infamous', 'tricked', 'despondently', 'incapable', 'squander', 'puppets', 'nefariously', 'idiots', 'dropout', 'lied', 'mist', 'brainless', 'bullyingly', 'dishonestly', 'antiquated', 'devastates', 'obstructed', 'hateful', 'incongruously', 'stumbled', 'forgetfulness', 'cramp', 'ridiculous', 'rocky', 'slanderously', 'distrust', 'discrepant', 'pathetically', 'doubtful', 'mischievous', 'overplay', 'ugh', 'violently', 'depressed', 'diffidence', 'sputter', 'adversary', '2-faced', 'salacious', 'superficially', 'obscures', 'questionable', 'eviscerate', 'fake', 'touts', 'undersized', 'miscellaneous', 'bemused', 'frighten', 'setback', 'mistaken', 'angriness', 'assail', 'submissive', 'anti-semites', 'bump', 'abort', 'impatient', 'unsteady', 'conscons', 'haters', 'undue', 'thumb-down', 'extravagance', 'fault', 'expired', 'embarrassingly', 'crap', 'disconcerted', 'crept', 'anxiously', 'irrationals', 'exasperatingly', 'jolt', 'inequities', 'snagging', 'allege', 'belie', 'dragged', 'extinguish', 'resistance', 'difficulty', 'instable', 'shame', 'allegation', 'frustrates', 'discontinued', 'biases', 'darken', 'unfamiliar', 'contempt', 'strained', 'mockery', 'horrifies', 'jerky', 'qualms', 'jaded', 'thorny', 'reprehensibly', 'decadent', 'pitiless', 'problems', 'apprehensively', 'uncomfortable', 'morons', 'languorous', 'emergency', 'mocking', 'rut', 'calumny', 'maddeningly', 'snarky', 'dust', 'frustrated', 'despoiler', 'straggler', 'resignation', 'troubles', 'downcast', 'wedge', 'wimpy', 'debility', 'shiver', 'throbbing', 'unfaithfully', 'preposterously', 'assult', 'draconian', 'ambivalent', 'calumnious', 'scoldingly', 'wasting', 'bombastic', 'brainwash', 'harass', 'refutes', 'sunk', 'idiocies', 'exhort', 'disarm', 'brutish', 'irritate', 'inescapably', 'heresy', 'irrationalities', 'teasingly', 'intimidating', 'crooked', 'grainy', 'disquietingly', 'abrupt', 'disillusionment', 'merciless', 'unilateralism', 'overwhelmingly', 'seedy', 'friggin', 'fume', 'superstition', 'horrid', 'warp', 'castrated', 'unspeakablely', 'straining', 'bumping', 'irreconcilable', 'abysmally', 'conspicuous', 'suspicious', 'harm', 'vomiting', 'wary', 'insensitive', 'travesties', 'boil', 'gibe', 'contrariness', 'monstrously', 'interference', 'needless', 'anemic', 'blur', 'disintegrated', 'spoonfed', 'antipathy', 'fucking', 'wanton', 'disappoint', 'dunce', 'graft', 'miscreants', 'scarce', 'huckster', 'shirker', 'fat', 'ingratitude', 'dissident', 'disaffirm', 'distort', 'scoffingly', 'scowl', 'awkward', 'retreated', 'begging', 'dissuade', 'bastard', 'poisonous', 'sorely', 'hypocrisy', 'infidel', 'bedlam', 'buggy', 'issues', 'inexpiable', 'nauseatingly', 'unclean', 'damper', 'forceful', 'audaciousness', 'bullshit', 'skeptically', 'unfaithful', 'deficiencies', 'fallaciousness', 'condescension', 'high-priced', 'bull****', 'debt', 'hysteric', 'fretful', 'hostilities', 'killed', 'seething', 'ached', 'overreach', 'plea', 'recoil', 'reprimand', 'squeak', 'disrespectable', 'chagrin', 'distorts', 'unaccessible', 'gimmick', 'slumping', 'rumours', 'eruptions', 'loveless', 'perfidious', 'vulgar', 'disingenuously', 'exclusion', 'bumpy', 'limits', 'misunderstood', 'blasphemy', 'mistakenly', 'pervasive', 'lackeys', 'murderous', 'smell', 'tentatively', 'unravel', 'unyielding', 'stark', 'admonish', 'berserk', 'caustically', 'freezing', 'inefficacy', 'splatter', 'gaff', 'liability', 'guile', 'poisonously', 'wildly', 'ailing', 'skinny', 'impoverished', 'sillily', 'unfavorable', 'fist', 'inconsistency', 'horrendously', 'defensive', 'hostility', 'disturbingly', 'incorrigibly', 'embattled', 'flat-out', 'slaves', 'tumbles', 'crashes', 'angrily', 'misjudgment', 'irksomeness', 'trivialize', 'lazy', 'aghast', 'inaudible', 'adamant', 'hells', 'crumble', 'misapprehend', 'repress', 'repudiation', 'unconvincing', 'flabbergasted', 'slumpping', 'unlucky', 'truant', 'disagreeably', 'traitorous', 'pathetic', 'vagrant', 'starkly', 'picketing', 'confusions', 'blurs', 'leakages', 'rust', 'untenable', 'inhibit', 'absurdly', 'unwarranted', 'atrocities', 'exploit', 'bs', 'isolated', 'martyrdom-seeking', 'ill-treated', 'leery', 'violate', 'dehumanization', 'heretical', 'demonize', 'peculiar', 'remorselessly', 'quash', 'reprehensive', 'ruin', 'inconsolably', 'craftly', 'disinterest', 'embroiled', 'iniquity', 'smokescreen', 'traitorously', 'falsely', 'jeopardize', 'unthinkable', 'reckless', 'phony', 'wail', 'lame-duck', 'paltry', 'damnable', 'scared', 'appalled', 'confusion', 'crime', 'exasperation', 'falter', 'involuntary', 'juddering', 'loathsome', 'dreadfully', 'ostracize', 'sh*t', 'malign', 'sickly', 'spookier', 'worries', 'deteriorate', 'sty', 'corrupt', 'diatribes', 'ordeal', 'beggarly', 'impiety', 'disregard', 'pan', 'imprecisely', 'protests', 'violator', 'stupidity', 'mournfully', 'pleas', 'regreted', 'aversion', 'dick', 'exaggeration', 'dull', 'awkwardness', 'bore', 'contamination', 'devastation', 'wrinkles', 'barren', 'doubt', 'leakage', 'subservient', 'discriminate', 'troublemaker', 'heck', 'revenge', 'polluter', 'screech', 'secretive', 'traitor', 'inevitable', 'brutalize', 'disliking', 'drop-out', 'excessively', 'ineffectually', 'bitterly', 'alienate', 'skepticism', 'cliched', 'ill-formed', 'strike', 'overthrow', 'parasite', 'jealously', 'betraying', 'despair', 'rebuke', 'ravage', 'rigid', 'vicious', 'despised', 'implication', 'aspersion', 'dismissively', 'viper', 'outrageousness', 'quitter', 'irresolvable', 'lunatic', 'provoke', 'laid-off', 'savage', 'deficient', 'immature', 'opposition', 'cursed', 'unfulfilled', 'bizarre', 'embroilment', 'deploring', 'demeaning', 'disrespect', 'importunate', 'craze', 'last-ditch', 'plaything', 'inappropriately', 'unsettling', 'cuplrit', 'disappointment', 'horrifying', 'skulk', 'streaky', 'threatening', 'unneeded', 'ail', 'incompliant', 'fat-cats', 'offending', 'unwell', 'faint', 'arduous', 'disabled', 'inconsistence', 'donside', 'repulsed', 'undecided', 'pugnacious', 'batty', 'arrogantly', 'imperfection', 'pessimism', 'stiflingly', 'tepid', 'beset', 'deprave', 'timidity', 'plague', 'inhumane', 'whimper', 'escapade', 'cancer', 'uprising', 'dastardly', 'lawlessness', 'inveigle', 'fatty', 'bull----', 'lewd', 'wretchedly', 'destruction', 'inordinately', 'confounding', 'ominously', 'mobster', 'break-up', 'subversion', 'galling', 'knife', 'rigidness', 'grumble', 'harden', 'prohibitive', 'undocumented', 'vehement', 'combative', 'squealing', 'excuse', 'exorbitantly', 'grotesque', 'extremism', 'invisible', 'lech', 'coercive', 'creaking', 'extremists', 'limp', 'malaise', 'misreading', 'pratfall', 'shameless', 'skeletons', 'wrath', 'inability', 'ineligible', 'hoodium', 'lose', 'debauchery', 'missed', 'snarl', 'obnoxiously', 'weird', 'vengeful', 'rogue', 'inextricably', 'imbalance', 'gimmicky', 'opponent', 'dogged', 'worried', 'breaking', 'partisan', 'curt', 'unpopular', 'exagerate', 'hell', 'uncaring', 'forsake', 'threats', 'explode', 'inequitable', 'lethargic', 'misdirection', 'douchebag', 'brazen', 'dangerous', 'vindictively', 'uncontrolled', 'slaughter', 'inhospitality', 'dissappointed', 'selfishly', 'object', 'midget', 'over-valuation', 'hypocritically', 'sidetracked', 'jeer', 'dogmatic', 'rile', 'breach', 'fatal', 'hideousness', 'ridicules', 'inequalities', 'angry', 'intoxicate', 'noise', 'troubling', 'ashamed', 'poky', 'rip-off', 'affront', 'wince', 'antagonism', 'mistress', 'unsupported', 'crippling', 'discontinuous', 'disgustedly', 'isolate', 'distressingly', 'jitters', 'tumbled', 'disintegration', 'inhospitable', 'forged', 'crushing', 'stupid', 'devious', 'jitter', 'neglect', 'scrambles', 'bondage', 'infernal', 'instigators', 'distorted', 'unusable', 'sticky', 'wobble', 'gainsay', 'irretrievable', 'slowww', 'incompetence', 'moron', 'dissatisfied', 'starve', 'snare', 'slow', 'bug', 'fathomless', 'inconceivable', 'debaser', 'deceitful', 'impasse', 'unworthy', 'distressed', 'disappointed', 'subjected', 'bullshyt', 'blow', 'conflict', 'scandalize', 'disavow', 'disbeliever', 'grind', 'dawdle', 'improbable', 'dissolute', 'imprison', 'incompetently', 'conflicted', 'boring', 'instigate', 'recklessness', 'cheerless', 'averse', 'extortion', 'maniacal', 'conspiratorial', 'calamitous', 'demoralize', 'suspect', 'farfetched', 'culprit', 'disappointments', 'deformed', 'mortification', 'unspeakable', 'deadweight', 'dazed', 'disrepute', 'disturbing', 'shroud', 'impermissible', 'fiasco', 'domineering', 'trashy', 'wasted', 'harbors', 'vibrating', 'irrational', 'debatable', 'distraction', 'battering', 'stuttered', 'displeasing', 'toxic', 'troublesomely', 'indigent', 'presumptuously', 'foreboding', 'stridently', 'dismayed', 'hardheaded', 'fanciful', 'desert', 'bewilder', 'sham', 'stingingly', 'smear', 'unnerved', 'self-criticism', 'blundering', 'unsettlingly', 'hedge', 'vainly', 'disingenuous', 'flagrantly', 'disparaging', 'gaffe', 'malevolently', 'condemned', 'oppress', 'inteferes', 'harassment', 'madman', 'sickness', 'swamped', 'horde', 'bumps', 'heathen', 'intractable', 'insolvent', 'tank', 'foe', 'concerned', 'agonies', 'chasten', 'dent', 'clogs', 'futilely', 'gutless', 'refused', 'disparagingly', 'grisly', 'badly', 'regress', 'dissatisfying', 'snob', 'unsettled', 'election-rigger', 'temper', 'blinding', 'downturns', 'callous', 'delirious', 'eccentric', 'exhausted', 'fanaticism', 'harshly', 'menace', 'notoriety', 'insinuating', 'unnoticed', 'two-faces', 'flirt', 'dripped', 'manipulative', 'twist', 'morbid', 'untouched', 'unjustified', 'wickedness', 'cry', 'insolent', 'lechery', 'unhappiness', 'drowning', 'monstrous', 'feverish', 'pitiable', 'tenderness', 'livid', 'shit', 'shrouded', 'foolishness', 'disobey', 'excruciatingly', 'draconic', 'fatcats', 'leer', 'mystery', 'sully', 'throb', 'pales', 'injure', 'undone', 'crumbling', 'asinine', 'bleeds', 'dirtbags', 'sanctimonious', 'incoherence', 'touted', 'showdown', 'ineffectual', 'travesty', 'revoltingly', 'strangest', 'hell-bent', 'dispiriting', 'impedance', 'stumped', 'traduce', 'self-humiliation', 'feeblely', 'annoys', 'bearish', 'haggle', 'negation', 'fleed', 'ungovernable', 'occludes', 'payback', 'detracts', 'slowed', 'preoccupy', 'subjection', 'dictator', 'fallacies', 'bonkers', 'contradiction', 'complication', 'implausibly', 'imprudence', 'ludicrous', 'stink', 'perilously', 'unsustainable', 'viciousness', 'bitterness', 'deceit', 'grumpy', 'lecherous', 'fuzzy', 'insouciance', 'maladjustment', 'obstinate', 'imminently', 'boggle', 'polluters', 'wrinkle', 'unskilled', 'unachievable', 'irresponsible', 'worst', 'accusing', 'sacrificed', 'rhapsodize', 'debase', 'stains', 'shortcoming', 'misaligns', 'crabby', 'dark', 'ignoble', 'deplore', 'vile', 'impersonal', 'chide', 'hectic', 'menacingly', 'dumps', 'ill-tempered', 'extraneous', 'flawed', 'hubris', 'quack', 'inequitably', 'overstated', 'provocative', 'sardonically', 'adverse', 'conceded', 'flimflam', 'discomfit', 'killing', 'prisoner', 'moribund', 'fumes', 'stolen', 'scarily', 'tetchy', 'inflammation', 'deride', 'decadence', 'retaliatory', 'bungling', 'choke', 'uglier', 'exagerated', 'upseting', 'unequal', 'damn', 'murderously', 'absence', 'bunk', 'penalize', 'unjustifiably', 'gabble', 'inefficacious', 'conservative', 'dearth', 'ill-defined', 'deceptively', 'scarier', 'dismay', 'fatique', 'immoderate', 'deceitfulness', 'malcontented', 'maliciousness', 'crumpled', 'loophole', 'deprive', 'enemies', 'self-defeating', 'unbelievable', 'vibrates', 'frigging', 'helpless', 'untrue', 'spoon-feed', 'laughable', 'annoyance', 'bothering', 'bruising', 'resurgent', 'devilment', 'discordance', 'rash', 'bitch', 'remorseful', 'anti-us', 'crumples', 'degeneration', 'detest', 'culpable', 'impolite', 'censure', 'intransigent', 'perplexity', 'rejection', 'anomaly', 'deceiver', 'distraughtness', 'delays', 'passe', 'accidental', 'misconceptions', 'paupers', 'perplex', 'unscrupulous', 'backaches', 'doom', 'exagerates', 'fatalistically', 'over-acted', 'inconsolable', 'adversity', 'misleadingly', 'audacity', 'adulterate', 'debauch', 'absurdness', 'imperiously', 'perverts', 'pointless', 'bully', 'illogical', 'fumble', 'condemn', 'insufficient', 'propaganda', 'drawbacks', 'puzzling', 'licentious', 'instigator', 'boastful', 'costly', 'furor', 'regression', 'inefficient', 'disconsolately', 'torrent', 'displeased', 'insinuate', 'steeply', 'critic', 'dilapidated', 'impudence', 'languid', 'acridly', 'hegemonism', 'offender', 'disorder', 'flaws', 'worry', 'mushy', 'dissed', 'immaterial', 'incongruous', 'accusingly', 'irritation', 'reprove', 'scandalous', 'strut', 'plot', 'bum', 'inadverently', 'lifeless', 'disdained', 'unhelpful', 'sluts', 'farce', 'confessions', 'fastidious', 'botch', 'hiss', 'madness', 'slander', 'randomly', 'stew', 'disaffected', 'tension', 'perverse', 'mortified', 'demoralizing', 'inconvenience', 'ignominious', 'timid', 'passiveness', 'excessive', 'exhausts', 'misalign', 'precarious', 'recessionary', 'exorbitant', 'impractical', 'violators', 'disrespecting', 'torturous', 'dies', 'foolishly', 'war-like', 'improbably', 'sickeningly', 'trash', 'injury', 'recalcitrant', 'cracked', 'depressing', 'hesitant', 'stupidest', 'unfortunate', 'perilous', 'defunct', 'bungler', 'offensiveness', 'cunt', 'sunder', 'overpaid', 'desolation', 'anarchy', 'sinfully', 'spurn', 'expropriate', 'altercation', 'disrespectful', 'hazard', 'malodorous', 'pokey', 'trauma', 'impulsive', 'mirage', 'shortchange', 'hangs', 'snobbish', 'obstruction', 'apathetic', 'absurdity', 'insignificance', 'forfeit', 'discoutinous', 'farcical', 'fugitive', 'obscure', 'antagonize', 'precariously', 'baffling', 'contaminate', 'disproportionate', 'rabid', 'deploringly', 'thoughtlessly', 'hideously', 'stupify', 'itch', 'disquiet', 'unimaginable', 'involuntarily', 'cataclysmically', 'flicker', 'malcontent', 'sting', 'sulk', 'unavoidably', 'funny', 'incense', 'disconsolation', 'rampant', 'unrelenting', 'unpleasant', 'incompatibility', 'irregularity', 'remorselessness', 'jealousness', 'fret', 'unobserved', 'slowwww', 'grouse', 'discouragement', 'fusty', 'repetitive', 'imaginary', 'contort', 'raped', 'filth', 'rip', 'stinks', 'rumbling', 'discordant', 'dissension', 'incomprehensible', 'depress', 'disgraced', 'inclement', 'blurt', 'inimically', 'thwart', 'backward', 'irking', 'swindle', 'fanatical', 'banishment', 'aborted', 'arduously', 'dungeons', 'glower', 'picket', 'radical', 'whore', 'insensitivity', 'simplistic', 'dungeon', 'diametrically', 'inevitably', 'satirical', 'die-hard', 'languor', 'ridicule', 'autocratic', 'revulsive', 'sugar-coat', 'humiliate', 'guiltily', 'obsessive', 'prideful', 'faulty', 'jittery', 'inexpert', 'stodgy', 'detestably', 'frantic', 'cheat', 'compulsive', 'despicably', 'frustrations', 'hissed', 'break', 'infuriated', 'noxious', 'sink', 'litigious', 'aweful', 'protested', 'ill-natured', 'dislocated', 'misbecome', 'discombobulate', 'garish', 'penalty', 'tedious', 'vomited', 'outlaw', 'horrific', 'vomit', 'evils', 'wily', 'wrong', 'poison', 'squeal', 'alarmingly', 'displease', 'dejection', 'intimidate', 'overthrows', 'sag', 'prick', 'silly', 'devilishly', 'reluctance', 'cunts', 'prejudices', 'unfit', 'inculcate', 'malevolence', 'stereotypically', 'sceptical', 'irrecoverableness', 'anti-proliferation', 'fraud', 'tired', 'disturb', 'inaction', 'apocalypse', 'unprove', 'bloodthirsty', 'blunder', 'intrude', 'revert', 'casualty', 'doubts', 'guilt', 'irregular', 'bothersome', 'impropriety', 'powerless', 'fat-cat', 'irate', 'motionless', 'apologists', 'mistrust', 'outsider', 'susceptible', 'unsteadiness', 'villainously', 'effrontery', 'criticism', 'pique', 'killer', 'dumping', 'risky', 'aches', 'unnecessary', 'dismissive', 'distracting', 'freakishly', 'acerbate', 'laggy', 'frozen', 'desititute', 'sues', 'ugliness', 'writhe', 'confined', 'incessantly', 'problem', 'regretfully', 'appallingly', 'dragoon', 'frenzied', 'lunaticism', 'outrage', 'moot', 'irredeemably', 'stump', 'stuttering', 'ill-designed', 'jutter', 'cheater', 'disordered', 'gallingly', 'clumsy', 'heckles', 'lackluster', 'limited', 'flairs', 'misrepresent', 'slap', 'smash', 'inarticulate', 'spoil', 'unprepared', 'insurmountably', 'pettifog', 'imprecise', 'depressingly', 'hooligan', 'onerous', 'disgracefully', 'snagged', 'fell', 'evildoer', 'straggle', 'viciously', 'd*mn', 'hurts', 'despot', 'undermined', 'implode', 'pig', 'implicate', 'inattentive', 'paradoxically', 'thoughtless', 'disapprove', 'improperly', 'mistake', 'scariest', 'puny', 'treacherous', 'bother', 'complaining', 'toil', 'flagrant', 'error', 'incoherently', 'oddities', 'conflicting', 'toll', 'disorient', 'inflict', 'misbegotten', 'tormented', 'satirize', 'enrage', 'long-winded', 'bitingly', 'irreformable', 'complains', 'crappy', 'liars', 'slug', 'apologist', 'belated', 'cataclysmal', 'stymied', 'testily', 'distrusting', 'womanizing', 'irrecoverablenesses', 'hard-hit', 'warned', 'burning', 'grumpily', 'erroneous', 'virulent', 'weaker', 'animosity', 'estranged', 'misaligned', 'cuss', 'craziness', 'solemn', 'perversely', 'shriek', 'demonized', 'nervousness', 'backbiting', 'obliterate', 'bleakly', 'unkindly', 'humid', 'uproot', 'bombard', 'blunders', 'feebleminded', 'untruthful', 'hassled', 'noises', 'hairloss', 'militancy', 'cruelties', 'bickering', 'skeptical', 'excruciating', 'distastefully', 'torture', 'crazily', 'dilly-dally', 'overdo', 'gripes', 'scornfully', 'renounce', 'humiliating', 'limitations', 'misconception', 'unpleasantries', 'hypocricy', 'accost', 'irritations', 'impudent', 'contrived', 'conspirator', 'aground', 'reviled', 'drips', 'babble', 'heavy-handed', 'sarcasm', 'enslave', 'cruelest', 'inundated', 'worsening', 'rejected', 'impeach', 'leak', 'bitchy', 'disastrously', 'contaminated', 'crude', 'disruptive', 'fatigue', 'panicking', 'hustler', 'stunt', 'layoff-happy', 'slothful', 'discrimination', 'oppressors', 'expensive', 'damage', 'dud', 'complacent', 'hamper', 'invader', 'ironies', 'peevish', 'procrastinates', 'slanderer', 'unbearablely', 'villainous', 'illiterate', 'tricky', 'bleeding', 'dishonorablely', 'inferiority', 'prejudge', 'brutality', 'erosion', 'quibble', 'repugnantly', 'anxiety', 'impunity', 'grate', 'regressive', 'irreversible', 'cataclysm', 'dissenter', 'earsplitting', 'shortcomings', 'detests', 'repugn', 'vociferously', 'quarrels', 'unstable', 'hardhearted', 'interfere', 'hype', 'regretted', 'fascism', 'curses', 'daze', 'blaspheme', 'interruption', 'fever', 'inhibition', 'frighteningly', 'impaired', 'beg', 'spilling', 'incompatible', 'gibber', 'nightmarish', 'scuff', 'undignified', 'revoke', 'disgusting', 'overzelous', 'mope', 'fevers', 'deceivers', 'renunciation', 'grapple', 'disregardful', 'expunge', 'worrying', 'bungle', 'irrecoverable', 'displaced', 'flair', 'disruption', 'subvert', 'unintelligible', 'unsecure', 'insubstantially', 'insubordinate', 'frenzy', 'indiscretion', 'ragged', 'disadvantageous', 'failing', 'premeditated', 'rupture', 'nitpicking', 'bedlamite', 'unwatchable', 'critics', 'audaciously', 'overdue', 'stupor', 'confession', 'weep', 'sucked', 'deny', 'temerity', 'scorching', 'objectionable', 'murky', 'malignant', 'discountenance', 'uncompromisingly', 'chastisement', 'dirtbag', 'gasp', 'haggard', 'castigate', 'squabbling', 'imprecision', 'limitation', 'bigotries', 'disillusions', 'grouch', 'mangling', 'squirm', 'traped', 'accusations', 'horrify', 'outmoded', 'irreparable', 'shrivel', 'miserable', 'chronic', 'leech', 'brutalizing', 'restless', 'daunt', 'uproarous', 'engulf', 'omit', 'unfunded', 'dinky', 'injudicious', 'obscenity', 'wickedly', 'backache', 'dismalness', 'puzzled', 'tiresome', 'unproves', 'loathly', 'unsupportive', 'stumble', 'cartoonish', 'over-hyped', 'presumptuous', 'mistakes', 'cramping', 'fidget', 'elimination', 'upheaval', 'scrap', 'dangerousness', 'servitude', 'indignation', 'sneeringly', 'malice', 'stun', 'sullen', 'acridness', 'capsize', 'throbs', 'hinder', 'distortion', 'undesirable', 'revolting', 'virus', 'irresponsibly', 'commotion', 'grouchy', 'hardened', 'overshadow', 'throbbed', 'impertinent', 'raging', 'freaks', 'vengefully', 'subversively', 'slog', 'inessential', 'deceiving', 'racists', 'perfunctory', 'revengefully', 'inescapable', 'dissonant', 'inconsequentially', 'retards', 'infuriating', 'coerce', 'hypocrites', 'feeble', 'senile', 'slogging', 'trashed', 'horrifys', 'disillusion', 'vibration', 'pollute', 'fooled', 'wrongly', 'criticize', 'sloth', 'ignominiously', 'suppress', 'rubbish', 'brashly', 'redundant', 'gloom', 'zap', 'disgustfully', 'lukewarm', 'garbage', 'goofy', 'sermonize', 'hopelessness', 'admonishingly', 'awfulness', 'fears', 'invidious', 'punishable', 'spiteful', 'relapse', 'hotheaded', 'terror-genic', 'musty', 'bait', 'disbelieve', 'fussy', 'swagger', 'unfriendly', 'picky', 'counter-productive', 'hatefully', 'mendacious', 'stifling', 'greed', 'inelegance', 'terrorism', 'disasterous', 'pains', 'static', 'fatuous', 'predicament', 'procrastination', 'anarchistic', 'anti-', 'disapprobation', 'hestitant', 'insolently', 'macabre', 'boisterous', 'hacks', 'impetuous', 'hardships', 'virulently', 'insidiously', 'darkness', 'unwilling', 'distaste', 'egregious', 'flounder', 'marginally', 'infest', 'run-down', 'zealous', 'resent', 'melodramatic', 'fatefully', 'failure', 'worthlessness', 'bomb', 'reluctantly', 'problematic', 'stubborn', 'browbeat', 'ill-mannered', 'predatory', 'achey', 'assassin', 'indulge', 'lackadaisical', 'boycott', 'shortsightedness', 'cynical', 'illicit', 'languish', 'quarrellously', 'insanely', 'diabolically', 'crashing', 'subjugate', 'beware', 'taut', 'sluggish', 'dwindling', 'careless', 'disintegrate', 'inefficiently', 'nonsense', 'profane', 'disrespectfully', 'troublingly', 'uncompromising', 'breakups', 'meltdown', 'equivocal', 'ill-used', 'wrip', 'mischief', 'manipulate', 'dissent', 'pointlessly', 'pretence', 'suffers', 'unacceptably', 'meager', 'severe', 'gripe', 'bemoaning', 'infections', 'uneventful', 'unlawfulness', 'obscured', 'rattle', 'conceit', 'incendiary', 'wasteful', 'notorious', 'decrepitude', 'wripped', 'savaged', 'unknown', 'outrageously', 'flabbergast', 'oddity', 'disgruntle', 'loathe', 'overwhelming', 'unlawful', 'enemy', 'stumps', 'ignorance', 'bowdlerize', 'hasseling', 'insufferably', 'evasive', 'grim', 'mawkishly', 'disoobedient', 'brat', 'reticent', 'feckless', 'infuriate', 'lambast', 'petty', 'criticizing', 'denial', 'depressions', 'extravagantly', 'smouldering', 'unsavory', 'impious', 'autocrat', 'apocalyptic', 'incompetent', 'stereotype', 'consternation', 'tin-y', 'un-viewable', 'inextricable', 'unproving', 'inexpertly', 'degenerately', 'peevishly', 'crass', 'plunderer', 'lurking', 'venomous', 'flaunt', 'acrimonious', 'confounded', 'credulous', 'disconcert', 'funky', 'insensitively', 'unbelievably', 'unsatisfactory', 'waning', 'nettlesome', 'dispensable', 'qualm', 'weirdly', 'emasculate', 'defects', 'disgustful', 'messes', 'impinge', 'futile', 'treasonous', 'troublesome', 'weaknesses', 'lanky', 'scars', 'dispirit', 'nonresponsive', 'indiscreet', 'plasticky', 'catastrophe', 'allergy', 'infirm', 'disagreeable', 'smoulder', 'brood', 'insufficiently', 'tattered', 'unexpectedly', 'uncooperative', 'condescendingly', 'scolded', 'mismanage', 'ranting', 'egocentric', 'crumple', 'retreat', 'brutalities', 'narrower', 'insatiable', 'outcry', 'unusably', 'mulish', 'scolding', 'officious', 'despotism', 'denied', 'nightmare', 'entangle', 'polemize', 'recant', 'abominably', 'delinquent', 'deluded', 'annihilate', 'fractiously', 'fictional', 'anxious', 'devastatingly', 'anti-social', 'frustration', 'insulted', 'ironical', 'naively', 'phobia', 'rebuff', 'craftily', 'quarrelsome', 'scandalized', 'muddle', 'betrayer', 'deadlock', 'rivalry', 'hedonistic', 'felonious', 'indignity', 'madden', 'resigned', 'sags', 'severity', 'solicitude', 'taunts', 'infamously', 'bloated', 'dented', 'two-faced', 'treachery', 'nepotism', 'condemnation', 'mispronounce', 'lackey', 'curse', 'lame', 'bravado', 'disaccord', 'mists', 'impugn', 'fiction', 'morbidly', 'pedantic', 'twists', 'squash', 'miseries', 'destitution', 'trample', 'stupified', 'nauseate', 'eschew', 'picketed', 'hazy', 'injustice', 'miserableness', 'sweaty', 'thankless', 'reproachful', 'annoying', 'stinging', 'totalitarian', 'frictions', 'crushed', 'deviousness', 'latency', 'sickening', 'obnoxious', 'devilish', 'dishearten', 'tumble', 'nefarious', 'hellion', 'upbraid', 'shrill', 'tarnish', 'odor', 'betrays', 'appall', 'dense', 'declining', 'inconsiderately', 'pandemonium', 'lapses', 'desecrate', 'disgusted', 'flicering', 'scandalously', 'anti-white', 'hung', 'petrified', 'complained', 'fundamentalism', 'illegitimate', 'struck', 'choppy', 'unresponsive', 'austere', 'gracelessly', 'adversarial', 'enraged', 'subpoena', 'contaminating', 'inefficiency', 'pertinaciously', 'hazardous', 'detesting', 'skeptic', 'fierce', 'lorn', 'covetous', 'insupportably', 'massacre', 'irony', 'unproductive', 'frightening', 'suspiciously', 'absurd', 'tyranny', 'abused', 'mundane', 'smoke', 'scream', 'regrets', 'hostile', 'unacceptable', 'scar', 'challenging', 'prejudicial', 'unnatural', 'scourge', 'irksomely', 'maliciously', 'passive', 'grudgingly', 'shameful', 'smelling', 'foolish', 'villianous', 'asunder', 'licentiousness', 'defrauding', 'sick', 'spew', 'imprisonment', 'clamorous', 'inadvisable', 'occluded', 'overturn', 'assassinate', 'scandals', 'sloooow', 'sarcastically', 'plotters', 'glare', 'lapsed', 'defiantly', 'rumor', 'saggy', 'inanely', 'dubious', 'strident', 'vulnerable', 'lawbreaker', 'threaten', 'quarrel', 'rot', 'fluster', 'worse', 'hastily', 'injustices', 'despondency', 'senseless', 'painfull', 'rifts', 'stealing', 'bribery', 'creep', 'miscreant', 'enraging', 'revolt', 'bicker', 'disobedient', 'vague', 'harassed', 'objection', 'little-known', 'hater', 'kooky', 'reprovingly', 'antagonist', 'denies', 'erroneously', 'snags', 'abuses', 'myth', 'punish', 'bitter', 'frustrate', 'fatcat', 'sadden', 'smolder', 'intrusion', 'bellicose', 'fruitless', 'pandering', 'blabber', 'lumpy', 'pout', 'paucity', 'enjoin', 'repulsive', 'disapointed', 'taint', 'clique', 'ill-sorted', 'breakdown', 'obtrusive', 'confront', 'sunken', 'uncivilized', 'disgrace', 'subtract', 'plunder', 'wobbled', 'glibly', 'conceited', 'scarcity', 'gloatingly', 'mania', 'oversimplify', 'confrontation', 'unfinished', 'uninsured', 'irredeemable', 'delay', 'obscene', 'declaim', 'allergies', 'embarrass', 'banalize', 'sketchy', 'meddlesome', 'zombie', 'toughness', 'decayed', 'fury', 'arcane', 'brute', 'falsehood', 'haze', 'sidetrack', 'naïve', 'tantrum', 'delayed', 'dislikes', 'fictitious', 'sadly', 'catastrophic', 'strenuous', 'grumpier', 'tarnishes', 'hypocrite', 'gall', 'avenge', 'betrayals', 'panick', 'attacks', 'loses', 'damaged', 'degenerate', 'impetuously', 'inglorious', 'coldly', 'pretend', 'unrelentingly', 'unaccustomed', 'flak', 'bulkiness', 'impatience', 'intolerablely', 'uproarious', 'hardliners', 'cruelness', 'alarming', 'mournful', 'backaching', 'brimstone', 'muddy', 'overbearing', 'freaking', 'hissing', 'criticized', 'hiliarious', 'tardy', 'protest', 'full-blown', 'scams', 'sarcastic', 'worrisome', 'menacing', 'sneakily', 'rhetorical', 'terror', 'childish', 'nettle', 'importune', 'sloppy', 'dire', 'joke', 'oppressive', 'brutalising', 'cash-strapped', 'harasses', 'infringe', 'facetious', 'so-cal', 'jobless', 'egregiously', 'barbarity', 'collusion', 'irritated', 'meddle', 'orphan', 'relentlessness', 'insufficiency', 'woeful', 'disquieting', 'omission', 'inaccuracies', 'mudslinger', 'dumbfound', 'petrify', 'inapt', 'rival', 'struggle', 'threesome', 'gimmicked', 'wrought', 'molest', 'pugnaciously', 'smut', 'knave', 'unwillingly', 'disvalue', 'inordinate', 'indoctrinate', 'disapproval', 'enervate', 'direness', 'downheartedly', 'iniquitous', 'messed', 'anxieties', 'ruining', 'ineffectiveness', 'bashful', 'neurotic', 'shortsighted', 'offence', 'patronize', 'accursed', 'hopeless', 'gimmicking', 'loathing', 'slut', 'despotic', 'oppression', 'indecorum', 'flirty', 'downgrade', 'prohibit', 'illogic', 'fruitlessly', 'decry', 'condescend', 'tyrannically', 'confound', 'bid-rigging', 'deprived', 'distains', 'doddering', 'fateful', 'disable', 'graceless', 'insubstantial', 'jeopardy', 'lawbreaking', 'inconsequent', 'misinform', 'baseless', 'tangles', 'asininely', 'awful', 'despondence', 'inflationary', 'overrun', 'procrastinate', 'shadowy', 'unpredictable', 'overbearingly', 'hates', 'nightmarishly', 'vibrated', 'agony', 'sass', 'remorse', 'savages', 'discomfort', 'besmirch', 'lack', 'cocky', 'pillage', 'underdog', 'faltered', 'stumbles', 'f**k', 'sack', 'stupidly', 'instability', 'roadblocks', 'snag', 'irrepressible', 'embarrassment', 'laughably', 'bleakness', 'cutthroat', 'blather', 'exterminate', 'goading', 'humiliation', 'devilry', 'mortify', 'squeals', 'hardball', 'wobbles', 'contradictory', 'oppressively', 'menial', 'mistrustfully', 'mourner', 'imposing', 'detracting', 'impossibly', 'negatives', 'ill-advised', 'brusque', 'carnage', 'obstacle', 'suicide', 'ho-hum', 'oddly', 'afraid', 'dread', 'abrasive', 'dauntingly', 'mystify', 'blandish', 'blatant', 'ill-conceived', 'slanders', 'naughty', 'whips', 'spoiled', 'wild', 'controversy', 'dope', 'dissidents', 'incoherent', 'bullying', 'gross', 'domineer', 'ire', 'banal', 'torturously', 'err', 'bothers', 'loss', 'lascivious', 'vain', 'mortifying', 'deterioration', 'split', 'decline', 'exhorbitant', 'irk', 'wretched', 'outraged', 'prejudice', 'hotbeds', 'long-time', 'direly', 'distract', 'caustic', 'shallow', 'rotten', 'byzantine', 'hurtful', 'insults', 'weaken', 'famished', 'thug', 'dissonantly', 'capitulate', 'frown', 'grossly', 'hoodwink', 'scoff', 'afflictive', 'contortions', 'fearful', 'dissing', 'inflame', 'abscond', 'womanizer', 'inflated', 'mispronounced', 'helplessly', 'concessions', 'junkyard', 'cruelly', 'galls', 'tanks', 'concen', 'scoundrel', 'finagle', 'low-rated', 'misinformed', 'frazzled', 'exhaust', 'rhetoric', 'jutters', 'inflammed', 'peeled', 'ripoff', 'indecency', 'detraction', 'fatigued', 'acrid', 'swollen', 'misunderstandings', 'molestation', 'exploitation', 'hegemony', 'annoy', 'contrive', 'crowded', 'complain', 'derisive', 'slower', 'terribly', 'thicker', 'tragic', 'yawn', 'prate', 'drains', 'foulness', 'stringent', 'dusty', 'corrupting', 'diabolic', 'bothered', 'dishonest', 'incognizant', 'overacted', 'wayward', 'stagnant', 'sorry', 'unprofitable', 'smuttier', 'flagging', 'conflicts', 'harsh', 'addicts', 'disapointing', 'greedy', 'awfully', 'forlornly', 'symptom', 'top-heavy', 'tarnishing', 'depression', 'rants', 'ailment', 'forbid', 'primitive', 'errors', 'chatter', 'imperfectly', 'inactive', 'irretating', 'quibbles', 'spooky', 'parody', 'partiality', 'belittled', 'notoriously', 'lagging', 'fracture', 'nitpick', 'spewing', 'insecure', 'spews', 'nagging', 'devil', 'collapse', 'disadvantages', 'blackmail', 'jumpy', 'messy', 'sober', 'ludicrously', 'intefere', 'aspersions', 'creepy', 'boiling', 'stressful', 'halfheartedly', 'jabber', 'refusing', 'craven', 'dissocial', 'fanatics', 'lecher', 'mindlessly', 'screwy', 'vilify', 'seriousness', 'warning', 'traumatized', 'grievances', 'liar', 'authoritarian', 'hysterics', 'unuseably', 'corrosions', 'pitiful', 'vociferous', 'overstatement', 'selfinterested', 'discomfititure', 'frightful', 'depravedly', 'suppression', 'archaic', 'gangster', 'inadequate', 'heretic', 'indefensible', 'relentlessly', 'nonexistent', 'cronyism', 'corrode', 'grievous', 'invalidate', 'paradoxical', 'annoyances', 'aggrieve', 'adulterier', 'polution', 'irked', 'criminal', 'ruthlessly', 'delusional', 'lousy', 'succumb', 'unclear', 'bugs', 'hurt', 'impair', 'affliction', 'desolately', 'freakish', 'fuss', 'scant', 'harridan', 'egotism', 'creeping', 'hothouse', 'skimpy', 'offensive', 'regretful', 'starvation', 'choleric', 'despairingly', 'harried', 'regret', 'short-lived', 'illusory', 'ruts', 'incomprehension', 'doubtfully', 'indeterminable', 'overact', 'imbecile', 'disorderly', 'disown', 'annoyed', 'worryingly', 'villianously', 'get-rich', 'clunky', 'misrepresentation', 'hard-line', 'sloppily', 'irrelevant', 'flare', 'disconsolate', 'indecision', 'sour', 'bulkyness', 'stingy', 'clamor', 'exorbitantance', 'displeasure', 'far-fetched', 'errant', 'marginal', 'imperious', 'doldrums', 'disparage', 'balk', 'flee', 'peril', 'disagree', 'non-confidence', 'chaotic', 'craps', 'hapless', 'deceptive', 'muscle-flexing', 'shrilly', 'ultra-hardline', 'unbearable', 'vent', 'wretchedness', 'explosive', 'confrontational', 'perversity', 'sufferers', 'afflict', 'inconsiderate', 'heavyhearted', 'shimmer', 'lies', 'rascal', 'lemon', 'discourage', 'unforeseen', 'madly', 'unleash', 'falling', 'hogs', 'anti-american', 'burns', 'halfhearted', 'slack', 'ruins', 'sucker', 'ill-favored', 'niggle', 'rebellious', 'figurehead'}, {'accept', 'observe', 'confirm', 'show', 'demonstrate', 'explain', 'establish', 'know', 'acknowledge', 'prove', 'see', 'understand', 'learn', 'reveal', 'recognise', 'note'}, {'neglect', 'avoid', 'refrain', 'decline', 'forget', 'fail'}, {'upbeat', 'rewarding', 'outperform', 'loved', 'commendable', 'smoother', 'glowing', 'peaceable', 'faithfulness', 'roomy', 'marveled', 'champ', 'dependable', 'inviolate', 'amazed', 'improve', 'invincibility', 'goood', 'promising', 'luck', 'understandable', 'humourous', 'leverage', 'patriot', 'mesmerize', 'loyalty', 'effectively', 'nimble', 'lovable', 'compliment', 'long-lasting', 'gainfully', 'harmless', 'breakthroughs', 'better', 'affirmation', 'flatter', 'self-determination', 'tough', 'authoritative', 'cuteness', 'defender', 'supremely', 'feat', 'propitiously', 'exceled', 'fervidly', 'abundance', 'altruistically', 'cleanly', 'time-honored', 'well-backlit', 'rightfully', 'divinely', 'pride', 'love', 'nurturing', 'halcyon', 'nourish', 'breathtakingly', 'lush', 'enviably', 'helpful', 'finer', 'upgraded', 'mesmerizingly', 'sexy', 'envious', 'blissful', 'audibly', 'priceless', 'excellently', 'commodious', 'pepping', 'fast-paced', 'purify', 'hallmarks', 'mercifully', 'revives', 'respite', 'exultingly', 'cleverly', 'progress', 'fastest', 'hotcake', 'humorous', 'attune', 'bright', 'unrestricted', 'amusingly', 'significant', 'positive', 'exalting', 'permissible', 'nourishing', 'palatial', 'neatest', 'conciliatory', 'exalted', 'headway', 'ovation', 'decisive', 'undamaged', 'chaste', 'renewed', 'fun', 'stunned', 'lavishly', 'impressive', 'yay', 'astonished', 'valiant', 'overjoyed', 'beautify', 'freed', 'perfect', 'shimmering', 'overtook', 'whooa', 'accurately', 'mature', 'warmth', 'elated', 'mightily', 'gained', 'subsidized', 'acclaimed', 'delicacy', 'pluses', 'liberation', 'delightful', 'stabilize', 'unassailable', 'astounded', 'golden', 'flutter', 'foresight', 'eagerly', 'brilliance', 'large-capacity', 'simplest', 'swiftness', 'smile', 'undisputably', 'earnestness', 'amazing', 'instructive', 'luckiness', 'cheapest', 'kindliness', 'unparalleled', 'exceeded', 'fabulously', 'well-managed', 'dignify', 'festive', 'marvellous', 'laudable', 'redemption', 'prodigiously', 'easy-to-use', 'exceedingly', 'grateful', 'survival', 'excellency', 'endorsing', 'goodly', 'saint', 'upgradeable', 'peaceful', 'nice', 'astound', 'easy', 'talents', 'jovial', 'user-replaceable', 'prettily', 'wowing', 'rejuvenated', 'luxuriously', 'cost-saving', 'courageous', 'acclaim', 'fascinating', 'positively', 'wieldy', 'cheery', 'tolerable', 'inexpensive', 'preferable', 'valor', 'feisty', 'grace', 'sweetly', 'reform', 'beneficiary', 'affably', 'sprightly', 'ardor', 'blithe', 'ecstatically', 'glimmering', 'congratulations', 'successes', 'awesomeness', 'gallant', 'thankful', 'edify', 'first-in-class', 'compactly', 'dauntless', 'pleases', 'infallible', 'successfully', 'affirm', 'smitten', 'kindness', 'smartest', 'fidelity', 'complemented', 'adoringly', 'immaculate', 'soft', 'felicitate', 'inspire', 'poetic', 'formidable', 'stimulates', 'satisfy', 'effusiveness', 'swankiest', 'tender', 'keenly', 'hardy', 'irreproachable', 'enterprising', 'receptive', 'merry', 'reliable', 'shimmeringly', 'saintly', 'aspiration', 'lawful', 'rectify', 'laudably', 'wondrous', 'frolic', 'gentle', 'satisfactory', 'innovation', 'gratified', 'adore', 'jubilantly', 'humorously', 'instantly', 'keenness', 'distinguished', 'advantage', 'undisputable', 'exhilarating', 'meticulously', 'painlessly', 'rational', 'heavenly', 'eager', 'adulate', 'bolster', 'hale', 'marvelous', 'straightforward', 'thrill', 'cohere', 'gaiety', 'happiness', 'admiration', 'fecilitous', 'convienient', 'brilliantly', 'marvelousness', 'substantive', 'pleasantly', 'sociable', 'outshone', 'unreal', 'conveniently', 'romantic', 'fascination', 'accomplished', 'heartfelt', 'brighter', 'authentic', 'crisper', 'propitious', 'handsome', 'ideally', 'gain', 'maneuverable', 'trustworthiness', 'softer', 'heroically', 'versatile', 'staunchly', 'upliftment', 'enrapt', 'diversified', 'promised', 'cheaper', 'truthfulness', 'lovably', 'benefits', 'richly', 'thrive', 'trump', 'breathtaking', 'first-rate', 'balanced', 'correct', 'god-send', 'sagely', 'friendliness', 'exaltedly', 'foolproof', 'remunerate', 'accessible', 'altruistic', 'charming', 'glowingly', 'raptureously', 'togetherness', 'dreamland', 'faithfully', 'beneficial', 'virtuously', 'enticing', 'rapid', 'solidarity', 'miracle', 'pros', 'ingeniously', 'abound', 'led', 'originality', 'outstanding', 'heal', 'regard', 'vouch', 'eminence', 'unbeatable', 'intricate', 'endearing', 'sensationally', 'exuberant', 'diligent', 'masterpieces', 'graciously', 'dashing', 'whoooa', 'supple', 'solicitously', 'impressed', 'civility', 'effectiveness', 'elegant', 'integral', 'thrills', 'freshest', 'hallmark', 'enthusiasm', 'important', 'tenaciously', 'fancinating', 'straighten', 'famed', 'reformed', 'courage', 'champion', 'lyrical', 'tickle', 'affectionate', 'thrilling', 'lower-priced', 'congratulate', 'ingenuously', 'beneficent', 'gold', 'approval', 'grand', 'notably', 'nicer', 'regal', 'exuberance', 'hotcakes', 'dominate', 'smarter', 'liberty', 'proves', 'reconciliation', 'improved', 'playfully', 'miraculous', 'enchanting', 'sweeten', 'prompt', 'consistent', 'lifesaver', 'ultra-crisp', 'well-intentioned', 'ethical', 'idolized', 'unlimited', 'uncomplicated', 'compassionate', 'endorsement', 'bullish', 'comfortable', 'crisp', 'steadiness', 'heros', 'energize', 'slammin', 'phenomenal', 'trusty', 'appreciative', 'excelled', 'accomplishments', 'mesmerized', 'nifty', 'outperformed', 'inestimable', 'assurances', 'invincible', 'marvelously', 'triumphantly', 'angel', 'brilliant', 'expertly', 'ecstasies', 'useable', 'preeminent', 'flourishing', 'memorable', 'earnestly', 'stainless', 'honest', 'eagerness', 'sharp', 'enraptured', 'merrily', 'achievements', 'compact', 'luxuriate', 'fascinatingly', 'steadiest', 'praise', 'chivalry', 'well-received', 'deginified', 'pleasurably', 'affection', 'light-hearted', 'examplary', 'meritorious', 'toll-free', 'mighty', 'hilarious', 'fortunately', 'indebted', 'supreme', 'stellar', 'beautifullly', 'amicable', 'dumbfounded', 'generosity', 'sensible', 'amuse', 'enthusiast', 'credence', 'glow', 'momentous', 'enthuse', 'thumbs-up', 'greatest', 'geekier', 'prefers', 'desiring', 'smiling', 'pleasure', 'well-balanced', 'seamless', 'swift', 'wisely', 'breathlessness', 'cherished', 'buoyant', 'defeated', 'faultless', 'self-sufficient', 'stimulate', 'classic', 'delighted', 'profuse', 'cleaner', 'magic', 'awesomely', 'loves', 'spellbound', 'abounds', 'lean', 'commend', 'low-priced', 'profound', 'available', 'unselfish', 'agreeableness', 'complimentary', 'applaud', 'honoring', 'humour', 'speedily', 'loyal', 'articulate', 'excallent', 'rockstar', 'winner', 'abundant', 'enticingly', 'seasoned', 'rightness', 'diligently', 'superbly', 'comfort', 'benifits', 'cherub', 'dexterous', 'retractable', 'celebration', 'stimulative', 'cure-all', 'advocate', 'wise', 'unfettered', 'homage', 'fearless', 'leads', 'advocated', 'smilingly', 'favorited', 'beauteous', 'top', 'impress', 'futurestic', 'joy', 'vibrantly', 'gumption', 'irresistible', 'standout', 'victorious', 'resourcefulness', 'prosperity', 'righteously', 'wonderous', 'twinkly', 'low-cost', 'traction', 'masterfully', 'refine', 'consummate', 'world-famous', 'dawn', 'ebullient', 'promise', 'blessing', 'promises', 'optimistic', 'bravo', 'revolutionary', 'eloquence', 'lawfully', 'suave', 'trendy', 'cure', 'nicely', 'worth-while', 'defeat', 'joyful', 'qualified', 'right', 'outstandingly', 'advanced', 'bliss', 'ease', 'well-educated', 'attractively', 'encouraging', 'affluence', 'incredibly', 'congenial', 'benevolent', 'indulgent', 'precise', 'self-respect', 'trumpet', 'sumptuous', 'revel', 'civilize', 'resplendent', 'zippy', 'dominated', 'heroine', 'efficient', 'matchless', 'successful', 'splendidly', 'affluent', 'lively', 'splendor', 'satisfying', 'amicably', 'resounding', 'richer', 'compassion', 'secure', 'risk-free', 'merriness', 'efficacious', 'wowed', 'charisma', 'lucky', 'like', 'eminent', 'pleasing', 'agile', 'imaginative', 'captivate', 'healthful', 'prudence', 'ample', 'bonny', 'victory', 'fiery', 'bless', 'pinnacle', 'charismatic', 'appreciate', 'personages', 'creative', 'brave', 'faster', 'enviousness', 'honorable', 'achievable', 'prospros', 'law-abiding', 'enviously', 'tranquil', 'healthy', 'prodigious', 'suffice', 'liking', 'stability', 'adulatory', 'imaculate', 'refresh', 'fluent', 'facilitate', 'illuminating', 'low-price', 'stupendous', 'guidance', 'impressively', 'subsidizes', 'catchy', 'jollify', 'felicity', 'woo', 'supports', 'euphoria', 'novelty', 'awe', 'favour', 'visionary', 'peach', 'rejuvenating', 'jubilant', 'trust', 'unquestionably', 'cool', 'chivalrous', 'brotherly', 'shiny', 'trusting', 'user-friendly', 'sufficient', 'multi-purpose', 'adaptive', 'colorful', 'enthusiastically', 'dextrous', 'pain-free', 'peace', 'ardent', 'free', 'adjustable', 'overtaken', 'brainy', 'ingenious', 'savings', 'deference', 'sturdy', 'sane', 'master', 'vouchsafe', 'recovery', 'supported', 'comforting', 'talented', 'well-regarded', 'vivid', 'jubilate', 'heaven', 'expeditiously', 'sustainable', 'astonishingly', 'safe', 'well-established', 'thoughtfulness', 'openly', 'lustrous', 'jubilation', 'empathize', 'redeeming', 'restructure', 'angelic', 'gleefully', 'adorer', 'godlike', 'cooperative', 'eases', 'acclamation', 'glory', 'handier', 'enjoyment', 'reassure', 'treasure', 'titillatingly', 'exalt', 'brainiest', 'autonomous', 'equitable', 'pampered', 'gorgeous', 'wins', 'defeating', 'intelligible', 'kudos', 'insightfully', 'exemplary', 'warmhearted', 'exaltation', 'unforgettable', 'promptly', 'awsome', 'beckons', 'masterful', 'joyous', 'outwit', 'exemplar', 'ecstatic', 'stable', 'swankier', 'quaint', 'salute', 'smartly', 'coolest', 'peps', 'assure', 'preferably', 'enrich', 'logical', 'excite', 'flexibility', 'clarity', 'unfazed', 'uplifting', 'kindly', 'humility', 'fervently', 'works', 'jaw-droping', 'lavish', 'overture', 'stately', 'first-class', 'endear', 'ambitious', 'affable', 'rich', 'satisified', 'enhance', 'accommodative', 'innocuous', 'agreeably', 'easiness', 'wonderously', 'revive', 'accomodative', 'economical', 'intrigue', 'judicious', 'afford', 'glad', 'self-sufficiency', 'efficiently', 'low-risk', 'clever', 'idol', 'satisfied', 'succeeding', 'amply', 'profusion', 'speedy', 'admirable', 'steadfastly', 'plentiful', 'simplified', 'beauty', 'aspirations', 'viewable', 'reaffirmation', 'invigorate', 'capability', 'convincing', 'mastery', 'suffices', 'fervid', 'patriotic', 'restored', 'roomier', 'gladly', 'exceed', 'endorse', 'portable', 'hero', 'frugal', 'famous', 'friendly', 'proud', 'evaluative', 'outperforming', 'elan', 'flawless', 'soothe', 'intimate', 'gladness', 'accomplish', 'pepped', 'continuity', 'prefered', 'avidly', 'romanticize', 'attraction', 'delicious', 'restructuring', 'exquisite', 'idyllic', 'witty', 'ameliorate', 'top-notch', 'exhilaratingly', 'unequivocally', 'considerate', 'jaw-dropping', 'breeze', 'bonuses', 'enthusiastic', 'outdone', 'outperforms', 'lead', 'savvy', 'fancy', 'doubtless', 'fragrant', 'ftw', 'jolly', 'fans', 'fruitful', 'affability', 'hopeful', 'navigable', 'courageousness', 'improving', 'gooood', 'entertains', 'passionately', 'well-mannered', 'groundbreaking', 'joyfully', 'generous', 'tantalizingly', 'integrated', 'blossom', 'poised', 'blockbuster', 'clearer', 'energy-efficient', 'pamperedness', 'assurance', 'hot', 'valuable', 'deservedly', 'elegance', 'honor', 'inestimably', 'extraordinarily', 'perfectly', 'rock-stars', 'feasibly', 'cost-effective', 'energetic', 'enjoyably', 'well-connected', 'adroitly', 'effective', 'guiltless', 'prudent', 'amazes', 'spellbinding', 'survivor', 'zest', 'celebratory', 'charm', 'realistic', 'effusive', 'desirable', 'clean', 'purposeful', 'irreplaceable', 'advantages', 'appreciable', 'helped', 'benevolence', 'intimacy', 'sharpest', 'beutifully', 'appreciates', 'exciting', 'daring', 'inviolable', 'eyecatch', 'succeeds', 'satisfies', 'sweetheart', 'fervor', 'marvelled', 'hallowed', 'attractive', 'nourishment', 'luxurious', 'felicitous', 'safely', 'smoothly', 'glee', 'enough', 'conscientious', 'ardently', 'exceeding', 'stylized', 'charmingly', 'ingenuous', 'playful', 'insightful', 'believeable', 'adored', 'luxuriant', 'charitable', 'confident', 'tenacity', 'educated', 'panoramic', 'affordable', 'soundness', 'rectification', 'improvement', 'endorses', 'outstrip', 'well-known', 'cushy', 'virtuous', 'relief', 'encourage', 'useful', 'enviable', 'bloom', 'wow', 'destiny', 'readily', 'realizable', 'fortune', 'solicitous', 'willingly', 'reclaim', 'work', 'gentlest', 'romantically', 'magical', 'modesty', 'marvel', 'excels', 'lucid', 'reassurance', 'pure', 'best-selling', 'supremacy', 'meaningful', 'overtakes', 'obtainable', 'positives', 'dominates', 'gainful', 'prize', 'honesty', 'commendably', 'principled', 'replaceable', 'winning', 'clear', 'pamperedly', 'revelation', 'industrious', 'tenacious', 'infallibility', 'elatedly', 'superiority', 'eventful', 'flawlessly', 'congratulation', 'encouragement', 'subsidize', 'eased', 'celebrated', 'personalized', 'reasoned', 'great', 'sporty', 'optimal', 'convient', 'award', 'courteous', 'capably', 'elite', 'achievible', 'excitement', 'divine', 'tougher', 'handsomely', 'stylish', 'well-rounded', 'devout', 'effortless', 'masters', 'upgradable', 'fabulous', 'fortunate', 'passionate', 'exonerate', 'striking', 'diplomatic', 'appropriate', 'noble', 'soothingly', 'vigilant', 'miracles', 'saver', 'empowerment', 'undaunted', 'geeky', 'pre-eminent', 'steady', 'gratifying', 'slick', 'peacekeepers', 'simplify', 'relent', 'timely', 'excelent', 'shine', 'cheerful', 'respect', 'succeeded', 'earnest', 'topnotch', 'pleasant', 'titillate', 'noteworthy', 'statuesque', 'hottest', 'non-violent', 'swank', 'leading', 'reverence', 'revitalize', 'agility', 'youthful', 'enticed', 'readable', 'fashionably', 'acumen', 'awards', 'recommended', 'dead-cheap', 'approve', 'lucrative', 'properly', 'patient', 'optimism', 'congratulatory', 'sumptuously', 'pampers', 'effortlessly', 'serenity', 'peerless', 'strongest', 'admiring', 'wonders', 'dependably', 'simpler', 'warm', 'exultation', 'trophy', 'windfall', 'transparent', 'convenient', 'everlasting', 'satisfactorily', 'benefactor', 'holy', 'capable', 'marvels', 'truthful', 'ilu', 'honored', 'tremendously', 'prowess', 'humane', 'cornerstone', 'decisiveness', 'painless', 'oasis', 'fairness', 'high-quality', 'undisputed', 'protective', 'striving', 'winnable', 'compliant', 'convincingly', 'dote', 'affectation', 'resilient', 'remarkable', 'afordable', 'plush', 'trustingly', 'reputation', 'exaltingly', 'glamorous', 'worth', 'beckoning', 'triumphal', 'correctly', 'winners', 'inventive', 'rejoicing', 'cooperatively', 'elevate', 'fantastically', 'grin', 'keen', 'mind-blowing', 'fresh', 'rapturously', 'fave', 'beautiful', 'flattering', 'invaluable', 'engrossing', 'protection', 'superior', 'restful', 'cashbacks', 'fond', 'assuring', 'illumine', 'neat', 'tranquility', 'accolades', 'sweet', 'dynamic', 'heroize', 'skillfully', 'exceptionally', 'bravery', 'peacefully', 'terrifically', 'win', 'exceeds', 'reconcile', 'laud', 'stirringly', 'scenic', 'backbone', 'relaxed', 'trustworthy', 'affinity', 'enlighten', 'record-setting', 'adventuresome', 'snappy', 'steadfastness', 'bountiful', 'dedicated', 'indulgence', 'surmount', 'cute', 'beckon', 'precisely', 'providence', 'amazingly', 'admirer', 'humor', 'sufficed', 'wholesome', 'gratification', 'humble', 'impassioned', 'enhancement', 'well-behaved', 'rejoice', 'unmatched', 'ebullience', 'intriguing', 'mesmerizes', 'jubiliant', 'ready', 'upscale', 'gush', 'enchantingly', 'righteousness', 'contrasty', 'entertain', 'galore', 'excellent', 'favor', 'high-spirited', 'overtake', 'recommend', 'polite', 'generously', 'profoundly', 'coherence', 'accomplishment', 'comely', 'lovely', 'openness', 'prudently', 'wonderful', 'cleanest', 'compatible', 'fondly', 'happy', 'extraordinary', 'premier', 'prosper', 'talent', 'unquestionable', 'tops', 'amiabily', 'blissfully', 'magnificently', 'persevere', 'achievement', 'glistening', 'brilliances', 'covenant', 'contentment', 'super', 'concise', 'impartial', 'innovative', 'righten', 'best-known', 'cashback', 'brand-new', 'constructive', 'suitable', 'astonishing', 'modest', 'enjoy', 'delectable', 'swanky', 'stylishly', 'well-wishers', 'upheld', 'pleasingly', 'individualized', 'entrust', 'glitter', 'improves', 'flashy', 'revival', 'pep', 'quieter', 'sparkle', 'verifiable', 'rewardingly', 'gorgeously', 'opulent', 'exhilarate', 'tempting', 'well', 'mercy', 'enthral', 'uphold', 'preferred', 'unbiased', 'unequivocal', 'brighten', 'empower', 'effusively', 'respectable', 'luxury', 'deserving', 'righteous', 'expansive', 'praiseworthy', 'audible', 'godsend', 'salutary', 'gratifies', 'whoa', 'instrumental', 'accurate', 'exultant', 'resolute', 'magnanimously', 'wealthy', 'tingle', 'excitedly', 'convience', 'inspirational', 'bonus', 'sensational', 'worthiness', 'excitingly', 'thrift', 'skill', 'rapture', 'trusted', 'gaily', 'outshine', 'enchanted', 'effectual', 'surreal', 'complementary', 'uplift', 'genuine', 'celebrate', 'thoughtful', 'willing', 'accolade', 'support', 'harmony', 'illustrious', 'brisk', 'clear-cut', 'rapturous', 'stunningly', 'encouragingly', 'savior', 'cheer', 'soundly', 'dignified', 'adoring', 'preferring', 'affordably', 'awesome', 'extol', 'recommendations', 'upliftingly', 'reforming', 'danke', 'gracious', 'entrancing', 'fortuitously', 'punctual', 'subsidizing', 'booming', 'modern', 'favorite', 'hooray', 'manageable', 'good', 'entice', 'brightest', 'feature-rich', 'titillating', 'silent', 'tempt', 'danken', 'handily', 'intelligence', 'comprehensive', 'magnificence', 'zeal', 'rock-star', 'spellbind', 'radiant', 'solid', 'popular', 'dotingly', 'courtly', 'reachable', 'comfortably', 'unconditional', 'engaging', 'admiringly', 'likes', 'clears', 'productive', 'prestigious', 'pamper', 'faith', 'enhanced', 'hard-working', 'entranced', 'intriguingly', 'counter-attack', 'advantageously', 'hardier', 'lucidly', 'refunded', 'enjoyable', 'darling', 'beautifully', 'greatness', 'inpressed', 'best', 'appeal', 'amity', 'poeticize', 'classy', 'beloved', 'ideal', 'overtaking', 'suavely', 'magnanimous', 'reasonably', 'glitz', 'majesty', 'fearlessly', 'sleek', 'skillful', 'peppy', 'spontaneous', 'delightfully', 'luckier', 'maturity', 'cajole', 'amiable', 'glorify', 'hospitable', 'excellant', 'complement', 'gladden', 'privileged', 'top-quality', 'plusses', 'nicest', 'enjoying', 'simplifies', 'sweeping', 'respectfully', 'merciful', 'self-satisfaction', 'triumphant', 'firmer', 'elation', 'exellent', 'joyously', 'recover', 'consistently', 'blameless', 'gaining', 'rapt', 'magnificent', 'flatteringly', 'rosy', 'gloriously', 'ergonomical', 'rejuvenate', 'proactive', 'fulfillment', 'fine', 'reverent', 'fanfare', 'respectful', 'astonishment', 'hearten', 'supurb', 'merriment', 'supporting', 'exult', 'graceful', 'zenith', 'praising', 'flourish', 'problem-free', 'enchant', 'captivating', 'illuminate', 'god-given', 'qualify', 'fortuitous', 'venerate', 'apotheosis', 'rightly', 'freedoms', 'reasonable', 'wellbeing', 'regally', 'happier', 'powerful', 'assuredly', 'proficient', 'quicker', 'fastest-growing', 'perfection', 'vivacious', 'orderly', 'proven', 'ecstasy', 'best-performing', 'affirmative', 'well-run', 'counter-attacks', 'dirt-cheap', 'better-known', 'luckiest', 'reliably', 'all-around', 'strikingly', 'dummy-proof', 'liberate', 'handy', 'thumb-up', 'boom', 'clearly', 'heroic', 'excitedness', 'ebulliently', 'gains', 'invaluablely', 'politeness', 'advocates', 'freedom', 'sensations', 'sufficiently', 'amaze', 'reverently', 'empathy', 'tantalizing', 'interests', 'sweetness', 'enliven', 'heartening', 'evenly', 'bargain', 'foremost', 'gratifyingly', 'preferes', 'prominence', 'tidy', 'impeccable', 'pretty', 'accessable', 'amenable', 'attentive', 'thriving', 'fervent', 'terrific', 'outdo', 'hail', 'immense', 'easygoing', 'stellarly', 'finest', 'warmer', 'faithful', 'rejoicingly', 'invulnerable', 'resourceful', 'easiest', 'calm', 'rockstars', 'illuminati', 'supurbly', 'maturely', 'well-bred', 'easing', 'chic', 'eloquently', 'virtue', 'fortitude', 'spectacular', 'gleeful', 'gratify', 'thrilled', 'fresher', 'responsive', 'irresistibly', 'aspire', 'richness', 'posh', 'extoll', 'favorable', 'sensitive', 'complements', 'fashionable', 'erudite', 'stupendously', 'liked', 'amiability', 'confidence', 'appreciated', 'fast', 'motivated', 'enhances', 'outsmart', 'unbound', 'smooth', 'dexterously', 'courageously', 'fantastic', 'smoothest', 'adroit', 'nobly', 'amicability', 'defeats', 'protect', 'advantageous', 'err-free', 'inspiring', 'monumentally', 'enlightenment', 'commitment', 'decent', 'gusto', 'inspiration', 'euphoric', 'thoughtfully', 'evocative', 'lighter', 'cohesive', 'staunch', 'dazzling', 'impressiveness', 'sumptuousness', 'distinctive', 'excellence', 'perseverance', 'steadfast', 'gutsy', 'breakthrough', 'dazzle', 'miraculously', 'revere', 'favored', 'fast-growing', 'progressive', 'sincerity', 'wonder', 'adequate', 'awarded', 'eyecatching', 'spacious', 'a+', 'interesting', 'paramount', 'recommendation', 'appreciatively', 'quiet', 'fav', 'likable', 'smiles', 'securely', 'morality', 'precious', 'awed', 'cleared', 'unencumbered', 'smoothes', 'exceptional', 'poise', 'dead-on', 'poignant', 'proving', 'rightful', 'better-than-expected', 'unwavering', 'eulogize', 'exhilaration', 'goodness', 'aver', 'idolize', 'reputable', 'raptureous', 'elegantly', 'problem-solver', 'thrillingly', 'enrapture', 'gems', 'fine-looking', 'miraculousness', 'spectacularly', 'envy', 'refund', 'boundless', 'famously', 'guarantee', 'decency', 'euphorically', 'sharper', 'variety', 'renowned', 'delightfulness', 'sparkling', 'solace', 'prosperous', 'competitive', 'distinction', 'issue-free', 'cozy', 'carefree', 'vibrant', 'patience', 'harmonize', 'ennoble', 'contribution', 'enjoyed', 'luster', 'smart', 'radiance', 'fair', 'refreshed', 'thrifty', 'triumph', 'unrivaled', 'polished', 'examplar', 'supporter', 'helping', 'ecenomical', 'obsessions', 'impartiality', 'idealize', 'adorable', 'graciousness', 'desirous', 'unabashed', 'impresses', 'glisten', 'excited', 'stunning', 'finely', 'enrichment', 'entertaining', 'masterpiece', 'luminous', 'amenity', 'feasible', 'kid-friendly', 'superb', 'comfy', 'boost', 'grandeur', 'heartily', 'willingness', 'ambitiously', 'adulation', 'agilely', 'energy-saving', 'toughest', 'unabashedly', 'auspicious', 'dignity', 'glimmer', 'sublime', 'excel', 'eloquent', 'diligence', 'privilege', 'infallibly', 'appealing', 'pleased', 'calming', 'spellbindingly', 'lionhearted', 'serene', 'valiantly', 'knowledgeable', 'astonish', 'unity', 'truthfully', 'cherish', 'flexible', 'resound', 'loving', 'enthralled', 'pardon', 'ingenuity', 'durable', 'warmly', 'thinner', 'electrify', 'piety', 'prolific', 'state-of-the-art', 'hug', 'sagacity', 'refined', 'relish', 'fertile', 'prestige', 'spirited', 'succes', 'elate', 'pleasurable', 'prodigy', 'wows', 'genial', 'eye-catching', 'selective', 'merit', 'paradise', 'usable', 'recomend', 'splendid', 'meticulous', 'fancier', 'improvements', 'amazement', 'calmness', 'goodwill', 'renaissance', 'happily', 'coherent', 'supportive', 'fairly', 'benefit', 'patiently', 'proper', 'thank', 'eye-catch', 'temptingly', 'sincerely', 'embolden', 'stimulating', 'alluringly', 'saintliness', 'credible', 'well-informed', 'neatly', 'delight', 'surpass', 'excites', 'proficiently', 'gratefully', 'beckoned', 'legendary', 'veritable', 'effusion', 'revolutionized', 'wholeheartedly', 'razor-sharp', 'mesmerizing', 'well-being', 'dumbfounding', 'agreeable', 'delicate', 'beneficially', 'loveliness', 'believable', 'impartially', 'spotless', 'streamlined', 'staunchness', 'gracefully', 'welcome', 'sincere', 'soulful', 'won', 'productively', 'tantalize', 'alluring', 'convenience', 'heartwarming', 'picturesque', 'awestruck', 'wisdom', 'robust', 'worked', 'passion', 'worthy', 'hands-down', 'trouble-free', 'genius', 'promoter', 'revolutionize', 'refinement', 'majestic', 'conciliate', 'fondness', 'trivially', 'harmoniously', 'succeed', 'deft', 'invigorating', 'snazzy', 'vigilance', 'impeccably', 'amusing', 'enthrall', 'simplifying', 'well-made', 'reforms', 'fascinate', 'easier', 'worthwhile', 'rapport', 'monumental', 'phenomenally', 'remedy', 'admirably', 'astoundingly', 'wonderfully', 'reaffirm', 'skilled', 'fame', 'revolutionizes', 'detachable', 'immaculately', 'incredible', 'enjoys', 'gratitude', 'responsibly', 'restructured', 'tenderly', 'intuitive', 'refreshing', 'astounding', 'avid', 'daringly', 'stronger', 'adaptable', 'unaffected', 'powerfully', 'gem', 'sensibly', 'prominent', 'reward', 'noiseless', 'influential', 'prefer', 'endorsed', 'remission', 'cleanliness', 'non-violence', 'adventurous', 'levity', 'success', 'dazzled', 'sophisticated', 'redeem', 'versatility', 'astutely', 'gallantly', 'strong', 'gifted', 'lover', 'futuristic', 'sensation', 'workable', 'spiritual', 'rectifying', 'renown', 'sturdier', 'intelligent', 'exuberantly', 'glorious', 'remarkably', 'harmonious', 'justly', 'admire', 'well-positioned', 'sustainability', 'obsession', 'exquisitely'}, {'have the foresight', 'get', 'bother', 'happen', 'care', 'condescend', 'manage', 'take the time', 'have the misfortune', 'take the opportunity', 'take the trouble', 'see fit'}, {'hope', 'fear', 'think', 'answer', 'warn', 'decide', 'recommend', 'claim', 'wonder', 'tell', 'state', 'promise', 'forget', 'realise', 'complain', 'repeat', 'threaten', 'beg', 'learn', 'instruct', 'feel', 'suggest', 'argue', 'expect', 'demand', 'swear', 'advise', 'insist', 'boast', 'reply', 'understand', 'mention', 'imagine', 'add', 'guarantee', 'remark', 'teach', 'forbid', 'know', 'request', 'prefer', 'reveal', 'admit', 'discover', 'doubt', 'invite', 'persuade', 'comment', 'report', 'discuss', 'suppose', 'estimate', 'confirm', 'ask', 'deny', 'explain', 'say', 'consider', 'propose', 'describe', 'see', 'remember', 'say\\tsee', 'guess', 'command', 'observe', 'agree', 'announce'}])"
      ]
     },
     "execution_count": 13,
     "metadata": {},
     "output_type": "execute_result"
    }
   ],
   "source": [
    "words.values()"
   ]
  },
  {
   "cell_type": "code",
   "execution_count": 168,
   "metadata": {},
   "outputs": [],
   "source": [
    "from collections import defaultdict\n",
    "import util\n",
    "import numpy as np\n",
    "\n",
    "\n",
    "def dict_features(tokens, feature_set):\n",
    "    ret = defaultdict(int) #dict((f, 0) for f in feature_set)\n",
    "    for t in tokens:\n",
    "        if t in feature_set:\n",
    "            ret[t] += 1\n",
    "    return ret\n",
    "\n",
    "\n",
    "feature_set = set(np.reshape(words.values(), -1))\n",
    "feature_set = feature_set.union(subjclues_set)\n",
    "\n",
    "\n"
   ]
  },
  {
   "cell_type": "code",
   "execution_count": 169,
   "metadata": {},
   "outputs": [
    {
     "name": "stdout",
     "output_type": "stream",
     "text": [
      "[defaultdict(<class 'int'>, {'insolent': 1})]\n",
      "[['this', 'is', 'a', 'test', '@user', 'and', 'a', 'sentence', 'insolent', 'gutless']]\n",
      "['this', 'is', 'a', 'test', '@user', 'and', 'a', 'sentence', 'insolent', 'gutless']\n"
     ]
    }
   ],
   "source": [
    "import nltk\n",
    "from nltk.tokenize import RegexpTokenizer\n",
    "from util import data_process, functions\n",
    "from nltk.stem.porter import PorterStemmer\n",
    "from sklearn.pipeline import TransformerMixin\n",
    "\n",
    "\n",
    "class TokenizerTransformer(TransformerMixin):\n",
    "    \n",
    "    def __init__(self):\n",
    "        self.normalizer = data_process.TweetNormalizer()\n",
    "        self.regex_word_tokenizer = RegexpTokenizer(r'[@]?\\w+')\n",
    "        stemmer = PorterStemmer()\n",
    "        stem = lambda ws: [stemmer.stem(w) for w in ws]\n",
    "        self.pipeline = util.compose(\n",
    "            self.normalizer.transform,\n",
    "            self.regex_word_tokenizer.tokenize,\n",
    "            # 10 times faster without stemming \n",
    "            # stem,\n",
    "        )\n",
    "        \n",
    "        self.fit = functions.const(self)\n",
    "        self.transform = self.pipeline\n",
    "\n",
    "\n",
    "def tokenize(xs):\n",
    "    regex_word_tokenizer = RegexpTokenizer(r'[@]?\\w+')\n",
    "    xs = data_process.normalize(xs)\n",
    "    pipeline = data_process.compose(\n",
    "        regex_word_tokenizer.tokenize,)\n",
    "    return map(pipeline, xs)\n",
    "\n",
    "\n",
    "xs_tok = tokenize(['this is a TEST. @user and a sentence. insolent, gutless'])\n",
    "xs_feat = map(lambda t: dict_features(t, feature_set), xs_tok)\n",
    "print(list(xs_feat))\n",
    "xs_tok = tokenize(['this is a TEST. @user and a sentence. insolent, gutless'])\n",
    "print(list(xs_tok))\n",
    "print(TokenizerTransformer().transform('this is a TEST. @user and a sentence. insolent, gutless'))"
   ]
  },
  {
   "cell_type": "code",
   "execution_count": 161,
   "metadata": {},
   "outputs": [
    {
     "name": "stdout",
     "output_type": "stream",
     "text": [
      "CPU times: user 6.6 s, sys: 281 ms, total: 6.88 s\n",
      "Wall time: 7.5 s\n"
     ]
    }
   ],
   "source": [
    "%%time\n",
    "tweet_tokenizer = TokenizerTransformer()\n",
    "full_data_count_vectorizer = fe.text.CountVectorizer(\n",
    "    analyzer=tweet_tokenizer.transform)\n",
    "full_data_count_vectorizer.fit_transform(df.body_content)\n"
   ]
  },
  {
   "cell_type": "code",
   "execution_count": 192,
   "metadata": {},
   "outputs": [],
   "source": [
    "texts_transformed = df.body_content.apply(TokenizerTransformer().transform)\n",
    "text_lens = texts_transformed.apply(len)"
   ]
  },
  {
   "cell_type": "code",
   "execution_count": 202,
   "metadata": {},
   "outputs": [],
   "source": [
    "uniq_words = set([i for sublist in texts_transformed.values.tolist() for i in sublist])\n",
    "feature_set_limited = feature_set.intersection(uniq_words)"
   ]
  },
  {
   "cell_type": "code",
   "execution_count": 204,
   "metadata": {},
   "outputs": [
    {
     "name": "stdout",
     "output_type": "stream",
     "text": [
      "6887\n",
      "4114\n"
     ]
    }
   ],
   "source": [
    "print(len(feature_set))\n",
    "print(len(feature_set_limited))"
   ]
  },
  {
   "cell_type": "code",
   "execution_count": 190,
   "metadata": {},
   "outputs": [
    {
     "data": {
      "text/plain": [
       "53"
      ]
     },
     "execution_count": 190,
     "metadata": {},
     "output_type": "execute_result"
    }
   ],
   "source": [
    "text_lens.max()"
   ]
  },
  {
   "cell_type": "code",
   "execution_count": 173,
   "metadata": {},
   "outputs": [
    {
     "name": "stdout",
     "output_type": "stream",
     "text": [
      "[[0. 0. 1. 0. 0. 0. 0. 0. 0. 0. 0. 0. 0. 0. 0. 0. 0. 0. 0. 0. 0. 0. 0. 0.\n",
      "  0. 0. 0. 0. 0. 0. 0. 0. 0. 0. 0. 0. 0. 0. 0. 0. 0. 0. 0. 0. 0. 0. 0. 0.\n",
      "  0. 0. 0. 0. 0. 0. 0. 0. 0. 0. 0. 0. 0. 0. 0. 0. 0. 0. 0. 0. 0. 0. 0. 0.\n",
      "  0. 0. 0. 0. 0. 0. 0. 0. 0. 0. 0. 0. 0. 0. 0. 0. 0. 0. 0. 0. 0. 0. 0. 0.\n",
      "  0. 0. 1. 0. 0. 0. 0. 0. 0. 0. 0. 0. 0. 0. 0. 0. 0. 0. 0. 0. 0. 0. 0. 0.\n",
      "  0. 0. 0. 0. 0. 0. 0. 0. 0. 0. 0. 0. 0. 0. 0. 0. 0. 0. 0. 0. 0. 0. 0. 0.\n",
      "  0. 0. 0. 0. 0. 0. 0. 0. 0. 0. 0. 0. 0. 0. 0. 0. 0. 0. 0. 0. 0. 0. 0. 0.\n",
      "  0. 0. 0. 0. 0. 0. 0. 0. 0. 0. 0. 0. 0. 0. 0. 0. 0. 0. 0. 0. 0. 0. 0. 0.\n",
      "  0. 0. 0. 0. 0.]\n",
      " [1. 1. 0. 0. 0. 0. 0. 0. 0. 0. 0. 0. 0. 0. 0. 0. 0. 0. 0. 0. 0. 0. 0. 0.\n",
      "  0. 0. 0. 0. 0. 0. 0. 0. 0. 0. 0. 0. 0. 0. 0. 0. 0. 0. 0. 0. 0. 0. 0. 0.\n",
      "  0. 0. 0. 0. 0. 0. 0. 0. 0. 0. 0. 0. 0. 0. 0. 0. 0. 0. 0. 0. 0. 0. 0. 0.\n",
      "  0. 0. 0. 0. 0. 0. 0. 0. 0. 0. 0. 0. 0. 0. 0. 0. 0. 0. 0. 1. 0. 0. 0. 0.\n",
      "  0. 0. 0. 0. 0. 0. 0. 0. 0. 0. 0. 0. 0. 0. 0. 0. 0. 0. 0. 0. 0. 0. 0. 0.\n",
      "  0. 0. 0. 0. 0. 0. 0. 0. 0. 0. 0. 0. 0. 0. 0. 0. 0. 0. 0. 0. 0. 0. 0. 0.\n",
      "  0. 0. 0. 0. 0. 0. 0. 0. 0. 0. 0. 0. 0. 0. 0. 0. 0. 0. 0. 0. 0. 0. 0. 0.\n",
      "  0. 0. 0. 0. 0. 1. 0. 0. 0. 0. 0. 0. 0. 0. 0. 0. 0. 0. 0. 0. 0. 0. 0. 0.\n",
      "  0. 0. 0. 0. 0.]\n",
      " [0. 0. 0. 0. 0. 0. 0. 0. 0. 0. 0. 0. 0. 0. 0. 0. 0. 0. 0. 0. 0. 0. 0. 0.\n",
      "  0. 0. 0. 0. 0. 0. 0. 0. 0. 0. 0. 0. 0. 0. 0. 0. 0. 0. 0. 0. 0. 0. 0. 0.\n",
      "  0. 0. 0. 0. 0. 0. 0. 0. 0. 0. 0. 0. 0. 0. 0. 0. 0. 0. 0. 0. 0. 0. 0. 0.\n",
      "  0. 0. 0. 0. 0. 0. 0. 0. 0. 0. 0. 0. 0. 0. 0. 0. 0. 0. 0. 0. 0. 0. 0. 0.\n",
      "  0. 0. 0. 0. 0. 0. 0. 0. 0. 0. 0. 0. 0. 0. 0. 0. 0. 0. 0. 0. 0. 0. 0. 0.\n",
      "  0. 0. 0. 0. 0. 0. 0. 0. 0. 0. 0. 0. 0. 0. 0. 0. 0. 0. 0. 0. 0. 0. 0. 0.\n",
      "  0. 0. 0. 0. 0. 0. 0. 0. 0. 0. 0. 0. 0. 0. 0. 0. 0. 0. 0. 0. 0. 0. 0. 0.\n",
      "  0. 0. 0. 0. 0. 0. 0. 0. 0. 0. 0. 0. 0. 0. 0. 0. 0. 0. 0. 0. 0. 0. 0. 0.\n",
      "  0. 0. 0. 0. 0.]\n",
      " [0. 0. 0. 0. 0. 0. 0. 0. 0. 0. 0. 0. 0. 0. 0. 0. 0. 0. 0. 0. 0. 0. 0. 0.\n",
      "  0. 0. 0. 0. 0. 0. 0. 0. 0. 0. 0. 0. 0. 0. 0. 0. 0. 0. 0. 0. 0. 0. 0. 0.\n",
      "  0. 0. 0. 0. 0. 0. 0. 0. 0. 0. 0. 0. 0. 0. 0. 0. 0. 0. 0. 0. 0. 0. 0. 0.\n",
      "  0. 0. 0. 0. 0. 0. 0. 0. 0. 0. 0. 0. 0. 0. 0. 0. 0. 0. 0. 0. 0. 0. 0. 0.\n",
      "  0. 0. 0. 0. 0. 0. 0. 0. 0. 0. 0. 0. 0. 0. 0. 0. 0. 0. 0. 0. 0. 0. 0. 0.\n",
      "  0. 0. 0. 0. 0. 0. 0. 0. 0. 0. 0. 0. 0. 0. 0. 0. 0. 0. 0. 0. 0. 0. 0. 0.\n",
      "  0. 0. 0. 0. 0. 0. 0. 0. 0. 0. 0. 0. 0. 0. 0. 0. 0. 0. 0. 0. 0. 0. 0. 0.\n",
      "  0. 0. 0. 0. 0. 0. 0. 0. 0. 0. 0. 0. 0. 0. 0. 0. 0. 0. 0. 0. 0. 0. 0. 0.\n",
      "  0. 0. 0. 0. 0.]]\n",
      "[[0. 0. 0. 0. 0. 0. 0. 0. 0. 0. 0. 0. 0. 0. 0. 0. 0. 0. 0. 0. 0. 0. 0. 0.\n",
      "  0. 0. 0. 0. 0. 0. 0. 0. 0. 0. 0. 0. 0. 0. 0. 0. 0. 0. 0. 0. 0. 0. 0. 0.\n",
      "  0. 0. 0. 0. 0. 0. 0. 0. 0. 0. 0. 0. 0. 0. 0. 0. 0. 0. 0. 0. 0. 0. 0. 0.\n",
      "  0. 0. 0. 0. 0. 0. 0. 0. 0. 0. 0. 0. 0. 0. 0. 0. 0. 0. 0. 0. 0. 0. 0. 0.\n",
      "  0. 0. 0. 0. 0. 0. 0. 0. 0. 0. 0. 0. 0. 0. 0. 0. 0. 0. 0. 0. 0. 0. 0. 0.\n",
      "  0. 0. 0. 0. 0. 0. 0. 0. 0. 0. 0. 0. 0. 0. 0. 0. 0. 0. 0. 0. 0. 0. 0. 0.\n",
      "  0. 0. 0. 0. 0. 0. 0. 0. 0. 0. 0. 0. 0. 0. 0. 0. 0. 0. 0. 0. 0. 0. 0. 0.\n",
      "  0. 0. 0. 0. 0. 0. 0. 0. 0. 0. 0. 0. 0. 0. 0. 0. 0. 0. 0. 0. 0. 0. 0. 0.\n",
      "  0. 0. 0. 0. 0.]]\n"
     ]
    }
   ],
   "source": [
    "import sklearn.pipeline as pipe\n",
    "from util import pipeutil\n",
    "\n",
    "def lexical_feat_pipeline():\n",
    "    dict_vectorizer_lex = fe.DictVectorizer()\n",
    "    dict_vectorizer_empath = fe.DictVectorizer()\n",
    "    \n",
    "    lex_empath_pipe = pipeutil.union(\n",
    "        pipeutil.pipe(\n",
    "            lambda x: dict_features(x, feature_set),\n",
    "            dict_vectorizer_lex),\n",
    "        pipeutil.pipe(\n",
    "            lexicon.analyze,\n",
    "            dict_vectorizer_empath\n",
    "        ))\n",
    "    \n",
    "    return lex_empath_pipe\n",
    "\n",
    "\n",
    "xs_tok = tokenize(df.body_content.iloc[:4])\n",
    "pipeline = lexical_feat_pipeline()\n",
    "print(pipeline.fit_transform(list(xs_tok)).todense())\n",
    "print(pipeline.transform(list(tokenize(['insolent']))).todense())\n"
   ]
  },
  {
   "cell_type": "code",
   "execution_count": 53,
   "metadata": {},
   "outputs": [],
   "source": [
    "from util.pipeutil import GlobalTransform\n",
    "\n",
    "\n",
    "def network_features(df):\n",
    "    maybe_empty_list = lambda obj: obj if isinstance(obj, list) else []\n",
    "    filter_tweeting_user = lambda atreplies, username: [\n",
    "        (r, 1) for r in maybe_empty_list(atreplies) \n",
    "        if r[1:] != username]\n",
    "    \n",
    "    return map(dict, \n",
    "        (filter_tweeting_user(atreplies, username) \n",
    "        for atreplies, username in zip(df.body_atreplies, df.user_handle)))\n",
    "\n",
    "def network_feat_pipeline():\n",
    "    dict_vectorizer = fe.DictVectorizer()\n",
    "    return pipeutil.pipe(\n",
    "        GlobalTransform(network_features), \n",
    "        dict_vectorizer)"
   ]
  },
  {
   "cell_type": "code",
   "execution_count": 44,
   "metadata": {},
   "outputs": [
    {
     "data": {
      "text/plain": [
       "[{'@el_pais': 1},\n",
       " {},\n",
       " {},\n",
       " {'@clarincom': 1,\n",
       "  '@la100fm': 1,\n",
       "  '@telefecom': 1,\n",
       "  '@bairesdirecto': 1,\n",
       "  '@dariobarassi': 1},\n",
       " {},\n",
       " {},\n",
       " {},\n",
       " {},\n",
       " {'@Ebooksreport': 1, '@USATODAY': 1},\n",
       " {'@guardian': 1}]"
      ]
     },
     "execution_count": 44,
     "metadata": {},
     "output_type": "execute_result"
    }
   ],
   "source": [
    "list(network_features(df.iloc[20:30]))"
   ]
  },
  {
   "cell_type": "code",
   "execution_count": 21,
   "metadata": {},
   "outputs": [],
   "source": [
    "import keras.preprocessing.text as kpt\n",
    "\n",
    "tok = kpt.Tokenizer()\n",
    "texts = \"this is the first text\", \"some other second document\"\n",
    "tok.fit_on_texts(texts)\n"
   ]
  },
  {
   "cell_type": "code",
   "execution_count": 22,
   "metadata": {},
   "outputs": [
    {
     "name": "stdout",
     "output_type": "stream",
     "text": [
      "[['@user', 'a', 'korean', 'american', 'man', 'detained', 'in', 'north', 'korea', 'has', 'reportedly', 'confessed', 'to', 'trying', '@url'], ['@user', '@user', '@user', '@user', 'meanwhile', 'culture', 'economic', 'shifts', 'left', 'both', 'irrelevant', 'but', 'still', 'sizeable', 'demographics']]\n"
     ]
    }
   ],
   "source": [
    "print(util.compose(tokenize, list)(df.body_content.head(n=2)))\n"
   ]
  },
  {
   "cell_type": "code",
   "execution_count": 23,
   "metadata": {},
   "outputs": [
    {
     "name": "stdout",
     "output_type": "stream",
     "text": [
      "CPU times: user 1min 15s, sys: 2.81 s, total: 1min 18s\n",
      "Wall time: 1min 19s\n"
     ]
    }
   ],
   "source": [
    "%%time\n",
    "from util import gloveutil\n",
    "\n",
    "# fit CountVectorizer on entire dataset and later use it for\n",
    "# word-to-index mapping?\n",
    "\n",
    "glove_200 = gloveutil.load_glove(const.FileManager.GLOVE_200)"
   ]
  },
  {
   "cell_type": "code",
   "execution_count": 39,
   "metadata": {},
   "outputs": [
    {
     "name": "stdout",
     "output_type": "stream",
     "text": [
      "CPU times: user 164 ms, sys: 12.9 ms, total: 177 ms\n",
      "Wall time: 178 ms\n"
     ]
    }
   ],
   "source": [
    "%%time \n",
    "embedding_matrix = gloveutil.glove_to_embedding_matrix(\n",
    "    glove_200, full_data_count_vectorizer.vocabulary_)\n"
   ]
  },
  {
   "cell_type": "code",
   "execution_count": 155,
   "metadata": {},
   "outputs": [],
   "source": [
    "def network_cues_model(input_shape):\n",
    "    #model = Sequential()\n",
    "    #model.add(Dense(100, input_shape=input_shape, activation='relu'))\n",
    "    #model.add(Dense(100, input_shape=input_shape, activation='relu'))\n",
    "    xs = keras.Input(shape=input_shape)\n",
    "    ys = keras.layers.Dense(100)(xs)\n",
    "    ys = keras.layers.Dense(100)(ys)\n",
    "    return xs, ys, Model(xs, ys)\n",
    "\n",
    "from keras import Sequential\n",
    "from keras.preprocessing.text import Tokenizer\n",
    "from keras.preprocessing.sequence import pad_sequences\n",
    "from keras.layers import Dense, Input, GlobalMaxPooling1D\n",
    "from keras.layers import Conv1D, MaxPooling1D, Embedding\n",
    "from keras.models import Model\n",
    "from sklearn.model_selection import train_test_split\n",
    "from keras.utils import to_categorical\n",
    "from util import pipeutil\n",
    "\n",
    "def sequence_model(embedding_matrix, word_index, max_sequence_length):\n",
    "    \"\"\"\n",
    "    embedding_matrix: matrix of 200-dim GloVe embeddings\n",
    "    word_index: word-to-index dictionary\n",
    "    \"\"\"\n",
    "    embedding_dim = 200\n",
    "    num_words = len(word_index)\n",
    "    \n",
    "    sequence_input = Input(\n",
    "      shape=(max_sequence_length,), dtype='int32')\n",
    "    embedding_layer = Embedding(\n",
    "      num_words, embedding_dim, weights=[embedding_matrix],\n",
    "      input_length=max_sequence_length, trainable=False)\n",
    "    \n",
    "    embedded_sequences = embedding_layer(sequence_input)\n",
    "\n",
    "    x = Conv1D(100, 5, activation='relu')(embedded_sequences)\n",
    "    x = MaxPooling1D(5)(x)\n",
    "    x = Conv1D(100, 5, activation='relu')(x)\n",
    "    x = GlobalMaxPooling1D()(x)\n",
    "    # x = keras.layers.Flatten()(x)\n",
    "    x = Dense(100, activation='relu')(x)\n",
    "\n",
    "    return sequence_input, x, Model(sequence_input, x)\n",
    "\n",
    "\n",
    "import keras\n",
    "def full_model(ys_left, ys_right):\n",
    "    ys_merged = keras.layers.concatenate([ys_left, ys_right])\n",
    "    ys_out = keras.layers.Dense(100)(ys_merged)\n",
    "    return keras.Model(\n",
    "      inputs=[xs_left, xs_right], outputs=ys_merged)\n",
    "\n",
    "\n",
    "def get_network_lex_cues_pipe():\n",
    "    # TODO this can be done prior to iteration\n",
    "    # network_feat_pipeline is too slow\n",
    "    #net_pipe = network_feat_pipeline()\n",
    "    #net_pipe = pipeutil.pipe(\n",
    "    #    GlobalTransform(lambda df: df.body_atreplies))\n",
    "    \n",
    "    cues_pipe = pipeutil.pipe(\n",
    "        GlobalTransform(lambda df: df.body_content),\n",
    "        TokenizerTransformer().transform,\n",
    "        lexical_feat_pipeline())\n",
    "    return pipeutil.union(cues_pipe)\n",
    "\n"
   ]
  },
  {
   "cell_type": "code",
   "execution_count": 156,
   "metadata": {},
   "outputs": [],
   "source": [
    "loh = pd.get_dummies(df.label)\n",
    "df = df.assign(label_onehot=loh.values.tolist())"
   ]
  },
  {
   "cell_type": "code",
   "execution_count": 157,
   "metadata": {},
   "outputs": [
    {
     "data": {
      "text/plain": [
       "[1, 0]"
      ]
     },
     "execution_count": 157,
     "metadata": {},
     "output_type": "execute_result"
    }
   ],
   "source": [
    "def to_sequence(index, text):\n",
    "    return [index[w] for w in text if w in index]\n",
    "to_sequence({'a': 0, 'b': 1}, ['b', 'a'])"
   ]
  },
  {
   "cell_type": "code",
   "execution_count": 207,
   "metadata": {},
   "outputs": [],
   "source": [
    "#preprocess_nl = get_network_lex_cues_pipe()\n",
    "#%time xs_nl = preprocess_nl.fit_transform(df)"
   ]
  },
  {
   "cell_type": "code",
   "execution_count": null,
   "metadata": {},
   "outputs": [],
   "source": [
    "\n",
    "preprocess_nl = get_network_lex_cues_pipe()"
   ]
  },
  {
   "cell_type": "code",
   "execution_count": 191,
   "metadata": {},
   "outputs": [
    {
     "name": "stdout",
     "output_type": "stream",
     "text": [
      "0\n",
      "Train stats\n",
      "1    26917\n",
      "0    23752\n",
      "Name: label, dtype: int64\n",
      "Test stats\n",
      "1    26917\n",
      "0    23752\n",
      "Name: label, dtype: int64\n",
      "Preprocessing\n",
      "Preprocessed network & lexical cues.\n"
     ]
    },
    {
     "ename": "KeyboardInterrupt",
     "evalue": "",
     "output_type": "error",
     "traceback": [
      "\u001b[0;31m---------------------------------------------------------------------------\u001b[0m",
      "\u001b[0;31mKeyboardInterrupt\u001b[0m                         Traceback (most recent call last)",
      "\u001b[0;32m<ipython-input-191-f3dc8650d38e>\u001b[0m in \u001b[0;36m<module>\u001b[0;34m()\u001b[0m\n\u001b[1;32m     22\u001b[0m     \u001b[0mtweet_tokenizer\u001b[0m \u001b[0;34m=\u001b[0m \u001b[0mTokenizerTransformer\u001b[0m\u001b[0;34m(\u001b[0m\u001b[0;34m)\u001b[0m\u001b[0;34m\u001b[0m\u001b[0m\n\u001b[1;32m     23\u001b[0m \u001b[0;34m\u001b[0m\u001b[0m\n\u001b[0;32m---> 24\u001b[0;31m     \u001b[0mxs_train_cnn\u001b[0m \u001b[0;34m=\u001b[0m \u001b[0mlmap\u001b[0m\u001b[0;34m(\u001b[0m\u001b[0mtweet_tokenizer\u001b[0m\u001b[0;34m.\u001b[0m\u001b[0mtransform\u001b[0m\u001b[0;34m,\u001b[0m \u001b[0mdf_train\u001b[0m\u001b[0;34m.\u001b[0m\u001b[0mbody_content\u001b[0m\u001b[0;34m)\u001b[0m\u001b[0;34m\u001b[0m\u001b[0m\n\u001b[0m\u001b[1;32m     25\u001b[0m     \u001b[0mxs_test_cnn\u001b[0m \u001b[0;34m=\u001b[0m \u001b[0mlmap\u001b[0m\u001b[0;34m(\u001b[0m\u001b[0mtweet_tokenizer\u001b[0m\u001b[0;34m.\u001b[0m\u001b[0mtransform\u001b[0m\u001b[0;34m,\u001b[0m \u001b[0mdf_test\u001b[0m\u001b[0;34m.\u001b[0m\u001b[0mbody_content\u001b[0m\u001b[0;34m)\u001b[0m\u001b[0;34m\u001b[0m\u001b[0m\n\u001b[1;32m     26\u001b[0m \u001b[0;34m\u001b[0m\u001b[0m\n",
      "\u001b[0;32m<ipython-input-191-f3dc8650d38e>\u001b[0m in \u001b[0;36m<lambda>\u001b[0;34m(f, l)\u001b[0m\n\u001b[1;32m     19\u001b[0m \u001b[0;34m\u001b[0m\u001b[0m\n\u001b[1;32m     20\u001b[0m     \u001b[0mprint\u001b[0m\u001b[0;34m(\u001b[0m\u001b[0;34m\"Preprocessed network & lexical cues.\"\u001b[0m\u001b[0;34m)\u001b[0m\u001b[0;34m\u001b[0m\u001b[0m\n\u001b[0;32m---> 21\u001b[0;31m     \u001b[0mlmap\u001b[0m \u001b[0;34m=\u001b[0m \u001b[0;32mlambda\u001b[0m \u001b[0mf\u001b[0m\u001b[0;34m,\u001b[0m \u001b[0ml\u001b[0m\u001b[0;34m:\u001b[0m \u001b[0mlist\u001b[0m\u001b[0;34m(\u001b[0m\u001b[0mmap\u001b[0m\u001b[0;34m(\u001b[0m\u001b[0mf\u001b[0m\u001b[0;34m,\u001b[0m \u001b[0ml\u001b[0m\u001b[0;34m)\u001b[0m\u001b[0;34m)\u001b[0m\u001b[0;34m\u001b[0m\u001b[0m\n\u001b[0m\u001b[1;32m     22\u001b[0m     \u001b[0mtweet_tokenizer\u001b[0m \u001b[0;34m=\u001b[0m \u001b[0mTokenizerTransformer\u001b[0m\u001b[0;34m(\u001b[0m\u001b[0;34m)\u001b[0m\u001b[0;34m\u001b[0m\u001b[0m\n\u001b[1;32m     23\u001b[0m \u001b[0;34m\u001b[0m\u001b[0m\n",
      "\u001b[0;32m~/Documents/faks/seminar/util/__init__.py\u001b[0m in \u001b[0;36m<lambda>\u001b[0;34m(value)\u001b[0m\n\u001b[1;32m      3\u001b[0m \u001b[0;32mdef\u001b[0m \u001b[0mcompose\u001b[0m\u001b[0;34m(\u001b[0m\u001b[0;34m*\u001b[0m\u001b[0mfs\u001b[0m\u001b[0;34m)\u001b[0m\u001b[0;34m:\u001b[0m\u001b[0;34m\u001b[0m\u001b[0m\n\u001b[1;32m      4\u001b[0m   \u001b[0;32mreturn\u001b[0m \u001b[0;32mlambda\u001b[0m \u001b[0mvalue\u001b[0m\u001b[0;34m:\u001b[0m\u001b[0;31m \u001b[0m\u001b[0;31m\\\u001b[0m\u001b[0;34m\u001b[0m\u001b[0m\n\u001b[0;32m----> 5\u001b[0;31m     \u001b[0mfunctools\u001b[0m\u001b[0;34m.\u001b[0m\u001b[0mreduce\u001b[0m\u001b[0;34m(\u001b[0m\u001b[0;32mlambda\u001b[0m \u001b[0mv\u001b[0m\u001b[0;34m,\u001b[0m \u001b[0mf\u001b[0m\u001b[0;34m:\u001b[0m \u001b[0mf\u001b[0m\u001b[0;34m(\u001b[0m\u001b[0mv\u001b[0m\u001b[0;34m)\u001b[0m\u001b[0;34m,\u001b[0m \u001b[0mfs\u001b[0m\u001b[0;34m,\u001b[0m \u001b[0mvalue\u001b[0m\u001b[0;34m)\u001b[0m\u001b[0;34m\u001b[0m\u001b[0m\n\u001b[0m\u001b[1;32m      6\u001b[0m \u001b[0;34m\u001b[0m\u001b[0m\n\u001b[1;32m      7\u001b[0m \u001b[0;34m\u001b[0m\u001b[0m\n",
      "\u001b[0;32m~/Documents/faks/seminar/util/__init__.py\u001b[0m in \u001b[0;36m<lambda>\u001b[0;34m(v, f)\u001b[0m\n\u001b[1;32m      3\u001b[0m \u001b[0;32mdef\u001b[0m \u001b[0mcompose\u001b[0m\u001b[0;34m(\u001b[0m\u001b[0;34m*\u001b[0m\u001b[0mfs\u001b[0m\u001b[0;34m)\u001b[0m\u001b[0;34m:\u001b[0m\u001b[0;34m\u001b[0m\u001b[0m\n\u001b[1;32m      4\u001b[0m   \u001b[0;32mreturn\u001b[0m \u001b[0;32mlambda\u001b[0m \u001b[0mvalue\u001b[0m\u001b[0;34m:\u001b[0m\u001b[0;31m \u001b[0m\u001b[0;31m\\\u001b[0m\u001b[0;34m\u001b[0m\u001b[0m\n\u001b[0;32m----> 5\u001b[0;31m     \u001b[0mfunctools\u001b[0m\u001b[0;34m.\u001b[0m\u001b[0mreduce\u001b[0m\u001b[0;34m(\u001b[0m\u001b[0;32mlambda\u001b[0m \u001b[0mv\u001b[0m\u001b[0;34m,\u001b[0m \u001b[0mf\u001b[0m\u001b[0;34m:\u001b[0m \u001b[0mf\u001b[0m\u001b[0;34m(\u001b[0m\u001b[0mv\u001b[0m\u001b[0;34m)\u001b[0m\u001b[0;34m,\u001b[0m \u001b[0mfs\u001b[0m\u001b[0;34m,\u001b[0m \u001b[0mvalue\u001b[0m\u001b[0;34m)\u001b[0m\u001b[0;34m\u001b[0m\u001b[0m\n\u001b[0m\u001b[1;32m      6\u001b[0m \u001b[0;34m\u001b[0m\u001b[0m\n\u001b[1;32m      7\u001b[0m \u001b[0;34m\u001b[0m\u001b[0m\n",
      "\u001b[0;32m~/Documents/faks/seminar/util/data_process.py\u001b[0m in \u001b[0;36mtransform\u001b[0;34m(self, x)\u001b[0m\n\u001b[1;32m     52\u001b[0m \u001b[0;34m\u001b[0m\u001b[0m\n\u001b[1;32m     53\u001b[0m   \u001b[0;32mdef\u001b[0m \u001b[0mtransform\u001b[0m\u001b[0;34m(\u001b[0m\u001b[0mself\u001b[0m\u001b[0;34m,\u001b[0m \u001b[0mx\u001b[0m\u001b[0;34m)\u001b[0m\u001b[0;34m:\u001b[0m\u001b[0;34m\u001b[0m\u001b[0m\n\u001b[0;32m---> 54\u001b[0;31m     \u001b[0;32mreturn\u001b[0m \u001b[0mself\u001b[0m\u001b[0;34m.\u001b[0m\u001b[0mpipeline\u001b[0m\u001b[0;34m(\u001b[0m\u001b[0mx\u001b[0m\u001b[0;34m)\u001b[0m\u001b[0;34m\u001b[0m\u001b[0m\n\u001b[0m\u001b[1;32m     55\u001b[0m \u001b[0;34m\u001b[0m\u001b[0m\n\u001b[1;32m     56\u001b[0m \u001b[0;34m\u001b[0m\u001b[0m\n",
      "\u001b[0;32m~/Documents/faks/seminar/util/__init__.py\u001b[0m in \u001b[0;36m<lambda>\u001b[0;34m(value)\u001b[0m\n\u001b[1;32m      3\u001b[0m \u001b[0;32mdef\u001b[0m \u001b[0mcompose\u001b[0m\u001b[0;34m(\u001b[0m\u001b[0;34m*\u001b[0m\u001b[0mfs\u001b[0m\u001b[0;34m)\u001b[0m\u001b[0;34m:\u001b[0m\u001b[0;34m\u001b[0m\u001b[0m\n\u001b[1;32m      4\u001b[0m   \u001b[0;32mreturn\u001b[0m \u001b[0;32mlambda\u001b[0m \u001b[0mvalue\u001b[0m\u001b[0;34m:\u001b[0m\u001b[0;31m \u001b[0m\u001b[0;31m\\\u001b[0m\u001b[0;34m\u001b[0m\u001b[0m\n\u001b[0;32m----> 5\u001b[0;31m     \u001b[0mfunctools\u001b[0m\u001b[0;34m.\u001b[0m\u001b[0mreduce\u001b[0m\u001b[0;34m(\u001b[0m\u001b[0;32mlambda\u001b[0m \u001b[0mv\u001b[0m\u001b[0;34m,\u001b[0m \u001b[0mf\u001b[0m\u001b[0;34m:\u001b[0m \u001b[0mf\u001b[0m\u001b[0;34m(\u001b[0m\u001b[0mv\u001b[0m\u001b[0;34m)\u001b[0m\u001b[0;34m,\u001b[0m \u001b[0mfs\u001b[0m\u001b[0;34m,\u001b[0m \u001b[0mvalue\u001b[0m\u001b[0;34m)\u001b[0m\u001b[0;34m\u001b[0m\u001b[0m\n\u001b[0m\u001b[1;32m      6\u001b[0m \u001b[0;34m\u001b[0m\u001b[0m\n\u001b[1;32m      7\u001b[0m \u001b[0;34m\u001b[0m\u001b[0m\n",
      "\u001b[0;32m~/Documents/faks/seminar/util/__init__.py\u001b[0m in \u001b[0;36m<lambda>\u001b[0;34m(v, f)\u001b[0m\n\u001b[1;32m      3\u001b[0m \u001b[0;32mdef\u001b[0m \u001b[0mcompose\u001b[0m\u001b[0;34m(\u001b[0m\u001b[0;34m*\u001b[0m\u001b[0mfs\u001b[0m\u001b[0;34m)\u001b[0m\u001b[0;34m:\u001b[0m\u001b[0;34m\u001b[0m\u001b[0m\n\u001b[1;32m      4\u001b[0m   \u001b[0;32mreturn\u001b[0m \u001b[0;32mlambda\u001b[0m \u001b[0mvalue\u001b[0m\u001b[0;34m:\u001b[0m\u001b[0;31m \u001b[0m\u001b[0;31m\\\u001b[0m\u001b[0;34m\u001b[0m\u001b[0m\n\u001b[0;32m----> 5\u001b[0;31m     \u001b[0mfunctools\u001b[0m\u001b[0;34m.\u001b[0m\u001b[0mreduce\u001b[0m\u001b[0;34m(\u001b[0m\u001b[0;32mlambda\u001b[0m \u001b[0mv\u001b[0m\u001b[0;34m,\u001b[0m \u001b[0mf\u001b[0m\u001b[0;34m:\u001b[0m \u001b[0mf\u001b[0m\u001b[0;34m(\u001b[0m\u001b[0mv\u001b[0m\u001b[0;34m)\u001b[0m\u001b[0;34m,\u001b[0m \u001b[0mfs\u001b[0m\u001b[0;34m,\u001b[0m \u001b[0mvalue\u001b[0m\u001b[0;34m)\u001b[0m\u001b[0;34m\u001b[0m\u001b[0m\n\u001b[0m\u001b[1;32m      6\u001b[0m \u001b[0;34m\u001b[0m\u001b[0m\n\u001b[1;32m      7\u001b[0m \u001b[0;34m\u001b[0m\u001b[0m\n",
      "\u001b[0;32m~/Documents/faks/seminar/util/data_process.py\u001b[0m in \u001b[0;36mremove_crap\u001b[0;34m(tweet_content)\u001b[0m\n\u001b[1;32m     40\u001b[0m \u001b[0;34m\u001b[0m\u001b[0m\n\u001b[1;32m     41\u001b[0m \u001b[0;32mdef\u001b[0m \u001b[0mremove_crap\u001b[0m\u001b[0;34m(\u001b[0m\u001b[0mtweet_content\u001b[0m\u001b[0;34m)\u001b[0m\u001b[0;34m:\u001b[0m\u001b[0;34m\u001b[0m\u001b[0m\n\u001b[0;32m---> 42\u001b[0;31m   \u001b[0;32mreturn\u001b[0m \u001b[0mre\u001b[0m\u001b[0;34m.\u001b[0m\u001b[0msub\u001b[0m\u001b[0;34m(\u001b[0m\u001b[0mregex_str\u001b[0m\u001b[0;34m,\u001b[0m \u001b[0mregex_normalize\u001b[0m\u001b[0;34m,\u001b[0m \u001b[0mtweet_content\u001b[0m\u001b[0;34m)\u001b[0m\u001b[0;34m\u001b[0m\u001b[0m\n\u001b[0m\u001b[1;32m     43\u001b[0m \u001b[0;34m\u001b[0m\u001b[0m\n\u001b[1;32m     44\u001b[0m \u001b[0;34m\u001b[0m\u001b[0m\n",
      "\u001b[0;32m/usr/local/Cellar/python/3.6.4_4/Frameworks/Python.framework/Versions/3.6/lib/python3.6/re.py\u001b[0m in \u001b[0;36msub\u001b[0;34m(pattern, repl, string, count, flags)\u001b[0m\n\u001b[1;32m    189\u001b[0m     \u001b[0ma\u001b[0m \u001b[0mcallable\u001b[0m\u001b[0;34m,\u001b[0m \u001b[0mit\u001b[0m\u001b[0;31m'\u001b[0m\u001b[0ms\u001b[0m \u001b[0mpassed\u001b[0m \u001b[0mthe\u001b[0m \u001b[0mmatch\u001b[0m \u001b[0mobject\u001b[0m \u001b[0;32mand\u001b[0m \u001b[0mmust\u001b[0m \u001b[0;32mreturn\u001b[0m\u001b[0;34m\u001b[0m\u001b[0m\n\u001b[1;32m    190\u001b[0m     a replacement string to be used.\"\"\"\n\u001b[0;32m--> 191\u001b[0;31m     \u001b[0;32mreturn\u001b[0m \u001b[0m_compile\u001b[0m\u001b[0;34m(\u001b[0m\u001b[0mpattern\u001b[0m\u001b[0;34m,\u001b[0m \u001b[0mflags\u001b[0m\u001b[0;34m)\u001b[0m\u001b[0;34m.\u001b[0m\u001b[0msub\u001b[0m\u001b[0;34m(\u001b[0m\u001b[0mrepl\u001b[0m\u001b[0;34m,\u001b[0m \u001b[0mstring\u001b[0m\u001b[0;34m,\u001b[0m \u001b[0mcount\u001b[0m\u001b[0;34m)\u001b[0m\u001b[0;34m\u001b[0m\u001b[0m\n\u001b[0m\u001b[1;32m    192\u001b[0m \u001b[0;34m\u001b[0m\u001b[0m\n\u001b[1;32m    193\u001b[0m \u001b[0;32mdef\u001b[0m \u001b[0msubn\u001b[0m\u001b[0;34m(\u001b[0m\u001b[0mpattern\u001b[0m\u001b[0;34m,\u001b[0m \u001b[0mrepl\u001b[0m\u001b[0;34m,\u001b[0m \u001b[0mstring\u001b[0m\u001b[0;34m,\u001b[0m \u001b[0mcount\u001b[0m\u001b[0;34m=\u001b[0m\u001b[0;36m0\u001b[0m\u001b[0;34m,\u001b[0m \u001b[0mflags\u001b[0m\u001b[0;34m=\u001b[0m\u001b[0;36m0\u001b[0m\u001b[0;34m)\u001b[0m\u001b[0;34m:\u001b[0m\u001b[0;34m\u001b[0m\u001b[0m\n",
      "\u001b[0;32m~/Documents/faks/seminar/util/data_process.py\u001b[0m in \u001b[0;36mregex_normalize\u001b[0;34m(match)\u001b[0m\n\u001b[1;32m     32\u001b[0m \u001b[0mregex_str\u001b[0m \u001b[0;34m=\u001b[0m \u001b[0;34m'|'\u001b[0m\u001b[0;34m.\u001b[0m\u001b[0mjoin\u001b[0m\u001b[0;34m(\u001b[0m\u001b[0;34m'\\\\s*{}\\\\s*'\u001b[0m\u001b[0;34m.\u001b[0m\u001b[0mformat\u001b[0m\u001b[0;34m(\u001b[0m\u001b[0mi\u001b[0m\u001b[0;34m)\u001b[0m \u001b[0;32mfor\u001b[0m \u001b[0mi\u001b[0m \u001b[0;32min\u001b[0m \u001b[0mvalues\u001b[0m\u001b[0;34m)\u001b[0m\u001b[0;34m\u001b[0m\u001b[0m\n\u001b[1;32m     33\u001b[0m \u001b[0;34m\u001b[0m\u001b[0m\n\u001b[0;32m---> 34\u001b[0;31m \u001b[0;32mdef\u001b[0m \u001b[0mregex_normalize\u001b[0m\u001b[0;34m(\u001b[0m\u001b[0mmatch\u001b[0m\u001b[0;34m)\u001b[0m\u001b[0;34m:\u001b[0m\u001b[0;34m\u001b[0m\u001b[0m\n\u001b[0m\u001b[1;32m     35\u001b[0m   \u001b[0;32mfor\u001b[0m \u001b[0mmatch_group\u001b[0m\u001b[0;34m,\u001b[0m \u001b[0mreplacement\u001b[0m \u001b[0;32min\u001b[0m \u001b[0menumerate\u001b[0m\u001b[0;34m(\u001b[0m\u001b[0mkeys\u001b[0m\u001b[0;34m,\u001b[0m \u001b[0mstart\u001b[0m\u001b[0;34m=\u001b[0m\u001b[0;36m1\u001b[0m\u001b[0;34m)\u001b[0m\u001b[0;34m:\u001b[0m\u001b[0;34m\u001b[0m\u001b[0m\n\u001b[1;32m     36\u001b[0m     \u001b[0;32mif\u001b[0m \u001b[0mmatch\u001b[0m\u001b[0;34m.\u001b[0m\u001b[0mgroup\u001b[0m\u001b[0;34m(\u001b[0m\u001b[0mmatch_group\u001b[0m\u001b[0;34m)\u001b[0m\u001b[0;34m:\u001b[0m\u001b[0;34m\u001b[0m\u001b[0m\n",
      "\u001b[0;31mKeyboardInterrupt\u001b[0m: "
     ]
    }
   ],
   "source": [
    "from sklearn.model_selection import KFold, StratifiedKFold\n",
    "kfold = StratifiedKFold(n_splits=2, random_state=const.SEED)\n",
    "\n",
    "for i, (itrain, itest) in enumerate(kfold.split(df, y=df.label)):\n",
    "    print(i)\n",
    "    \n",
    "    df_train = df.iloc[itrain]\n",
    "    ys_train = df.label.iloc[itrain]\n",
    "    df_test = df.iloc[itest]\n",
    "    ys_test = df.label.iloc[itest]\n",
    "    \n",
    "    print(\"Train stats\\n%s\" % df_train.label.value_counts())\n",
    "    print(\"Test stats\\n%s\" % df_test.label.value_counts())\n",
    "    \n",
    "    print(\"Preprocessing\")\n",
    "    preprocess_nl = get_network_lex_cues_pipe()\n",
    "    %time xs_train_nl = preprocess_nl.fit_transform(df_train)\n",
    "    %time xs_test_nl = preprocess_nl.transform(df_test)\n",
    "    \n",
    "    print(\"Preprocessed network & lexical cues.\")\n",
    "    lmap = lambda f, l: list(map(f, l))\n",
    "    tweet_tokenizer = TokenizerTransformer()\n",
    "    \n",
    "    xs_train_cnn = lmap(tweet_tokenizer.transform, df_train.body_content)\n",
    "    xs_test_cnn = lmap(tweet_tokenizer.transform, df_test.body_content)\n",
    "    \n",
    "    print(xs_train_cnn[:5])\n",
    "    print(xs_test_cnn[:5])\n",
    "\n",
    "    count_vectorizer = fe.text.CountVectorizer(\n",
    "        tokenizer=lambda x: x,\n",
    "        analyzer=lambda x: x)\n",
    "    count_vectorizer.fit(xs_train_cnn)\n",
    "    \n",
    "    to_seq_vocab = lambda l: lmap(\n",
    "        lambda x: to_sequence(count_vectorizer.vocabulary_, x), l)\n",
    "    print(to_seq_vocab(xs_train_cnn[:5]))\n",
    "    \n",
    "    max_seq_len = text_lens.max()\n",
    "    xs_train_cnn = pad_sequences(\n",
    "        to_seq_vocab(xs_train_cnn), maxlen=max_seq_len, padding='post')\n",
    "    xs_test_cnn = pad_sequences(\n",
    "        to_seq_vocab(xs_test_cnn), maxlen=max_seq_len, padding='post')\n",
    "    \n",
    "    embedding_matrix = gloveutil.glove_to_embedding_matrix(\n",
    "        glove_200, count_vectorizer.vocabulary_)\n",
    "    \n",
    "    print(\"Preprocessed CNN inputs, building model\")\n",
    "    print(\"NC shape\", xs_train_nl.shape[1:])\n",
    "    nl_in, nl_out, model_nl = network_cues_model(xs_train_nl.shape[1:])\n",
    "    cnn_in, cnn_out, model_cnn = sequence_model(\n",
    "        embedding_matrix, count_vectorizer.vocabulary_, max_seq_len)\n",
    "    \n",
    "    out_merged = keras.layers.concatenate([nl_out, cnn_out])\n",
    "    out = Dense(len(df.label.unique()), activation='softmax')(out_merged)\n",
    "    model = keras.Model(\n",
    "      inputs=[nl_in, cnn_in], outputs=out)\n",
    "    optimizer = keras.optimizers.Adam(lr=0.001, beta_1=0.9, beta_2=0.999)\n",
    "    \n",
    "    print(\"Compiling model\")\n",
    "    model.compile(\n",
    "      optimizer, \n",
    "      loss=keras.losses.categorical_crossentropy,\n",
    "      metrics=['accuracy'])\n",
    "    \n",
    "    print(\"Starting training.\")\n",
    "    model.fit([xs_train_nl, xs_train_cnn], ys_train,\n",
    "          batch_size=128,\n",
    "          epochs=10,\n",
    "          validation_data=([xs_test_nl, xs_test_cnn], ys_test),)\n",
    "    "
   ]
  },
  {
   "cell_type": "code",
   "execution_count": null,
   "metadata": {},
   "outputs": [],
   "source": [
    "from keras.layers import Input, Dense, Embedding, Conv2D, MaxPool2D\n",
    "from keras.layers import Reshape, Flatten, Dropout, Concatenate\n",
    "from keras.callbacks import ModelCheckpoint\n",
    "from keras.optimizers import Adam\n",
    "from keras.models import Model\n",
    "from sklearn.model_selection import train_test_split\n",
    "\n",
    "x, y, vocabulary, vocabulary_inv = load_data()\n",
    "X_train, X_test, y_train, y_test = train_test_split( x, y, test_size=0.2, random_state=42)\n",
    "\n",
    "sequence_length = x.shape[1]\n",
    "vocabulary_size = len(vocabulary_inv)\n",
    "embedding_dim = 256\n",
    "filter_sizes = [1, 1]\n",
    "num_filters = 512\n",
    "drop = 0.5\n",
    "\n",
    "epochs = 100\n",
    "batch_size = 30\n",
    "\n",
    "# this returns a tensor\n",
    "print(\"Creating Model...\")\n",
    "inputs = Input(shape=(sequence_length,), dtype='int32')\n",
    "embedding = Embedding(\n",
    "    input_dim=vocabulary_size, output_dim=embedding_dim, input_length=sequence_length)(inputs)\n",
    "reshape = Reshape((sequence_length,embedding_dim,1))(embedding)\n",
    "\n",
    "conv_0 = Conv2D(\n",
    "    num_filters, kernel_size=(filter_sizes[0], embedding_dim), \n",
    "    padding='valid', kernel_initializer='normal', activation='relu')(reshape)\n",
    "conv_1 = Conv2D(\n",
    "    num_filters, kernel_size=(filter_sizes[1], embedding_dim), \n",
    "    padding='valid', kernel_initializer='normal', activation='relu')(reshape)\n",
    "conv_2 = Conv2D(\n",
    "    num_filters, kernel_size=(filter_sizes[2], embedding_dim), \n",
    "    padding='valid', kernel_initializer='normal', activation='relu')(reshape)\n",
    "\n",
    "maxpool_0 = MaxPool2D(pool_size=(\n",
    "    sequence_length - filter_sizes[0] + 1, 1), strides=(1,1), padding='valid')(conv_0)\n",
    "maxpool_1 = MaxPool2D(pool_size=(\n",
    "    sequence_length - filter_sizes[1] + 1, 1), strides=(1,1), padding='valid')(conv_1)\n",
    "maxpool_2 = MaxPool2D(pool_size=(\n",
    "    sequence_length - filter_sizes[2] + 1, 1), strides=(1,1), padding='valid')(conv_2)\n",
    "\n",
    "concatenated_tensor = Concatenate(axis=1)([maxpool_0, maxpool_1, maxpool_2])\n",
    "flatten = Flatten()(concatenated_tensor)\n",
    "dropout = Dropout(drop)(flatten)\n",
    "output = Dense(units=2, activation='softmax')(dropout)\n",
    "\n",
    "# this creates a model that includes\n",
    "model = Model(inputs=inputs, outputs=output)\n",
    "\n",
    "checkpoint = ModelCheckpoint(\n",
    "    'weights.{epoch:03d}-{val_acc:.4f}.hdf5', \n",
    "    monitor='val_acc', \n",
    "    verbose=1, \n",
    "    save_best_only=True, \n",
    "    mode='auto')\n",
    "adam = Adam(lr=1e-4, beta_1=0.9, beta_2=0.999, epsilon=1e-08, decay=0.0)\n",
    "\n",
    "model.compile(optimizer=adam, loss='binary_crossentropy', metrics=['accuracy'])\n",
    "print(\"Traning Model...\")\n",
    "model.fit(\n",
    "    X_train, y_train, batch_size=batch_size, epochs=epochs, verbose=1, \n",
    "    callbacks=[checkpoint], validation_data=(X_test, y_test))"
   ]
  },
  {
   "cell_type": "code",
   "execution_count": null,
   "metadata": {},
   "outputs": [],
   "source": [
    "from keras import Sequential\n",
    "test_model = Sequential()\n",
    "test_model.add(Dense(200, input_shape=(200,)))"
   ]
  },
  {
   "cell_type": "code",
   "execution_count": null,
   "metadata": {},
   "outputs": [],
   "source": [
    "test_model.summary()"
   ]
  },
  {
   "cell_type": "code",
   "execution_count": null,
   "metadata": {},
   "outputs": [],
   "source": []
  }
 ],
 "metadata": {
  "kernelspec": {
   "display_name": "Python 3",
   "language": "python",
   "name": "python3"
  },
  "language_info": {
   "codemirror_mode": {
    "name": "ipython",
    "version": 3
   },
   "file_extension": ".py",
   "mimetype": "text/x-python",
   "name": "python",
   "nbconvert_exporter": "python",
   "pygments_lexer": "ipython3",
   "version": "3.6.4"
  }
 },
 "nbformat": 4,
 "nbformat_minor": 2
}
